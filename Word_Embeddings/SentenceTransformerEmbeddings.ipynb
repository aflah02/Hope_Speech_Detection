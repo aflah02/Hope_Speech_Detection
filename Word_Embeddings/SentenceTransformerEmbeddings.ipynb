{
 "cells": [
  {
   "cell_type": "code",
   "execution_count": 1,
   "metadata": {},
   "outputs": [
    {
     "name": "stderr",
     "output_type": "stream",
     "text": [
      "c:\\Kyode\\clg\\ml\\ML_Project\\venv\\lib\\site-packages\\tqdm\\auto.py:22: TqdmWarning: IProgress not found. Please update jupyter and ipywidgets. See https://ipywidgets.readthedocs.io/en/stable/user_install.html\n",
      "  from .autonotebook import tqdm as notebook_tqdm\n"
     ]
    }
   ],
   "source": [
    "from sentence_transformers import SentenceTransformer\n",
    "import pandas as pd\n",
    "import os\n",
    "from sklearn.model_selection import KFold\n",
    "import numpy as np\n",
    "from sklearn.decomposition import PCA"
   ]
  },
  {
   "cell_type": "code",
   "execution_count": 2,
   "metadata": {},
   "outputs": [],
   "source": [
    "parent_dir = os.path.join(os.path.abspath(os.path.join(os.getcwd(), os.pardir)))\n",
    "# train_file_path = '..\\Data\\PreprocessedData\\english_train_preprocess.csv'\n",
    "train_file_path = '..\\Data\\AugmentedData\\english_train_augmented.csv'\n",
    "dev_file_path = '..\\Data\\PreprocessedData\\english_dev_preprocess.csv'\n",
    "test_file_path = '..\\Data\\PreprocessedData\\english_test_preprocess.csv'\n",
    "df_english_train = pd.read_csv(train_file_path)\n",
    "df_english_dev = pd.read_csv(dev_file_path)\n",
    "df_english_test = pd.read_csv(test_file_path)"
   ]
  },
  {
   "cell_type": "markdown",
   "metadata": {},
   "source": [
    "#### Model 1: `all-mpnet-base-v2`"
   ]
  },
  {
   "cell_type": "code",
   "execution_count": 3,
   "metadata": {},
   "outputs": [],
   "source": [
    "model_1 = SentenceTransformer(\"all-mpnet-base-v2\")"
   ]
  },
  {
   "cell_type": "code",
   "execution_count": 5,
   "metadata": {},
   "outputs": [],
   "source": [
    "sent_embeddings_model1 = []\n",
    "# sent_embeddings_model1_pca = []\n",
    "train_encoded = model_1.encode(df_english_train[\"augmented_text\"].values)\n",
    "dev_encoded = model_1.encode(df_english_dev[\"preprocessed_text\"].values)\n",
    "test_encoded = model_1.encode(df_english_test[\"preprocessed_text\"].values)\n",
    "\n",
    "# pca = PCA(n_components=0.95)\n",
    "# train_vectorized = pca.fit_transform(train_encoded)\n",
    "# dev_vectorized = pca.transform(dev_encoded)\n",
    "# test_vectorized = pca.transform(test_encoded)\n",
    "\n",
    "sent_embeddings_model1.append((train_encoded, dev_encoded, test_encoded))\n",
    "# sent_embeddings_model1_pca.append((train_vectorized, dev_vectorized, test_vectorized))"
   ]
  },
  {
   "cell_type": "code",
   "execution_count": 8,
   "metadata": {},
   "outputs": [],
   "source": [
    "# m1_embedding_dump_path = '..\\Word_Embeddings\\Pre Computed Word Embeddings\\english_train_folds_sentence_model1_prePCA.npy'\n",
    "# m1_embedding_pca_dump_path = '..\\Word_Embeddings\\Pre Computed Word Embeddings\\english_train_folds_sentence_model1_postPCA.npy'\n",
    "m1_embedding_dump_path = '..\\Word_Embeddings\\\\Pre Computed Word Embeddings\\\\augmented_english_train_folds_sentence_model1_prePCA.npy'\n",
    "m1_embedding_pca_dump_path = '..\\Word_Embeddings\\Pre Computed Word Embeddings\\augmented_english_train_folds_sentence_model1_postPCA.npy'\n",
    "# net_path = os.path.join(parent_dir, m1_embedding_dump_path)"
   ]
  },
  {
   "cell_type": "code",
   "execution_count": 9,
   "metadata": {},
   "outputs": [
    {
     "name": "stderr",
     "output_type": "stream",
     "text": [
      "c:\\Kyode\\clg\\ml\\ML_Project\\venv\\lib\\site-packages\\numpy\\lib\\npyio.py:501: VisibleDeprecationWarning: Creating an ndarray from ragged nested sequences (which is a list-or-tuple of lists-or-tuples-or ndarrays with different lengths or shapes) is deprecated. If you meant to do this, you must specify 'dtype=object' when creating the ndarray.\n",
      "  arr = np.asanyarray(arr)\n"
     ]
    }
   ],
   "source": [
    "np.save(m1_embedding_dump_path, sent_embeddings_model1)\n",
    "# np.save(m1_embedding_pca_dump_path, sent_embeddings_model1_pca)"
   ]
  },
  {
   "cell_type": "markdown",
   "metadata": {},
   "source": [
    "#### Model 2: `all-MiniLM-L6-v2`"
   ]
  },
  {
   "cell_type": "code",
   "execution_count": 13,
   "metadata": {},
   "outputs": [],
   "source": [
    "model_2 = SentenceTransformer(\"all-MiniLM-L6-v2\")"
   ]
  },
  {
   "cell_type": "code",
   "execution_count": 14,
   "metadata": {},
   "outputs": [],
   "source": [
    "sent_embeddings_model2 = []\n",
    "sent_embeddings_model2_pca = []\n",
    "train_encoded = model_2.encode(df_english_train[\"preprocessed_text\"].values)\n",
    "dev_encoded = model_2.encode(df_english_dev[\"preprocessed_text\"].values)\n",
    "test_encoded = model_2.encode(df_english_test[\"preprocessed_text\"].values)\n",
    "\n",
    "pca = PCA(n_components=0.95)\n",
    "train_vectorized = pca.fit_transform(train_encoded)\n",
    "dev_vectorized = pca.transform(dev_encoded)\n",
    "test_vectorized = pca.transform(test_encoded)\n",
    "\n",
    "sent_embeddings_model2.append((train_encoded, dev_encoded, test_encoded))\n",
    "sent_embeddings_model2_pca.append((train_vectorized, dev_vectorized, test_vectorized))"
   ]
  },
  {
   "cell_type": "code",
   "execution_count": 16,
   "metadata": {},
   "outputs": [],
   "source": [
    "m2_embedding_dump_path = '..\\Word_Embeddings\\Pre Computed Word Embeddings\\english_train_folds_sentence_model2_prePCA.npy'\n",
    "m2_embedding_pca_dump_path = '..\\Word_Embeddings\\Pre Computed Word Embeddings\\english_train_folds_sentence_model2_postPCA.npy'\n",
    "# net_path = os.path.join(parent_dir, m1_embedding_dump_path)"
   ]
  },
  {
   "cell_type": "code",
   "execution_count": 17,
   "metadata": {},
   "outputs": [
    {
     "name": "stderr",
     "output_type": "stream",
     "text": [
      "c:\\Kyode\\clg\\ml\\ML_Project\\venv\\lib\\site-packages\\numpy\\lib\\npyio.py:501: VisibleDeprecationWarning: Creating an ndarray from ragged nested sequences (which is a list-or-tuple of lists-or-tuples-or ndarrays with different lengths or shapes) is deprecated. If you meant to do this, you must specify 'dtype=object' when creating the ndarray.\n",
      "  arr = np.asanyarray(arr)\n"
     ]
    }
   ],
   "source": [
    "np.save(m2_embedding_dump_path, sent_embeddings_model2)\n",
    "np.save(m2_embedding_pca_dump_path, sent_embeddings_model2_pca)"
   ]
  },
  {
   "cell_type": "code",
   "execution_count": null,
   "metadata": {},
   "outputs": [],
   "source": []
  }
 ],
 "metadata": {
  "kernelspec": {
   "display_name": "Python 3.10.2 ('venv': venv)",
   "language": "python",
   "name": "python3"
  },
  "language_info": {
   "codemirror_mode": {
    "name": "ipython",
    "version": 3
   },
   "file_extension": ".py",
   "mimetype": "text/x-python",
   "name": "python",
   "nbconvert_exporter": "python",
   "pygments_lexer": "ipython3",
   "version": "3.10.2"
  },
  "orig_nbformat": 4,
  "vscode": {
   "interpreter": {
    "hash": "fd949ee6353ffa8da7adb473cc2810b4b5aee9c3c37e455af5c40ec8a7a1d86b"
   }
  }
 },
 "nbformat": 4,
 "nbformat_minor": 2
}
