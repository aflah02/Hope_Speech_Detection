{
 "cells": [
  {
   "cell_type": "code",
   "execution_count": 1,
   "metadata": {},
   "outputs": [
    {
     "name": "stdout",
     "output_type": "stream",
     "text": [
      "--ip=127.0.0.1\n"
     ]
    }
   ],
   "source": [
    "from embeddings_loader import *\n",
    "from sklearn.svm import SVC\n",
    "from sklearn.model_selection import GridSearchCV\n",
    "from sklearn.metrics import f1_score\n",
    "from sklearn.metrics import accuracy_score\n",
    "from sklearn.metrics import confusion_matrix\n",
    "from sklearn.metrics import classification_report\n",
    "from sklearn.metrics import recall_score\n",
    "from sklearn.metrics import precision_score\n",
    "from sklearn.metrics import roc_auc_score\n",
    "from utils import *\n",
    "import numpy as np"
   ]
  },
  {
   "cell_type": "code",
   "execution_count": 2,
   "metadata": {},
   "outputs": [],
   "source": [
    "train_labels, dev_labels, test_labels = load_labels()"
   ]
  },
  {
   "cell_type": "code",
   "execution_count": 3,
   "metadata": {},
   "outputs": [],
   "source": [
    "label_replacement = {\n",
    "    'Hope_speech': 0,\n",
    "    'Non_hope_speech': 1,\n",
    "    'not-English': 2,\n",
    "}"
   ]
  },
  {
   "cell_type": "code",
   "execution_count": 4,
   "metadata": {},
   "outputs": [],
   "source": [
    "# Replace labels with numbers\n",
    "train_labels = [label_replacement[label] for label in train_labels]\n",
    "dev_labels = [label_replacement[label] for label in dev_labels]\n",
    "test_labels = [label_replacement[label] for label in test_labels]"
   ]
  },
  {
   "cell_type": "code",
   "execution_count": 5,
   "metadata": {},
   "outputs": [],
   "source": [
    "svm = SVC()\n",
    "gridsearch = GridSearchCV(svm, param_grid = {\n",
    "    \"C\" : [1, 0.5],\n",
    "    \"kernel\" : [\"linear\", \"poly\", \"rbf\", \"sigmoid\"]\n",
    "}, scoring = \"f1_micro\")"
   ]
  },
  {
   "cell_type": "markdown",
   "metadata": {},
   "source": [
    "### Glove Twitter 25"
   ]
  },
  {
   "cell_type": "code",
   "execution_count": 10,
   "metadata": {},
   "outputs": [],
   "source": [
    "gt25_train, gt25_dev, gt25_test = load_glove_twitter_25()"
   ]
  },
  {
   "cell_type": "code",
   "execution_count": 11,
   "metadata": {},
   "outputs": [],
   "source": [
    "# Set all NaN values to 0\n",
    "gt25_train = np.nan_to_num(gt25_train)\n",
    "gt25_dev = np.nan_to_num(gt25_dev)\n",
    "gt25_test = np.nan_to_num(gt25_test)"
   ]
  },
  {
   "cell_type": "code",
   "execution_count": 12,
   "metadata": {},
   "outputs": [],
   "source": [
    "grid_results = gridsearch.fit(gt25_train, train_labels)\n",
    "best_params = grid_results.best_params_\n",
    "svm = grid_results.best_estimator_"
   ]
  },
  {
   "cell_type": "code",
   "execution_count": 13,
   "metadata": {},
   "outputs": [
    {
     "data": {
      "text/plain": [
       "{'C': 1, 'kernel': 'poly'}"
      ]
     },
     "execution_count": 13,
     "metadata": {},
     "output_type": "execute_result"
    }
   ],
   "source": [
    "best_params"
   ]
  },
  {
   "cell_type": "code",
   "execution_count": 14,
   "metadata": {},
   "outputs": [],
   "source": [
    "svm = svm.fit(gt25_train, train_labels)\n",
    "save_model(svm, \"svm_gt25.joblib\")"
   ]
  },
  {
   "cell_type": "code",
   "execution_count": 15,
   "metadata": {},
   "outputs": [],
   "source": [
    "train_preds = svm.predict(gt25_train)\n",
    "dev_preds = svm.predict(gt25_dev)\n",
    "test_preds = svm.predict(gt25_test)"
   ]
  },
  {
   "cell_type": "code",
   "execution_count": 16,
   "metadata": {},
   "outputs": [
    {
     "name": "stdout",
     "output_type": "stream",
     "text": [
      "Accuracy Train:  0.9129250505228012\n",
      "Accuracy Dev:  0.9036229335209286\n",
      "Accuracy Test:  0.9111033028812369\n",
      "Weighted F1 Train:  0.8714427733234466\n",
      "Weighted F1 Dev:  0.85787410059692\n",
      "Weighted F1 Test:  0.8687225094212346\n",
      "Macro F1 Train:  0.3737144052960122\n",
      "Macro F1 Dev:  0.31645725548164577\n",
      "Macro F1 Test:  0.31782803211374644\n",
      "Micro F1 Train:  0.9129250505228012\n",
      "Micro F1 Dev:  0.9036229335209286\n",
      "Micro F1 Test:  0.9111033028812369\n",
      "Weighted Recall Train:  0.9129250505228012\n",
      "Weighted Recall Dev:  0.9036229335209286\n",
      "Weighted Recall Test:  0.9111033028812369\n",
      "Macro Recall Train:  0.3636363636363636\n",
      "Macro Recall Dev:  0.3333333333333333\n",
      "Macro Recall Test:  0.3333333333333333\n",
      "Micro Recall Train:  0.9129250505228012\n",
      "Micro Recall Dev:  0.9036229335209286\n",
      "Micro Recall Test:  0.9111033028812369\n",
      "Confusion Matrix Train: \n",
      "[[    0  1962     0]\n",
      " [    0 20778     0]\n",
      " [    0    20     2]]\n",
      "Confusion Matrix Dev: \n",
      "[[   0  272    0]\n",
      " [   0 2569    0]\n",
      " [   0    2    0]]\n",
      "Confusion Matrix Test: \n",
      "[[   0  250    0]\n",
      " [   0 2593    0]\n",
      " [   0    3    0]]\n"
     ]
    }
   ],
   "source": [
    "computeAllScores(train_preds, dev_preds, test_preds)"
   ]
  },
  {
   "cell_type": "markdown",
   "metadata": {},
   "source": [
    "### FastText 300 "
   ]
  },
  {
   "cell_type": "code",
   "execution_count": 17,
   "metadata": {},
   "outputs": [],
   "source": [
    "ft300_train, ft300_dev, ft300_test = load_fasttext_300()"
   ]
  },
  {
   "cell_type": "code",
   "execution_count": 18,
   "metadata": {},
   "outputs": [],
   "source": [
    "# Set all NaN values to 0\n",
    "ft300_train = np.nan_to_num(ft300_train)\n",
    "ft300_dev = np.nan_to_num(ft300_dev)\n",
    "ft300_test = np.nan_to_num(ft300_test)"
   ]
  },
  {
   "cell_type": "code",
   "execution_count": 19,
   "metadata": {},
   "outputs": [],
   "source": [
    "grid_results = gridsearch.fit(ft300_train, train_labels)\n",
    "best_params = grid_results.best_params_\n",
    "svm = grid_results.best_estimator_"
   ]
  },
  {
   "cell_type": "code",
   "execution_count": 20,
   "metadata": {},
   "outputs": [
    {
     "data": {
      "text/plain": [
       "{'C': 1, 'kernel': 'poly'}"
      ]
     },
     "execution_count": 20,
     "metadata": {},
     "output_type": "execute_result"
    }
   ],
   "source": [
    "best_params"
   ]
  },
  {
   "cell_type": "code",
   "execution_count": 21,
   "metadata": {},
   "outputs": [],
   "source": [
    "svm = svm.fit(ft300_train, train_labels)\n",
    "save_model(svm, \"svm_ft300.joblib\")"
   ]
  },
  {
   "cell_type": "code",
   "execution_count": 22,
   "metadata": {},
   "outputs": [],
   "source": [
    "train_preds = svm.predict(ft300_train)\n",
    "dev_preds = svm.predict(ft300_dev)\n",
    "test_preds = svm.predict(ft300_test)"
   ]
  },
  {
   "cell_type": "code",
   "execution_count": 23,
   "metadata": {},
   "outputs": [
    {
     "name": "stdout",
     "output_type": "stream",
     "text": [
      "Accuracy Train:  0.9160003514629645\n",
      "Accuracy Dev:  0.9064368624692226\n",
      "Accuracy Test:  0.9139142656359803\n",
      "Weighted F1 Train:  0.8789113587421983\n",
      "Weighted F1 Dev:  0.8646111464182938\n",
      "Weighted F1 Test:  0.8754497618294961\n",
      "Macro F1 Train:  0.4441772568901276\n",
      "Macro F1 Dev:  0.3359733530717987\n",
      "Macro F1 Test:  0.33896803544776205\n",
      "Micro F1 Train:  0.9160003514629645\n",
      "Micro F1 Dev:  0.9064368624692226\n",
      "Micro F1 Test:  0.9139142656359803\n",
      "Weighted Recall Train:  0.9160003514629645\n",
      "Weighted Recall Dev:  0.9064368624692226\n",
      "Weighted Recall Test:  0.9139142656359803\n",
      "Macro Recall Train:  0.4057999352925797\n",
      "Macro Recall Dev:  0.34313725490196073\n",
      "Macro Recall Test:  0.34400000000000003\n",
      "Micro Recall Train:  0.9160003514629645\n",
      "Micro Recall Dev:  0.9064368624692226\n",
      "Micro Recall Test:  0.9139142656359803\n",
      "Confusion Matrix Train: \n",
      "[[   70  1892     0]\n",
      " [    2 20776     0]\n",
      " [    0    18     4]]\n",
      "Confusion Matrix Dev: \n",
      "[[   8  264    0]\n",
      " [   0 2569    0]\n",
      " [   0    2    0]]\n",
      "Confusion Matrix Test: \n",
      "[[   8  242    0]\n",
      " [   0 2593    0]\n",
      " [   0    3    0]]\n"
     ]
    }
   ],
   "source": [
    "computeAllScores(train_preds, dev_preds, test_preds)"
   ]
  },
  {
   "cell_type": "markdown",
   "metadata": {},
   "source": [
    "### Word2Vec 300"
   ]
  },
  {
   "cell_type": "code",
   "execution_count": 24,
   "metadata": {},
   "outputs": [],
   "source": [
    "w2v300_train, w2v300_dev, w2v300_test = load_word2vec_300()"
   ]
  },
  {
   "cell_type": "code",
   "execution_count": 25,
   "metadata": {},
   "outputs": [],
   "source": [
    "# Set all NaN values to 0\n",
    "w2v300_train = np.nan_to_num(w2v300_train)\n",
    "w2v300_dev = np.nan_to_num(w2v300_dev)\n",
    "w2v300_test = np.nan_to_num(w2v300_test)"
   ]
  },
  {
   "cell_type": "code",
   "execution_count": 26,
   "metadata": {},
   "outputs": [],
   "source": [
    "grid_results = gridsearch.fit(w2v300_train, train_labels)\n",
    "best_params = grid_results.best_params_\n",
    "svm = grid_results.best_estimator_"
   ]
  },
  {
   "cell_type": "code",
   "execution_count": 27,
   "metadata": {},
   "outputs": [
    {
     "data": {
      "text/plain": [
       "{'C': 1, 'kernel': 'rbf'}"
      ]
     },
     "execution_count": 27,
     "metadata": {},
     "output_type": "execute_result"
    }
   ],
   "source": [
    "best_params"
   ]
  },
  {
   "cell_type": "code",
   "execution_count": 28,
   "metadata": {},
   "outputs": [],
   "source": [
    "svm = svm.fit(w2v300_train, train_labels)\n",
    "save_model(svm, \"svm_w2v300.joblib\")"
   ]
  },
  {
   "cell_type": "code",
   "execution_count": 29,
   "metadata": {},
   "outputs": [],
   "source": [
    "train_preds = svm.predict(w2v300_train)\n",
    "dev_preds = svm.predict(w2v300_dev)\n",
    "test_preds = svm.predict(w2v300_test)"
   ]
  },
  {
   "cell_type": "code",
   "execution_count": 30,
   "metadata": {},
   "outputs": [
    {
     "name": "stdout",
     "output_type": "stream",
     "text": [
      "Accuracy Train:  0.9223266848255866\n",
      "Accuracy Dev:  0.9124164614843475\n",
      "Accuracy Test:  0.9188334504567814\n",
      "Weighted F1 Train:  0.8939727630972623\n",
      "Weighted F1 Dev:  0.8809587172617952\n",
      "Weighted F1 Test:  0.8880065866005644\n",
      "Macro F1 Train:  0.49237757557525813\n",
      "Macro F1 Dev:  0.38477388926519657\n",
      "Macro F1 Test:  0.37905510003381515\n",
      "Micro F1 Train:  0.9223266848255866\n",
      "Micro F1 Dev:  0.9124164614843475\n",
      "Micro F1 Test:  0.9188334504567814\n",
      "Weighted Recall Train:  0.9223266848255866\n",
      "Weighted Recall Dev:  0.9124164614843475\n",
      "Weighted Recall Test:  0.9188334504567814\n",
      "Macro Recall Train:  0.43318795616347455\n",
      "Macro Recall Dev:  0.37054501637167125\n",
      "Macro Recall Test:  0.366281012983674\n",
      "Micro Recall Train:  0.9223266848255866\n",
      "Micro Recall Dev:  0.9124164614843475\n",
      "Micro Recall Test:  0.9188334504567814\n",
      "Confusion Matrix Train: \n",
      "[[  233  1729     0]\n",
      " [   21 20757     0]\n",
      " [    0    18     4]]\n",
      "Confusion Matrix Dev: \n",
      "[[  31  241    0]\n",
      " [   6 2563    0]\n",
      " [   0    2    0]]\n",
      "Confusion Matrix Test: \n",
      "[[  25  225    0]\n",
      " [   3 2590    0]\n",
      " [   0    3    0]]\n"
     ]
    }
   ],
   "source": [
    "computeAllScores(train_preds, dev_preds, test_preds)"
   ]
  },
  {
   "cell_type": "markdown",
   "metadata": {},
   "source": [
    "### TF-IDF PCA (1000 Dims)"
   ]
  },
  {
   "cell_type": "code",
   "execution_count": 31,
   "metadata": {},
   "outputs": [],
   "source": [
    "tfidf_pca_train, tfidf_pca_dev, tfidf_pca_test = load_tfidf_pca()"
   ]
  },
  {
   "cell_type": "code",
   "execution_count": 32,
   "metadata": {},
   "outputs": [],
   "source": [
    "grid_results = gridsearch.fit(tfidf_pca_train, train_labels)\n",
    "best_params = grid_results.best_params_\n",
    "svm = grid_results.best_estimator_"
   ]
  },
  {
   "cell_type": "code",
   "execution_count": 33,
   "metadata": {},
   "outputs": [
    {
     "data": {
      "text/plain": [
       "{'C': 1, 'kernel': 'rbf'}"
      ]
     },
     "execution_count": 33,
     "metadata": {},
     "output_type": "execute_result"
    }
   ],
   "source": [
    "best_params"
   ]
  },
  {
   "cell_type": "code",
   "execution_count": 34,
   "metadata": {},
   "outputs": [],
   "source": [
    "svm = svm.fit(tfidf_pca_train, train_labels)\n",
    "save_model(svm, \"svm_tfidf_pca.joblib\")"
   ]
  },
  {
   "cell_type": "code",
   "execution_count": 35,
   "metadata": {},
   "outputs": [],
   "source": [
    "train_preds = svm.predict(tfidf_pca_train)\n",
    "dev_preds = svm.predict(tfidf_pca_dev)\n",
    "test_preds = svm.predict(tfidf_pca_test)"
   ]
  },
  {
   "cell_type": "code",
   "execution_count": 36,
   "metadata": {},
   "outputs": [
    {
     "name": "stdout",
     "output_type": "stream",
     "text": [
      "Accuracy Train:  0.9616466039891046\n",
      "Accuracy Dev:  0.9208582483292297\n",
      "Accuracy Test:  0.9262122276879832\n",
      "Weighted F1 Train:  0.9566986328646805\n",
      "Weighted F1 Dev:  0.901044745187201\n",
      "Weighted F1 Test:  0.9073273263576856\n",
      "Macro F1 Train:  0.5687947207530685\n",
      "Macro F1 Dev:  0.44320306023291806\n",
      "Macro F1 Test:  0.44130901164458214\n",
      "Micro F1 Train:  0.9616466039891046\n",
      "Micro F1 Dev:  0.9208582483292297\n",
      "Micro F1 Test:  0.9262122276879832\n",
      "Weighted Recall Train:  0.9616466039891046\n",
      "Weighted Recall Dev:  0.9208582483292297\n",
      "Weighted Recall Test:  0.9262122276879832\n",
      "Macro Recall Train:  0.5254710517250024\n",
      "Macro Recall Dev:  0.4120098993275784\n",
      "Macro Recall Test:  0.40994318035737237\n",
      "Micro Recall Train:  0.9616466039891046\n",
      "Micro Recall Dev:  0.9208582483292297\n",
      "Micro Recall Test:  0.9262122276879832\n",
      "Confusion Matrix Train: \n",
      "[[ 1133   829     0]\n",
      " [   22 20756     0]\n",
      " [    0    22     0]]\n",
      "Confusion Matrix Dev: \n",
      "[[  66  206    0]\n",
      " [  17 2552    0]\n",
      " [   0    2    0]]\n",
      "Confusion Matrix Test: \n",
      "[[  59  191    0]\n",
      " [  16 2577    0]\n",
      " [   0    3    0]]\n"
     ]
    }
   ],
   "source": [
    "computeAllScores(train_preds, dev_preds, test_preds)"
   ]
  },
  {
   "cell_type": "markdown",
   "metadata": {},
   "source": [
    "### Sentence Transformer Faster No PCA"
   ]
  },
  {
   "cell_type": "code",
   "execution_count": 37,
   "metadata": {},
   "outputs": [],
   "source": [
    "train, dev, test = load_sent_trans_fast_no_pca()"
   ]
  },
  {
   "cell_type": "code",
   "execution_count": 39,
   "metadata": {},
   "outputs": [],
   "source": [
    "grid_results = gridsearch.fit(train, train_labels)\n",
    "best_params = grid_results.best_params_\n",
    "svm = grid_results.best_estimator_"
   ]
  },
  {
   "cell_type": "code",
   "execution_count": 40,
   "metadata": {},
   "outputs": [
    {
     "data": {
      "text/plain": [
       "{'C': 1, 'kernel': 'poly'}"
      ]
     },
     "execution_count": 40,
     "metadata": {},
     "output_type": "execute_result"
    }
   ],
   "source": [
    "best_params"
   ]
  },
  {
   "cell_type": "code",
   "execution_count": 41,
   "metadata": {},
   "outputs": [],
   "source": [
    "svm = svm.fit(train, train_labels)\n",
    "save_model(svm, \"svm_faster_no_pca.joblib\")"
   ]
  },
  {
   "cell_type": "code",
   "execution_count": 42,
   "metadata": {},
   "outputs": [],
   "source": [
    "train_preds = svm.predict(train)\n",
    "dev_preds = svm.predict(dev)\n",
    "test_preds = svm.predict(test)"
   ]
  },
  {
   "cell_type": "code",
   "execution_count": 43,
   "metadata": {},
   "outputs": [
    {
     "name": "stdout",
     "output_type": "stream",
     "text": [
      "Accuracy Train:  0.9683683331868904\n",
      "Accuracy Dev:  0.9289482940555751\n",
      "Accuracy Test:  0.9300773014757554\n",
      "Weighted F1 Train:  0.965583633829597\n",
      "Weighted F1 Dev:  0.9175831506540932\n",
      "Weighted F1 Test:  0.9175972917708787\n",
      "Macro F1 Train:  0.6933108884007634\n",
      "Macro F1 Dev:  0.48970569660224833\n",
      "Macro F1 Test:  0.47472252317322744\n",
      "Micro F1 Train:  0.9683683331868904\n",
      "Micro F1 Dev:  0.9289482940555752\n",
      "Micro F1 Test:  0.9300773014757555\n",
      "Weighted Recall Train:  0.9683683331868904\n",
      "Weighted Recall Dev:  0.9289482940555751\n",
      "Weighted Recall Test:  0.9300773014757554\n",
      "Macro Recall Train:  0.6164685353144213\n",
      "Macro Recall Dev:  0.45553650615559577\n",
      "Macro Recall Test:  0.4414767965034066\n",
      "Micro Recall Train:  0.9683683331868904\n",
      "Micro Recall Dev:  0.9289482940555751\n",
      "Micro Recall Test:  0.9300773014757554\n",
      "Confusion Matrix Train: \n",
      "[[ 1315   647     0]\n",
      " [   55 20723     0]\n",
      " [    0    18     4]]\n",
      "Confusion Matrix Dev: \n",
      "[[ 103  169    0]\n",
      " [  31 2538    0]\n",
      " [   0    2    0]]\n",
      "Confusion Matrix Test: \n",
      "[[  84  166    0]\n",
      " [  30 2563    0]\n",
      " [   0    3    0]]\n"
     ]
    }
   ],
   "source": [
    "computeAllScores(train_preds, dev_preds, test_preds)"
   ]
  },
  {
   "cell_type": "markdown",
   "metadata": {},
   "source": [
    "### Sentence Transformer Faster PCA"
   ]
  },
  {
   "cell_type": "code",
   "execution_count": 44,
   "metadata": {},
   "outputs": [],
   "source": [
    "train, dev, test = load_sent_trans_fast_pca()"
   ]
  },
  {
   "cell_type": "code",
   "execution_count": 45,
   "metadata": {},
   "outputs": [],
   "source": [
    "grid_results = gridsearch.fit(train, train_labels)\n",
    "best_params = grid_results.best_params_\n",
    "svm = grid_results.best_estimator_"
   ]
  },
  {
   "cell_type": "code",
   "execution_count": 46,
   "metadata": {},
   "outputs": [
    {
     "data": {
      "text/plain": [
       "{'C': 1, 'kernel': 'poly'}"
      ]
     },
     "execution_count": 46,
     "metadata": {},
     "output_type": "execute_result"
    }
   ],
   "source": [
    "best_params"
   ]
  },
  {
   "cell_type": "code",
   "execution_count": 47,
   "metadata": {},
   "outputs": [],
   "source": [
    "svm = svm.fit(train, train_labels)\n",
    "save_model(svm, \"svm_faster_pca.joblib\")"
   ]
  },
  {
   "cell_type": "code",
   "execution_count": 48,
   "metadata": {},
   "outputs": [],
   "source": [
    "train_preds = svm.predict(train)\n",
    "dev_preds = svm.predict(dev)\n",
    "test_preds = svm.predict(test)"
   ]
  },
  {
   "cell_type": "code",
   "execution_count": 49,
   "metadata": {},
   "outputs": [
    {
     "name": "stdout",
     "output_type": "stream",
     "text": [
      "Accuracy Train:  0.9725858887619717\n",
      "Accuracy Dev:  0.9264861062258178\n",
      "Accuracy Test:  0.9311314125087843\n",
      "Weighted F1 Train:  0.9705355307772235\n",
      "Weighted F1 Dev:  0.914160810577925\n",
      "Weighted F1 Test:  0.9191963921425864\n",
      "Macro F1 Train:  0.7796292301529198\n",
      "Macro F1 Dev:  0.48140988937209633\n",
      "Macro F1 Test:  0.47909539378809396\n",
      "Micro F1 Train:  0.9725858887619717\n",
      "Micro F1 Dev:  0.9264861062258178\n",
      "Micro F1 Test:  0.9311314125087843\n",
      "Weighted Recall Train:  0.9725858887619717\n",
      "Weighted Recall Dev:  0.9264861062258178\n",
      "Weighted Recall Test:  0.9311314125087843\n",
      "Macro Recall Train:  0.6905509763428469\n",
      "Macro Recall Dev:  0.4480538128057763\n",
      "Macro Recall Test:  0.44547679650340655\n",
      "Micro Recall Train:  0.9725858887619717\n",
      "Micro Recall Dev:  0.9264861062258178\n",
      "Micro Recall Test:  0.9311314125087843\n",
      "Confusion Matrix Train: \n",
      "[[ 1393   569     0]\n",
      " [   41 20737     0]\n",
      " [    0    14     8]]\n",
      "Confusion Matrix Dev: \n",
      "[[  97  175    0]\n",
      " [  32 2537    0]\n",
      " [   0    2    0]]\n",
      "Confusion Matrix Test: \n",
      "[[  87  163    0]\n",
      " [  30 2563    0]\n",
      " [   0    3    0]]\n"
     ]
    }
   ],
   "source": [
    "computeAllScores(train_preds, dev_preds, test_preds)"
   ]
  },
  {
   "cell_type": "markdown",
   "metadata": {},
   "source": [
    "### Sentence Transformer Better No PCA"
   ]
  },
  {
   "cell_type": "code",
   "execution_count": 50,
   "metadata": {},
   "outputs": [],
   "source": [
    "train, dev, test = load_sent_trans_better_no_pca()"
   ]
  },
  {
   "cell_type": "code",
   "execution_count": 51,
   "metadata": {},
   "outputs": [],
   "source": [
    "grid_results = gridsearch.fit(train, train_labels)\n",
    "best_params = grid_results.best_params_\n",
    "svm = grid_results.best_estimator_"
   ]
  },
  {
   "cell_type": "code",
   "execution_count": 52,
   "metadata": {},
   "outputs": [
    {
     "data": {
      "text/plain": [
       "{'C': 1, 'kernel': 'poly'}"
      ]
     },
     "execution_count": 52,
     "metadata": {},
     "output_type": "execute_result"
    }
   ],
   "source": [
    "best_params"
   ]
  },
  {
   "cell_type": "code",
   "execution_count": 53,
   "metadata": {},
   "outputs": [],
   "source": [
    "svm = svm.fit(train, train_labels)\n",
    "save_model(svm, \"svm_better_no_pca.joblib\")"
   ]
  },
  {
   "cell_type": "code",
   "execution_count": 54,
   "metadata": {},
   "outputs": [],
   "source": [
    "train_preds = svm.predict(train)\n",
    "dev_preds = svm.predict(dev)\n",
    "test_preds = svm.predict(test)"
   ]
  },
  {
   "cell_type": "code",
   "execution_count": 55,
   "metadata": {},
   "outputs": [
    {
     "name": "stdout",
     "output_type": "stream",
     "text": [
      "Accuracy Train:  0.968807661892628\n",
      "Accuracy Dev:  0.9289482940555751\n",
      "Accuracy Test:  0.9367533380182712\n",
      "Weighted F1 Train:  0.9662076090426754\n",
      "Weighted F1 Dev:  0.9182301485196132\n",
      "Weighted F1 Test:  0.9259832108595365\n",
      "Macro F1 Train:  0.6950040817203854\n",
      "Macro F1 Dev:  0.4920824923513611\n",
      "Macro F1 Test:  0.4954968722619557\n",
      "Micro F1 Train:  0.968807661892628\n",
      "Micro F1 Dev:  0.9289482940555752\n",
      "Micro F1 Test:  0.9367533380182712\n",
      "Weighted Recall Train:  0.968807661892628\n",
      "Weighted Recall Dev:  0.9289482940555751\n",
      "Weighted Recall Test:  0.9367533380182712\n",
      "Macro Recall Train:  0.6197060025288719\n",
      "Macro Recall Dev:  0.45882372022378437\n",
      "Macro Recall Test:  0.4583766550970562\n",
      "Micro Recall Train:  0.968807661892628\n",
      "Micro Recall Dev:  0.9289482940555751\n",
      "Micro Recall Test:  0.9367533380182712\n",
      "Confusion Matrix Train: \n",
      "[[ 1335   627     0]\n",
      " [   65 20713     0]\n",
      " [    0    18     4]]\n",
      "Confusion Matrix Dev: \n",
      "[[ 106  166    0]\n",
      " [  34 2535    0]\n",
      " [   0    2    0]]\n",
      "Confusion Matrix Test: \n",
      "[[  96  154    0]\n",
      " [  23 2570    0]\n",
      " [   0    3    0]]\n"
     ]
    }
   ],
   "source": [
    "computeAllScores(train_preds, dev_preds, test_preds)"
   ]
  },
  {
   "cell_type": "markdown",
   "metadata": {},
   "source": [
    "### Sentence Transformer Better PCA"
   ]
  },
  {
   "cell_type": "code",
   "execution_count": 56,
   "metadata": {},
   "outputs": [],
   "source": [
    "train, dev, test = load_sent_trans_better_pca()"
   ]
  },
  {
   "cell_type": "code",
   "execution_count": 57,
   "metadata": {},
   "outputs": [],
   "source": [
    "grid_results = gridsearch.fit(train, train_labels)\n",
    "best_params = grid_results.best_params_\n",
    "svm = grid_results.best_estimator_"
   ]
  },
  {
   "cell_type": "code",
   "execution_count": 58,
   "metadata": {},
   "outputs": [
    {
     "data": {
      "text/plain": [
       "{'C': 1, 'kernel': 'rbf'}"
      ]
     },
     "execution_count": 58,
     "metadata": {},
     "output_type": "execute_result"
    }
   ],
   "source": [
    "best_params"
   ]
  },
  {
   "cell_type": "code",
   "execution_count": 59,
   "metadata": {},
   "outputs": [],
   "source": [
    "svm = svm.fit(train, train_labels)\n",
    "save_model(svm, \"svm_better_pca.joblib\")"
   ]
  },
  {
   "cell_type": "code",
   "execution_count": 60,
   "metadata": {},
   "outputs": [],
   "source": [
    "train_preds = svm.predict(train)\n",
    "dev_preds = svm.predict(dev)\n",
    "test_preds = svm.predict(test)"
   ]
  },
  {
   "cell_type": "code",
   "execution_count": 61,
   "metadata": {},
   "outputs": [
    {
     "name": "stdout",
     "output_type": "stream",
     "text": [
      "Accuracy Train:  0.9546612775678763\n",
      "Accuracy Dev:  0.9293000351741119\n",
      "Accuracy Test:  0.9385101897399859\n",
      "Weighted F1 Train:  0.9487966054803231\n",
      "Weighted F1 Dev:  0.9183144016502238\n",
      "Weighted F1 Test:  0.92705676635867\n",
      "Macro F1 Train:  0.6515929615669237\n",
      "Macro F1 Dev:  0.4917810557866642\n",
      "Macro F1 Test:  0.496461013462327\n",
      "Micro F1 Train:  0.9546612775678763\n",
      "Micro F1 Dev:  0.9293000351741119\n",
      "Micro F1 Test:  0.9385101897399859\n",
      "Weighted Recall Train:  0.9546612775678763\n",
      "Weighted Recall Dev:  0.9293000351741119\n",
      "Weighted Recall Test:  0.9385101897399859\n",
      "Macro Recall Train:  0.5685385175910176\n",
      "Macro Recall Dev:  0.4578577343744037\n",
      "Macro Recall Test:  0.456609847024039\n",
      "Micro Recall Train:  0.9546612775678763\n",
      "Micro Recall Dev:  0.9293000351741119\n",
      "Micro Recall Test:  0.9385101897399859\n",
      "Confusion Matrix Train: \n",
      "[[ 1036   926     0]\n",
      " [   88 20690     0]\n",
      " [    0    18     4]]\n",
      "Confusion Matrix Dev: \n",
      "[[ 105  167    0]\n",
      " [  32 2537    0]\n",
      " [   0    2    0]]\n",
      "Confusion Matrix Test: \n",
      "[[  94  156    0]\n",
      " [  16 2577    0]\n",
      " [   0    3    0]]\n"
     ]
    }
   ],
   "source": [
    "computeAllScores(train_preds, dev_preds, test_preds)"
   ]
  },
  {
   "cell_type": "markdown",
   "metadata": {},
   "source": [
    "## Only 2 Class Augmented Data Sentence Transformer Better"
   ]
  },
  {
   "cell_type": "code",
   "execution_count": 7,
   "metadata": {},
   "outputs": [],
   "source": [
    "train, dev, test, train_labels, dev_labels, test_labels = load_only_2_class(\"sent_trans_augmented_no_pca\", True)"
   ]
  },
  {
   "cell_type": "code",
   "execution_count": 8,
   "metadata": {},
   "outputs": [],
   "source": [
    "train_labels = [label_replacement[label] for label in train_labels]\n",
    "dev_labels = [label_replacement[label] for label in dev_labels]\n",
    "test_labels = [label_replacement[label] for label in test_labels]"
   ]
  },
  {
   "cell_type": "code",
   "execution_count": 64,
   "metadata": {},
   "outputs": [],
   "source": [
    "# grid_results = gridsearch.fit(train, train_labels)\n",
    "# best_params = grid_results.best_params_\n",
    "# svm = grid_results.best_estimator_"
   ]
  },
  {
   "cell_type": "code",
   "execution_count": 65,
   "metadata": {},
   "outputs": [
    {
     "data": {
      "text/plain": [
       "{'C': 1, 'kernel': 'poly'}"
      ]
     },
     "execution_count": 65,
     "metadata": {},
     "output_type": "execute_result"
    }
   ],
   "source": [
    "# best_params"
   ]
  },
  {
   "cell_type": "code",
   "execution_count": 6,
   "metadata": {},
   "outputs": [],
   "source": [
    "svm = load_model(\"svm_sent_trans_augmented_no_pca.joblib\")"
   ]
  },
  {
   "cell_type": "code",
   "execution_count": 66,
   "metadata": {},
   "outputs": [],
   "source": [
    "# svm = svm.fit(train, train_labels)\n",
    "# save_model(svm, \"svm_sent_trans_augmented_no_pca.joblib\")"
   ]
  },
  {
   "cell_type": "code",
   "execution_count": 9,
   "metadata": {},
   "outputs": [],
   "source": [
    "train_preds = svm.predict(train)\n",
    "dev_preds = svm.predict(dev)\n",
    "test_preds = svm.predict(test)"
   ]
  },
  {
   "cell_type": "code",
   "execution_count": 10,
   "metadata": {},
   "outputs": [
    {
     "name": "stdout",
     "output_type": "stream",
     "text": [
      "Accuracy Train:  0.9897598036902459\n",
      "Accuracy Dev:  0.9085473091804432\n",
      "Accuracy Test:  0.9139142656359803\n",
      "Weighted F1 Train:  0.9896126358869287\n",
      "Weighted F1 Dev:  0.9119448461070339\n",
      "Weighted F1 Test:  0.9180450838463163\n",
      "Macro F1 Train:  0.7625364949429466\n",
      "Macro F1 Dev:  0.5062863886703384\n",
      "Macro F1 Test:  0.5091925620523928\n",
      "Micro F1 Train:  0.9897598036902459\n",
      "Micro F1 Dev:  0.9085473091804432\n",
      "Micro F1 Test:  0.9139142656359803\n",
      "Weighted Recall Train:  0.9897598036902459\n",
      "Weighted Recall Dev:  0.9085473091804432\n",
      "Weighted Recall Test:  0.9139142656359803\n",
      "Macro Recall Train:  0.7206539847009079\n",
      "Macro Recall Dev:  0.5225210656469672\n",
      "Macro Recall Test:  0.5319460084843811\n",
      "Micro Recall Train:  0.9897598036902459\n",
      "Micro Recall Dev:  0.9085473091804432\n",
      "Micro Recall Test:  0.9139142656359803\n",
      "Confusion Matrix Train: \n",
      "[[21490    92     0]\n",
      " [  324 20454     0]\n",
      " [    1    17     4]]\n",
      "Confusion Matrix Dev: \n",
      "[[ 171  101    0]\n",
      " [ 157 2412    0]\n",
      " [   0    2    0]]\n",
      "Confusion Matrix Test: \n",
      "[[ 164   86    0]\n",
      " [ 156 2437    0]\n",
      " [   0    3    0]]\n"
     ]
    }
   ],
   "source": [
    "computeAllScores(train_preds, dev_preds, test_preds, aug=True)"
   ]
  },
  {
   "cell_type": "code",
   "execution_count": null,
   "metadata": {},
   "outputs": [],
   "source": []
  }
 ],
 "metadata": {
  "kernelspec": {
   "display_name": "Python 3.10.2 ('venv': venv)",
   "language": "python",
   "name": "python3"
  },
  "language_info": {
   "codemirror_mode": {
    "name": "ipython",
    "version": 3
   },
   "file_extension": ".py",
   "mimetype": "text/x-python",
   "name": "python",
   "nbconvert_exporter": "python",
   "pygments_lexer": "ipython3",
   "version": "3.10.2"
  },
  "orig_nbformat": 4,
  "vscode": {
   "interpreter": {
    "hash": "fd949ee6353ffa8da7adb473cc2810b4b5aee9c3c37e455af5c40ec8a7a1d86b"
   }
  }
 },
 "nbformat": 4,
 "nbformat_minor": 2
}
