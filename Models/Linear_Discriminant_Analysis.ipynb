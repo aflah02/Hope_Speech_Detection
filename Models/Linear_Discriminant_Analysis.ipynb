{
 "cells": [
  {
   "cell_type": "code",
   "execution_count": 1,
   "metadata": {},
   "outputs": [
    {
     "name": "stdout",
     "output_type": "stream",
     "text": [
      "--ip=127.0.0.1\n"
     ]
    }
   ],
   "source": [
    "from embeddings_loader import *\n",
    "from sklearn.discriminant_analysis import LinearDiscriminantAnalysis\n",
    "from sklearn.metrics import f1_score\n",
    "from sklearn.metrics import accuracy_score\n",
    "from sklearn.metrics import confusion_matrix\n",
    "from sklearn.metrics import classification_report\n",
    "from sklearn.metrics import recall_score\n",
    "from sklearn.metrics import precision_score\n",
    "from sklearn.metrics import roc_auc_score\n",
    "from utils import *"
   ]
  },
  {
   "cell_type": "code",
   "execution_count": 2,
   "metadata": {},
   "outputs": [],
   "source": [
    "train_labels, dev_labels, test_labels = load_labels()\n",
    "train_augmented_labels, dev_augmented_labels, test_augmented_labels = load_augmented_labels()"
   ]
  },
  {
   "cell_type": "code",
   "execution_count": 3,
   "metadata": {},
   "outputs": [],
   "source": [
    "label_replacement = {\n",
    "    'Hope_speech': 0,\n",
    "    'Non_hope_speech': 1,\n",
    "    'not-English': 2,\n",
    "}"
   ]
  },
  {
   "cell_type": "code",
   "execution_count": 4,
   "metadata": {},
   "outputs": [],
   "source": [
    "# Replace labels with numbers\n",
    "train_labels = [label_replacement[label] for label in train_labels]\n",
    "dev_labels = [label_replacement[label] for label in dev_labels]\n",
    "test_labels = [label_replacement[label] for label in test_labels]\n",
    "train_augmented_labels = [label_replacement[label] for label in train_augmented_labels]"
   ]
  },
  {
   "cell_type": "markdown",
   "metadata": {},
   "source": [
    "### Custom w2v Embeddings"
   ]
  },
  {
   "cell_type": "code",
   "execution_count": 5,
   "metadata": {},
   "outputs": [],
   "source": [
    "cus_aug_train, cus_train, cus_dev, cus_test = load_custom_embeddings(gensim = False)"
   ]
  },
  {
   "cell_type": "code",
   "execution_count": 6,
   "metadata": {},
   "outputs": [],
   "source": [
    "# Set all NaN values to 0\n",
    "cus_aug_train = np.nan_to_num(cus_aug_train)\n",
    "cus_train = np.nan_to_num(cus_train)\n",
    "cus_dev = np.nan_to_num(cus_dev)\n",
    "cus_test = np.nan_to_num(cus_test)"
   ]
  },
  {
   "cell_type": "markdown",
   "metadata": {},
   "source": [
    "##### Non-Augmented"
   ]
  },
  {
   "cell_type": "code",
   "execution_count": 7,
   "metadata": {},
   "outputs": [],
   "source": [
    "linear_discriminant_analysis = LinearDiscriminantAnalysis().fit(cus_train, train_labels)\n",
    "save_model(linear_discriminant_analysis, \"linear_discriminant_analysis_customw2v.joblib\")"
   ]
  },
  {
   "cell_type": "code",
   "execution_count": 8,
   "metadata": {},
   "outputs": [],
   "source": [
    "train_preds = linear_discriminant_analysis.predict(cus_train)\n",
    "dev_preds = linear_discriminant_analysis.predict(cus_dev)\n",
    "test_preds = linear_discriminant_analysis.predict(cus_test)"
   ]
  },
  {
   "cell_type": "code",
   "execution_count": 9,
   "metadata": {},
   "outputs": [
    {
     "name": "stdout",
     "output_type": "stream",
     "text": [
      "Accuracy Train:  0.9080045690185397\n",
      "Accuracy Dev:  0.9001055223355611\n",
      "Accuracy Test:  0.9047786366830639\n",
      "Weighted F1 Train:  0.8835073835939775\n",
      "Weighted F1 Dev:  0.8778777060023649\n",
      "Weighted F1 Test:  0.8817302903233432\n",
      "Macro F1 Train:  0.4366413322923967\n",
      "Macro F1 Dev:  0.3939635274944879\n",
      "Macro F1 Test:  0.3792382133221042\n",
      "Micro F1 Train:  0.9080045690185398\n",
      "Micro F1 Dev:  0.9001055223355611\n",
      "Micro F1 Test:  0.9047786366830638\n",
      "Weighted Recall Train:  0.9080045690185397\n",
      "Weighted Recall Dev:  0.9001055223355611\n",
      "Weighted Recall Test:  0.9047786366830639\n",
      "Macro Recall Train:  0.5002506830507689\n",
      "Macro Recall Dev:  0.3780568085544845\n",
      "Macro Recall Test:  0.36716287440545053\n",
      "Micro Recall Train:  0.9080045690185397\n",
      "Micro Recall Dev:  0.9001055223355611\n",
      "Micro Recall Test:  0.9047786366830639\n",
      "Confusion Matrix Train: \n",
      "[[  211  1749     2]\n",
      " [  266 20448    64]\n",
      " [    0    13     9]]\n",
      "Confusion Matrix Dev: \n",
      "[[  42  230    0]\n",
      " [  43 2517    9]\n",
      " [   0    2    0]]\n",
      "Confusion Matrix Test: \n",
      "[[  30  219    1]\n",
      " [  39 2545    9]\n",
      " [   0    3    0]]\n"
     ]
    }
   ],
   "source": [
    "computeAllScores(train_preds, dev_preds, test_preds)"
   ]
  },
  {
   "cell_type": "markdown",
   "metadata": {},
   "source": [
    "##### Augmented"
   ]
  },
  {
   "cell_type": "code",
   "execution_count": 11,
   "metadata": {},
   "outputs": [],
   "source": [
    "linear_discriminant_analysis = LinearDiscriminantAnalysis().fit(cus_aug_train, train_augmented_labels)\n",
    "save_model(linear_discriminant_analysis, \"linear_discriminant_analysis_customw2v_aug.joblib\")"
   ]
  },
  {
   "cell_type": "code",
   "execution_count": 12,
   "metadata": {},
   "outputs": [],
   "source": [
    "train_preds = linear_discriminant_analysis.predict(cus_aug_train)\n",
    "dev_preds = linear_discriminant_analysis.predict(cus_dev)\n",
    "test_preds = linear_discriminant_analysis.predict(cus_test)"
   ]
  },
  {
   "cell_type": "code",
   "execution_count": 13,
   "metadata": {},
   "outputs": [
    {
     "name": "stdout",
     "output_type": "stream",
     "text": [
      "Accuracy Train:  0.7477466849134067\n",
      "Accuracy Dev:  0.4861062258177981\n",
      "Accuracy Test:  0.5028109627547435\n",
      "Weighted F1 Train:  0.7480413744495602\n",
      "Weighted F1 Dev:  0.5885043021652889\n",
      "Weighted F1 Test:  0.606678484809971\n",
      "Macro F1 Train:  0.5484942736706765\n",
      "Macro F1 Dev:  0.25420928910460316\n",
      "Macro F1 Test:  0.2593209410824746\n",
      "Micro F1 Train:  0.7477466849134067\n",
      "Micro F1 Dev:  0.4861062258177981\n",
      "Micro F1 Test:  0.5028109627547435\n",
      "Weighted Recall Train:  0.7477466849134067\n",
      "Weighted Recall Dev:  0.4861062258177981\n",
      "Weighted Recall Test:  0.5028109627547435\n",
      "Macro Recall Train:  0.6496979971018761\n",
      "Macro Recall Dev:  0.2910827818865966\n",
      "Macro Recall Test:  0.30202545314307755\n",
      "Micro Recall Train:  0.7477466849134067\n",
      "Micro Recall Dev:  0.4861062258177981\n",
      "Micro Recall Test:  0.5028109627547435\n",
      "Confusion Matrix Train: \n",
      "[[16838  4727    17]\n",
      " [ 5850 14843    85]\n",
      " [    3     9    10]]\n",
      "Confusion Matrix Dev: \n",
      "[[ 102  163    7]\n",
      " [1262 1280   27]\n",
      " [   2    0    0]]\n",
      "Confusion Matrix Test: \n",
      "[[  98  149    3]\n",
      " [1231 1333   29]\n",
      " [   1    2    0]]\n"
     ]
    }
   ],
   "source": [
    "computeAllScores(train_preds, dev_preds, test_preds, aug=True)"
   ]
  },
  {
   "cell_type": "markdown",
   "metadata": {},
   "source": [
    "### Glove Twitter 25"
   ]
  },
  {
   "cell_type": "code",
   "execution_count": 5,
   "metadata": {},
   "outputs": [],
   "source": [
    "gt25_train, gt25_dev, gt25_test = load_glove_twitter_25()"
   ]
  },
  {
   "cell_type": "code",
   "execution_count": 6,
   "metadata": {},
   "outputs": [],
   "source": [
    "# Set all NaN values to 0\n",
    "gt25_train = np.nan_to_num(gt25_train)\n",
    "gt25_dev = np.nan_to_num(gt25_dev)\n",
    "gt25_test = np.nan_to_num(gt25_test)"
   ]
  },
  {
   "cell_type": "code",
   "execution_count": 7,
   "metadata": {},
   "outputs": [],
   "source": [
    "linear_discriminant_analysis = LinearDiscriminantAnalysis().fit(gt25_train, train_labels)\n",
    "save_model(linear_discriminant_analysis, \"linear_discriminant_analysis_gt25.joblib\")"
   ]
  },
  {
   "cell_type": "code",
   "execution_count": 8,
   "metadata": {},
   "outputs": [],
   "source": [
    "train_preds = linear_discriminant_analysis.predict(gt25_train)\n",
    "dev_preds = linear_discriminant_analysis.predict(gt25_dev)\n",
    "test_preds = linear_discriminant_analysis.predict(gt25_test)"
   ]
  },
  {
   "cell_type": "code",
   "execution_count": 9,
   "metadata": {},
   "outputs": [
    {
     "name": "stdout",
     "output_type": "stream",
     "text": [
      "Accuracy Train:  0.9079167032773922\n",
      "Accuracy Dev:  0.898698557861414\n",
      "Accuracy Test:  0.9082923401264933\n",
      "Weighted F1 Train:  0.874038857270971\n",
      "Weighted F1 Dev:  0.8624845462727491\n",
      "Weighted F1 Test:  0.8720091183359844\n",
      "Macro F1 Train:  0.36459038619550105\n",
      "Macro F1 Dev:  0.340309658495705\n",
      "Macro F1 Test:  0.38622567029769245\n",
      "Micro F1 Train:  0.9079167032773922\n",
      "Micro F1 Dev:  0.898698557861414\n",
      "Micro F1 Test:  0.9082923401264933\n",
      "Weighted Recall Train:  0.9079167032773922\n",
      "Weighted Recall Dev:  0.898698557861414\n",
      "Weighted Recall Test:  0.9082923401264933\n",
      "Macro Recall Train:  0.41721430746696536\n",
      "Macro Recall Dev:  0.3435699211564735\n",
      "Macro Recall Test:  0.4517209581351502\n",
      "Micro Recall Train:  0.9079167032773922\n",
      "Micro Recall Dev:  0.898698557861414\n",
      "Micro Recall Test:  0.9082923401264933\n",
      "Confusion Matrix Train: \n",
      "[[   65  1896     1]\n",
      " [   86 20596    96]\n",
      " [    0    17     5]]\n",
      "Confusion Matrix Dev: \n",
      "[[  11  260    1]\n",
      " [  13 2544   12]\n",
      " [   0    2    0]]\n",
      "Confusion Matrix Test: \n",
      "[[   7  243    0]\n",
      " [   7 2577    9]\n",
      " [   0    2    1]]\n"
     ]
    }
   ],
   "source": [
    "computeAllScores(train_preds, dev_preds, test_preds)"
   ]
  },
  {
   "cell_type": "markdown",
   "metadata": {},
   "source": [
    "### FastText 300 "
   ]
  },
  {
   "cell_type": "code",
   "execution_count": 10,
   "metadata": {},
   "outputs": [],
   "source": [
    "ft300_train, ft300_dev, ft300_test = load_fasttext_300()"
   ]
  },
  {
   "cell_type": "code",
   "execution_count": 11,
   "metadata": {},
   "outputs": [],
   "source": [
    "# Set all NaN values to 0\n",
    "ft300_train = np.nan_to_num(ft300_train)\n",
    "ft300_dev = np.nan_to_num(ft300_dev)\n",
    "ft300_test = np.nan_to_num(ft300_test)"
   ]
  },
  {
   "cell_type": "code",
   "execution_count": 12,
   "metadata": {},
   "outputs": [],
   "source": [
    "linear_discriminant_analysis = LinearDiscriminantAnalysis().fit(ft300_train, train_labels)\n",
    "save_model(linear_discriminant_analysis, \"linear_discriminant_analysis_ft300.joblib\")"
   ]
  },
  {
   "cell_type": "code",
   "execution_count": 13,
   "metadata": {},
   "outputs": [],
   "source": [
    "train_preds = linear_discriminant_analysis.predict(ft300_train)\n",
    "dev_preds = linear_discriminant_analysis.predict(ft300_dev)\n",
    "test_preds = linear_discriminant_analysis.predict(ft300_test)"
   ]
  },
  {
   "cell_type": "code",
   "execution_count": 14,
   "metadata": {},
   "outputs": [
    {
     "name": "stdout",
     "output_type": "stream",
     "text": [
      "Accuracy Train:  0.9126614532993585\n",
      "Accuracy Dev:  0.9071403447062961\n",
      "Accuracy Test:  0.910049191848208\n",
      "Weighted F1 Train:  0.8934781948762186\n",
      "Weighted F1 Dev:  0.8887626728422264\n",
      "Weighted F1 Test:  0.8887201943577504\n",
      "Macro F1 Train:  0.5010472645030078\n",
      "Macro F1 Dev:  0.42172269960030934\n",
      "Macro F1 Test:  0.5623809652351002\n",
      "Micro F1 Train:  0.9126614532993585\n",
      "Micro F1 Dev:  0.9071403447062961\n",
      "Micro F1 Test:  0.910049191848208\n",
      "Weighted Recall Train:  0.9126614532993585\n",
      "Weighted Recall Dev:  0.9071403447062961\n",
      "Weighted Recall Test:  0.910049191848208\n",
      "Macro Recall Train:  0.4930656903412138\n",
      "Macro Recall Dev:  0.400375136430594\n",
      "Macro Recall Test:  0.49091674165488275\n",
      "Micro Recall Train:  0.9126614532993585\n",
      "Micro Recall Dev:  0.9071403447062961\n",
      "Micro Recall Test:  0.910049191848208\n",
      "Confusion Matrix Train: \n",
      "[[  350  1612     0]\n",
      " [  341 20417    20]\n",
      " [    0    15     7]]\n",
      "Confusion Matrix Dev: \n",
      "[[  60  212    0]\n",
      " [  49 2519    1]\n",
      " [   0    2    0]]\n",
      "Confusion Matrix Test: \n",
      "[[  39  211    0]\n",
      " [  43 2550    0]\n",
      " [   0    2    1]]\n"
     ]
    }
   ],
   "source": [
    "computeAllScores(train_preds, dev_preds, test_preds)"
   ]
  },
  {
   "cell_type": "markdown",
   "metadata": {},
   "source": [
    "### Word2Vec 300"
   ]
  },
  {
   "cell_type": "code",
   "execution_count": 15,
   "metadata": {},
   "outputs": [],
   "source": [
    "w2v300_train, w2v300_dev, w2v300_test = load_word2vec_300()"
   ]
  },
  {
   "cell_type": "code",
   "execution_count": 16,
   "metadata": {},
   "outputs": [],
   "source": [
    "# Set all NaN values to 0\n",
    "w2v300_train = np.nan_to_num(w2v300_train)\n",
    "w2v300_dev = np.nan_to_num(w2v300_dev)\n",
    "w2v300_test = np.nan_to_num(w2v300_test)"
   ]
  },
  {
   "cell_type": "code",
   "execution_count": 17,
   "metadata": {},
   "outputs": [],
   "source": [
    "linear_discriminant_analysis = LinearDiscriminantAnalysis().fit(w2v300_train, train_labels)\n",
    "save_model(linear_discriminant_analysis, \"linear_discriminant_analysis_w2v300.joblib\")"
   ]
  },
  {
   "cell_type": "code",
   "execution_count": 18,
   "metadata": {},
   "outputs": [],
   "source": [
    "train_preds = linear_discriminant_analysis.predict(w2v300_train)\n",
    "dev_preds = linear_discriminant_analysis.predict(w2v300_dev)\n",
    "test_preds = linear_discriminant_analysis.predict(w2v300_test)"
   ]
  },
  {
   "cell_type": "code",
   "execution_count": 19,
   "metadata": {},
   "outputs": [
    {
     "name": "stdout",
     "output_type": "stream",
     "text": [
      "Accuracy Train:  0.9127932519110799\n",
      "Accuracy Dev:  0.9110094970102005\n",
      "Accuracy Test:  0.9065354884047786\n",
      "Weighted F1 Train:  0.8948068945756313\n",
      "Weighted F1 Dev:  0.8934695262440009\n",
      "Weighted F1 Test:  0.887026339373011\n",
      "Macro F1 Train:  0.5317567127629402\n",
      "Macro F1 Dev:  0.4323068918635153\n",
      "Macro F1 Test:  0.5073037805813615\n",
      "Micro F1 Train:  0.9127932519110799\n",
      "Micro F1 Dev:  0.9110094970102005\n",
      "Micro F1 Test:  0.9065354884047786\n",
      "Weighted Recall Train:  0.9127932519110799\n",
      "Weighted Recall Dev:  0.9110094970102005\n",
      "Weighted Recall Test:  0.9065354884047786\n",
      "Macro Recall Train:  0.5124032962267827\n",
      "Macro Recall Dev:  0.4083768384738091\n",
      "Macro Recall Test:  0.49204079358957875\n",
      "Micro Recall Train:  0.9127932519110799\n",
      "Micro Recall Dev:  0.9110094970102005\n",
      "Micro Recall Test:  0.9065354884047786\n",
      "Confusion Matrix Train: \n",
      "[[  377  1584     1]\n",
      " [  373 20392    13]\n",
      " [    0    14     8]]\n",
      "Confusion Matrix Dev: \n",
      "[[  66  206    0]\n",
      " [  45 2524    0]\n",
      " [   0    2    0]]\n",
      "Confusion Matrix Test: \n",
      "[[  41  209    0]\n",
      " [  53 2538    2]\n",
      " [   0    2    1]]\n"
     ]
    }
   ],
   "source": [
    "computeAllScores(train_preds, dev_preds, test_preds)"
   ]
  },
  {
   "cell_type": "markdown",
   "metadata": {},
   "source": [
    "### TF-IDF PCA (1000 Dims)"
   ]
  },
  {
   "cell_type": "code",
   "execution_count": 20,
   "metadata": {},
   "outputs": [],
   "source": [
    "tfidf_pca_train, tfidf_pca_dev, tfidf_pca_test = load_tfidf_pca()"
   ]
  },
  {
   "cell_type": "code",
   "execution_count": 21,
   "metadata": {},
   "outputs": [],
   "source": [
    "linear_discriminant_analysis = LinearDiscriminantAnalysis().fit(tfidf_pca_train, train_labels)\n",
    "save_model(linear_discriminant_analysis, \"linear_discriminant_analysis_tfidf_pca.joblib\")"
   ]
  },
  {
   "cell_type": "code",
   "execution_count": 22,
   "metadata": {},
   "outputs": [],
   "source": [
    "train_preds = linear_discriminant_analysis.predict(tfidf_pca_train)\n",
    "dev_preds = linear_discriminant_analysis.predict(tfidf_pca_dev)\n",
    "test_preds = linear_discriminant_analysis.predict(tfidf_pca_test)"
   ]
  },
  {
   "cell_type": "code",
   "execution_count": 23,
   "metadata": {},
   "outputs": [
    {
     "name": "stdout",
     "output_type": "stream",
     "text": [
      "Accuracy Train:  0.9249626570600123\n",
      "Accuracy Dev:  0.9096025325360535\n",
      "Accuracy Test:  0.9093464511595222\n",
      "Weighted F1 Train:  0.9240693947324502\n",
      "Weighted F1 Dev:  0.9091847121944527\n",
      "Weighted F1 Test:  0.909648731477934\n",
      "Macro F1 Train:  0.5522586948263765\n",
      "Macro F1 Dev:  0.49147230896878646\n",
      "Macro F1 Test:  0.4827525893804463\n",
      "Micro F1 Train:  0.9249626570600123\n",
      "Micro F1 Dev:  0.9096025325360535\n",
      "Micro F1 Test:  0.9093464511595223\n",
      "Weighted Recall Train:  0.9249626570600123\n",
      "Weighted Recall Dev:  0.9096025325360535\n",
      "Weighted Recall Test:  0.9093464511595222\n",
      "Macro Recall Train:  0.6862203638663568\n",
      "Macro Recall Dev:  0.4746978491669147\n",
      "Macro Recall Test:  0.47244530145262886\n",
      "Micro Recall Train:  0.9249626570600123\n",
      "Micro Recall Dev:  0.9096025325360535\n",
      "Micro Recall Test:  0.9093464511595222\n",
      "Confusion Matrix Train: \n",
      "[[  986   967     9]\n",
      " [  579 20055   144]\n",
      " [    0     9    13]]\n",
      "Confusion Matrix Dev: \n",
      "[[ 127  143    2]\n",
      " [  86 2459   24]\n",
      " [   0    2    0]]\n",
      "Confusion Matrix Test: \n",
      "[[ 116  134    0]\n",
      " [ 100 2472   21]\n",
      " [   0    3    0]]\n"
     ]
    }
   ],
   "source": [
    "computeAllScores(train_preds, dev_preds, test_preds)"
   ]
  },
  {
   "cell_type": "markdown",
   "metadata": {},
   "source": [
    "### Sentence Transformer Faster No PCA"
   ]
  },
  {
   "cell_type": "code",
   "execution_count": 24,
   "metadata": {},
   "outputs": [],
   "source": [
    "train, dev, test = load_sent_trans_fast_no_pca()"
   ]
  },
  {
   "cell_type": "code",
   "execution_count": 25,
   "metadata": {},
   "outputs": [],
   "source": [
    "linear_discriminant_analysis = LinearDiscriminantAnalysis().fit(train, train_labels)\n",
    "save_model(linear_discriminant_analysis, \"linear_discriminant_analysis_sent_trans_fast_no_pca.joblib\")"
   ]
  },
  {
   "cell_type": "code",
   "execution_count": 26,
   "metadata": {},
   "outputs": [],
   "source": [
    "train_preds = linear_discriminant_analysis.predict(train)\n",
    "dev_preds = linear_discriminant_analysis.predict(dev)\n",
    "test_preds = linear_discriminant_analysis.predict(test)"
   ]
  },
  {
   "cell_type": "code",
   "execution_count": 27,
   "metadata": {},
   "outputs": [
    {
     "name": "stdout",
     "output_type": "stream",
     "text": [
      "Accuracy Train:  0.9253141200246024\n",
      "Accuracy Dev:  0.9176925782623989\n",
      "Accuracy Test:  0.9188334504567814\n",
      "Weighted F1 Train:  0.9209556515080913\n",
      "Weighted F1 Dev:  0.9119872252172647\n",
      "Weighted F1 Test:  0.914249702678899\n",
      "Macro F1 Train:  0.6522347837376588\n",
      "Macro F1 Dev:  0.48890475977919623\n",
      "Macro F1 Test:  0.5652457244580075\n",
      "Micro F1 Train:  0.9253141200246023\n",
      "Micro F1 Dev:  0.9176925782623989\n",
      "Micro F1 Test:  0.9188334504567814\n",
      "Weighted Recall Train:  0.9253141200246024\n",
      "Weighted Recall Dev:  0.9176925782623989\n",
      "Weighted Recall Test:  0.9188334504567814\n",
      "Macro Recall Train:  0.6575203992011289\n",
      "Macro Recall Dev:  0.4711077210175623\n",
      "Macro Recall Test:  0.5772604876376569\n",
      "Micro Recall Train:  0.9253141200246024\n",
      "Micro Recall Dev:  0.9176925782623989\n",
      "Micro Recall Test:  0.9188334504567814\n",
      "Confusion Matrix Train: \n",
      "[[  897  1064     1]\n",
      " [  610 20153    15]\n",
      " [    0    10    12]]\n",
      "Confusion Matrix Dev: \n",
      "[[ 121  151    0]\n",
      " [  80 2488    1]\n",
      " [   0    2    0]]\n",
      "Confusion Matrix Test: \n",
      "[[ 108  142    0]\n",
      " [  83 2506    4]\n",
      " [   0    2    1]]\n"
     ]
    }
   ],
   "source": [
    "computeAllScores(train_preds, dev_preds, test_preds)"
   ]
  },
  {
   "cell_type": "markdown",
   "metadata": {},
   "source": [
    "### Sentence Transformer Faster PCA"
   ]
  },
  {
   "cell_type": "code",
   "execution_count": 28,
   "metadata": {},
   "outputs": [],
   "source": [
    "train, dev, test = load_sent_trans_fast_pca()"
   ]
  },
  {
   "cell_type": "code",
   "execution_count": 29,
   "metadata": {},
   "outputs": [],
   "source": [
    "linear_discriminant_analysis = LinearDiscriminantAnalysis().fit(train, train_labels)\n",
    "save_model(linear_discriminant_analysis, \"linear_discriminant_analysis_sent_trans_fast_pca.joblib\")"
   ]
  },
  {
   "cell_type": "code",
   "execution_count": 30,
   "metadata": {},
   "outputs": [],
   "source": [
    "train_preds = linear_discriminant_analysis.predict(train)\n",
    "dev_preds = linear_discriminant_analysis.predict(dev)\n",
    "test_preds = linear_discriminant_analysis.predict(test)"
   ]
  },
  {
   "cell_type": "code",
   "execution_count": 31,
   "metadata": {},
   "outputs": [
    {
     "name": "stdout",
     "output_type": "stream",
     "text": [
      "Accuracy Train:  0.9229417450136191\n",
      "Accuracy Dev:  0.9138234259584945\n",
      "Accuracy Test:  0.9188334504567814\n",
      "Weighted F1 Train:  0.917783884830192\n",
      "Weighted F1 Dev:  0.9078645778215626\n",
      "Weighted F1 Test:  0.9134276856764797\n",
      "Macro F1 Train:  0.597693481551787\n",
      "Macro F1 Dev:  0.480408269394049\n",
      "Macro F1 Test:  0.4796357783302687\n",
      "Micro F1 Train:  0.9229417450136191\n",
      "Micro F1 Dev:  0.9138234259584945\n",
      "Micro F1 Test:  0.9188334504567814\n",
      "Weighted Recall Train:  0.9229417450136191\n",
      "Weighted Recall Dev:  0.9138234259584945\n",
      "Weighted Recall Test:  0.9188334504567814\n",
      "Macro Recall Train:  0.6029396696474878\n",
      "Macro Recall Dev:  0.4620102809516177\n",
      "Macro Recall Test:  0.4638683635428718\n",
      "Micro Recall Train:  0.9229417450136191\n",
      "Micro Recall Dev:  0.9138234259584945\n",
      "Micro Recall Test:  0.9188334504567814\n",
      "Confusion Matrix Train: \n",
      "[[  843  1119     0]\n",
      " [  600 20156    22]\n",
      " [    0    13     9]]\n",
      "Confusion Matrix Dev: \n",
      "[[ 114  158    0]\n",
      " [  81 2484    4]\n",
      " [   0    2    0]]\n",
      "Confusion Matrix Test: \n",
      "[[ 106  144    0]\n",
      " [  83 2509    1]\n",
      " [   0    3    0]]\n"
     ]
    }
   ],
   "source": [
    "computeAllScores(train_preds, dev_preds, test_preds)"
   ]
  },
  {
   "cell_type": "code",
   "execution_count": 32,
   "metadata": {},
   "outputs": [],
   "source": [
    "# Format List of Lists as Confusion Matrix\n",
    "import tabulate\n",
    "def format_confusion_matrix(confusion_matrix):\n",
    "    return tabulate(confusion_matrix, headers=['Hope_speech', 'Non_hope_speech', 'not-English'], tablefmt='psql')\n"
   ]
  },
  {
   "cell_type": "markdown",
   "metadata": {},
   "source": [
    "### Sentence Transformer Better No PCA"
   ]
  },
  {
   "cell_type": "code",
   "execution_count": 33,
   "metadata": {},
   "outputs": [],
   "source": [
    "train, dev, test = load_sent_trans_better_no_pca()"
   ]
  },
  {
   "cell_type": "code",
   "execution_count": 34,
   "metadata": {},
   "outputs": [],
   "source": [
    "linear_discriminant_analysis = LinearDiscriminantAnalysis().fit(train, train_labels)\n",
    "save_model(linear_discriminant_analysis, \"linear_discriminant_analysis_sent_trans_better_no_pca.joblib\")"
   ]
  },
  {
   "cell_type": "code",
   "execution_count": 35,
   "metadata": {},
   "outputs": [],
   "source": [
    "train_preds = linear_discriminant_analysis.predict(train)\n",
    "dev_preds = linear_discriminant_analysis.predict(dev)\n",
    "test_preds = linear_discriminant_analysis.predict(test)"
   ]
  },
  {
   "cell_type": "code",
   "execution_count": 36,
   "metadata": {},
   "outputs": [
    {
     "name": "stdout",
     "output_type": "stream",
     "text": [
      "Accuracy Train:  0.9329584395044372\n",
      "Accuracy Dev:  0.9257826239887443\n",
      "Accuracy Test:  0.9314827828531272\n",
      "Weighted F1 Train:  0.9309155504439608\n",
      "Weighted F1 Dev:  0.9224525039048963\n",
      "Weighted F1 Test:  0.9278586560798175\n",
      "Macro F1 Train:  0.734891346582057\n",
      "Macro F1 Dev:  0.5134893380460697\n",
      "Macro F1 Test:  0.5132810757818648\n",
      "Micro F1 Train:  0.9329584395044372\n",
      "Micro F1 Dev:  0.9257826239887443\n",
      "Micro F1 Test:  0.9314827828531272\n",
      "Weighted Recall Train:  0.9329584395044372\n",
      "Weighted Recall Dev:  0.9257826239887443\n",
      "Weighted Recall Test:  0.9314827828531272\n",
      "Macro Recall Train:  0.7341808612091841\n",
      "Macro Recall Dev:  0.5003897335500959\n",
      "Macro Recall Test:  0.49861576038051164\n",
      "Micro Recall Train:  0.9329584395044372\n",
      "Micro Recall Dev:  0.9257826239887443\n",
      "Micro Recall Test:  0.9314827828531272\n",
      "Confusion Matrix Train: \n",
      "[[ 1082   880     0]\n",
      " [  630 20139     9]\n",
      " [    0     7    15]]\n",
      "Confusion Matrix Dev: \n",
      "[[ 145  127    0]\n",
      " [  82 2487    0]\n",
      " [   0    2    0]]\n",
      "Confusion Matrix Test: \n",
      "[[ 131  119    0]\n",
      " [  73 2520    0]\n",
      " [   0    3    0]]\n"
     ]
    }
   ],
   "source": [
    "computeAllScores(train_preds, dev_preds, test_preds)"
   ]
  },
  {
   "cell_type": "markdown",
   "metadata": {},
   "source": [
    "### Sentence Transformer Better PCA"
   ]
  },
  {
   "cell_type": "code",
   "execution_count": 37,
   "metadata": {},
   "outputs": [],
   "source": [
    "train, dev, test = load_sent_trans_better_pca()"
   ]
  },
  {
   "cell_type": "code",
   "execution_count": 38,
   "metadata": {},
   "outputs": [],
   "source": [
    "linear_discriminant_analysis = LinearDiscriminantAnalysis().fit(train, train_labels)\n",
    "save_model(linear_discriminant_analysis, \"linear_discriminant_analysis_sent_trans_better_pca.joblib\")"
   ]
  },
  {
   "cell_type": "code",
   "execution_count": 39,
   "metadata": {},
   "outputs": [],
   "source": [
    "train_preds = linear_discriminant_analysis.predict(train)\n",
    "dev_preds = linear_discriminant_analysis.predict(dev)\n",
    "test_preds = linear_discriminant_analysis.predict(test)"
   ]
  },
  {
   "cell_type": "code",
   "execution_count": 40,
   "metadata": {},
   "outputs": [
    {
     "name": "stdout",
     "output_type": "stream",
     "text": [
      "Accuracy Train:  0.9285212195764871\n",
      "Accuracy Dev:  0.9205065072106929\n",
      "Accuracy Test:  0.9272663387210119\n",
      "Weighted F1 Train:  0.9259481858495237\n",
      "Weighted F1 Dev:  0.9160776981610912\n",
      "Weighted F1 Test:  0.9239791816921512\n",
      "Macro F1 Train:  0.6345459293052274\n",
      "Macro F1 Dev:  0.49916287013549726\n",
      "Macro F1 Test:  0.5058152534206223\n",
      "Micro F1 Train:  0.9285212195764871\n",
      "Micro F1 Dev:  0.9205065072106929\n",
      "Micro F1 Test:  0.9272663387210119\n",
      "Weighted Recall Train:  0.9285212195764871\n",
      "Weighted Recall Dev:  0.9205065072106929\n",
      "Weighted Recall Test:  0.9272663387210119\n",
      "Macro Recall Train:  0.6314396346677315\n",
      "Macro Recall Dev:  0.4841988566543784\n",
      "Macro Recall Test:  0.49225401722586454\n",
      "Micro Recall Train:  0.9285212195764871\n",
      "Micro Recall Dev:  0.9205065072106929\n",
      "Micro Recall Test:  0.9272663387210119\n",
      "Confusion Matrix Train: \n",
      "[[ 1015   947     0]\n",
      " [  651 20111    16]\n",
      " [    0    13     9]]\n",
      "Confusion Matrix Dev: \n",
      "[[ 132  140    0]\n",
      " [  84 2485    0]\n",
      " [   0    2    0]]\n",
      "Confusion Matrix Test: \n",
      "[[ 127  123    0]\n",
      " [  79 2512    2]\n",
      " [   0    3    0]]\n"
     ]
    }
   ],
   "source": [
    "computeAllScores(train_preds, dev_preds, test_preds)"
   ]
  },
  {
   "cell_type": "markdown",
   "metadata": {},
   "source": [
    "## Augmented Data Sentence Transformer Better"
   ]
  },
  {
   "cell_type": "code",
   "execution_count": 41,
   "metadata": {},
   "outputs": [],
   "source": [
    "train_aug, dev, test = load_sent_trans_augmented_no_pca()\n"
   ]
  },
  {
   "cell_type": "code",
   "execution_count": 42,
   "metadata": {},
   "outputs": [],
   "source": [
    "linear_discriminant_analysis = LinearDiscriminantAnalysis().fit(train_aug, train_augmented_labels)\n",
    "save_model(linear_discriminant_analysis, \"linear_discriminant_analysis_sent_trans_augmented_no_pca.joblib\")"
   ]
  },
  {
   "cell_type": "code",
   "execution_count": 43,
   "metadata": {},
   "outputs": [],
   "source": [
    "train_preds = linear_discriminant_analysis.predict(train_aug)\n",
    "dev_preds = linear_discriminant_analysis.predict(dev)\n",
    "test_preds = linear_discriminant_analysis.predict(test)"
   ]
  },
  {
   "cell_type": "code",
   "execution_count": 44,
   "metadata": {},
   "outputs": [
    {
     "name": "stdout",
     "output_type": "stream",
     "text": [
      "Accuracy Train:  0.8904487754235288\n",
      "Accuracy Dev:  0.8519169890960253\n",
      "Accuracy Test:  0.8475052705551651\n",
      "Weighted F1 Train:  0.8904516680712965\n",
      "Weighted F1 Dev:  0.8692369589909583\n",
      "Weighted F1 Test:  0.8698072326737343\n",
      "Macro F1 Train:  0.8070183181840536\n",
      "Macro F1 Dev:  0.4541585352532163\n",
      "Macro F1 Test:  0.5622028726178442\n",
      "Micro F1 Train:  0.8904487754235288\n",
      "Micro F1 Dev:  0.8519169890960253\n",
      "Micro F1 Test:  0.8475052705551651\n",
      "Weighted Recall Train:  0.8904487754235288\n",
      "Weighted Recall Dev:  0.8519169890960253\n",
      "Weighted Recall Test:  0.8475052705551651\n",
      "Macro Recall Train:  0.8360185280406122\n",
      "Macro Recall Dev:  0.5005352277150642\n",
      "Macro Recall Test:  0.6258610789733042\n",
      "Micro Recall Train:  0.8904487754235288\n",
      "Micro Recall Dev:  0.8519169890960253\n",
      "Micro Recall Test:  0.8475052705551651\n",
      "Confusion Matrix Train: \n",
      "[[19378  2204     0]\n",
      " [ 2421 18345    12]\n",
      " [    0     6    16]]\n",
      "Confusion Matrix Dev: \n",
      "[[ 170  102    0]\n",
      " [ 317 2252    0]\n",
      " [   0    2    0]]\n",
      "Confusion Matrix Test: \n",
      "[[ 170   80    0]\n",
      " [ 350 2241    2]\n",
      " [   0    2    1]]\n"
     ]
    }
   ],
   "source": [
    "computeAllScores(train_preds, dev_preds, test_preds, aug=True)"
   ]
  },
  {
   "cell_type": "markdown",
   "metadata": {},
   "source": [
    "## Only 2 Class Augmented Data Sentence Transformer Better"
   ]
  },
  {
   "cell_type": "code",
   "execution_count": 45,
   "metadata": {},
   "outputs": [],
   "source": [
    "train, dev, test, train_labels, dev_labels, test_labels = load_only_2_class(\"sent_trans_augmented_no_pca\", True)"
   ]
  },
  {
   "cell_type": "code",
   "execution_count": 51,
   "metadata": {},
   "outputs": [],
   "source": [
    "train_labels = [label_replacement[label] for label in train_labels]\n",
    "dev_labels = [label_replacement[label] for label in dev_labels]\n",
    "test_labels = [label_replacement[label] for label in test_labels]"
   ]
  },
  {
   "cell_type": "code",
   "execution_count": 52,
   "metadata": {},
   "outputs": [],
   "source": [
    "linear_discriminant_analysis = LinearDiscriminantAnalysis().fit(train, train_labels)\n",
    "save_model(linear_discriminant_analysis, \"linear_discriminant_analysis_sent_trans_augmented_no_pca_2_class.joblib\")"
   ]
  },
  {
   "cell_type": "code",
   "execution_count": 53,
   "metadata": {},
   "outputs": [],
   "source": [
    "train_preds = linear_discriminant_analysis.predict(train)\n",
    "dev_preds = linear_discriminant_analysis.predict(dev)\n",
    "test_preds = linear_discriminant_analysis.predict(test)"
   ]
  },
  {
   "cell_type": "code",
   "execution_count": 54,
   "metadata": {},
   "outputs": [
    {
     "name": "stdout",
     "output_type": "stream",
     "text": [
      "Accuracy Train:  0.8904487754235288\n",
      "Accuracy Dev:  0.8519169890960253\n",
      "Accuracy Test:  0.8475052705551651\n",
      "Weighted F1 Train:  0.8904516680712965\n",
      "Weighted F1 Dev:  0.8692369589909583\n",
      "Weighted F1 Test:  0.8698072326737343\n",
      "Macro F1 Train:  0.8070183181840536\n",
      "Macro F1 Dev:  0.4541585352532163\n",
      "Macro F1 Test:  0.5622028726178442\n",
      "Micro F1 Train:  0.8904487754235288\n",
      "Micro F1 Dev:  0.8519169890960253\n",
      "Micro F1 Test:  0.8475052705551651\n",
      "Weighted Recall Train:  0.8904487754235288\n",
      "Weighted Recall Dev:  0.8519169890960253\n",
      "Weighted Recall Test:  0.8475052705551651\n",
      "Macro Recall Train:  0.8360185280406122\n",
      "Macro Recall Dev:  0.5005352277150642\n",
      "Macro Recall Test:  0.6258610789733042\n",
      "Micro Recall Train:  0.8904487754235288\n",
      "Micro Recall Dev:  0.8519169890960253\n",
      "Micro Recall Test:  0.8475052705551651\n",
      "Confusion Matrix Train: \n",
      "[[19378  2204     0]\n",
      " [ 2421 18345    12]\n",
      " [    0     6    16]]\n",
      "Confusion Matrix Dev: \n",
      "[[ 170  102    0]\n",
      " [ 317 2252    0]\n",
      " [   0    2    0]]\n",
      "Confusion Matrix Test: \n",
      "[[ 170   80    0]\n",
      " [ 350 2241    2]\n",
      " [   0    2    1]]\n"
     ]
    }
   ],
   "source": [
    "computeAllScores(train_preds, dev_preds, test_preds, aug=True)"
   ]
  },
  {
   "cell_type": "code",
   "execution_count": null,
   "metadata": {},
   "outputs": [],
   "source": []
  }
 ],
 "metadata": {
  "kernelspec": {
   "display_name": "Python 3.10.2 ('venv': venv)",
   "language": "python",
   "name": "python3"
  },
  "language_info": {
   "codemirror_mode": {
    "name": "ipython",
    "version": 3
   },
   "file_extension": ".py",
   "mimetype": "text/x-python",
   "name": "python",
   "nbconvert_exporter": "python",
   "pygments_lexer": "ipython3",
   "version": "3.10.2"
  },
  "orig_nbformat": 4,
  "vscode": {
   "interpreter": {
    "hash": "05f02a134849fd5c5f66d44739b03caad7c6758a3d768c4bdabdf36d26611ac2"
   }
  }
 },
 "nbformat": 4,
 "nbformat_minor": 2
}
