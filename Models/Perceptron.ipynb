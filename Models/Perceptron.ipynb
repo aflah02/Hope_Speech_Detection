{
 "cells": [
  {
   "cell_type": "code",
   "execution_count": 1,
   "metadata": {},
   "outputs": [
    {
     "name": "stdout",
     "output_type": "stream",
     "text": [
      "--ip=127.0.0.1\n"
     ]
    }
   ],
   "source": [
    "from embeddings_loader import *\n",
    "from sklearn.linear_model import Perceptron\n",
    "from sklearn.model_selection import GridSearchCV\n",
    "from sklearn.metrics import f1_score\n",
    "from sklearn.metrics import accuracy_score\n",
    "from sklearn.metrics import confusion_matrix\n",
    "from sklearn.metrics import classification_report\n",
    "from sklearn.metrics import recall_score\n",
    "from sklearn.metrics import precision_score\n",
    "from sklearn.metrics import roc_auc_score\n",
    "from utils import *"
   ]
  },
  {
   "cell_type": "code",
   "execution_count": 2,
   "metadata": {},
   "outputs": [],
   "source": [
    "train_labels, dev_labels, test_labels = load_labels()"
   ]
  },
  {
   "cell_type": "code",
   "execution_count": 3,
   "metadata": {},
   "outputs": [],
   "source": [
    "label_replacement = {\n",
    "    'Hope_speech': 0,\n",
    "    'Non_hope_speech': 1,\n",
    "    'not-English': 2,\n",
    "}"
   ]
  },
  {
   "cell_type": "code",
   "execution_count": 4,
   "metadata": {},
   "outputs": [],
   "source": [
    "# Replace labels with numbers\n",
    "train_labels = [label_replacement[label] for label in train_labels]\n",
    "dev_labels = [label_replacement[label] for label in dev_labels]\n",
    "test_labels = [label_replacement[label] for label in test_labels]"
   ]
  },
  {
   "cell_type": "code",
   "execution_count": 5,
   "metadata": {},
   "outputs": [],
   "source": [
    "perceptron = Perceptron()\n",
    "gridsearch = GridSearchCV(perceptron, param_grid = {\n",
    "    \"penalty\": [\"l2\", \"l1\", None],\n",
    "    \"alpha\": [0.0001, 0.001, 0.01, 0.1, 1.0],\n",
    "    \"eta0\": [0.0001, 0.001, 0.01, 0.1, 1.0],\n",
    "    \"max_iter\": [100, 1000, 10000]\n",
    "}, scoring = \"f1_micro\")"
   ]
  },
  {
   "cell_type": "markdown",
   "metadata": {},
   "source": [
    "### Glove Twitter 25"
   ]
  },
  {
   "cell_type": "code",
   "execution_count": 6,
   "metadata": {},
   "outputs": [],
   "source": [
    "gt25_train, gt25_dev, gt25_test = load_glove_twitter_25()"
   ]
  },
  {
   "cell_type": "code",
   "execution_count": 7,
   "metadata": {},
   "outputs": [],
   "source": [
    "# Set all NaN values to 0\n",
    "gt25_train = np.nan_to_num(gt25_train)\n",
    "gt25_dev = np.nan_to_num(gt25_dev)\n",
    "gt25_test = np.nan_to_num(gt25_test)"
   ]
  },
  {
   "cell_type": "code",
   "execution_count": 8,
   "metadata": {},
   "outputs": [],
   "source": [
    "grid_results = gridsearch.fit(gt25_train, train_labels)\n",
    "best_params = grid_results.best_params_\n",
    "perceptron = grid_results.best_estimator_"
   ]
  },
  {
   "cell_type": "code",
   "execution_count": 9,
   "metadata": {},
   "outputs": [
    {
     "data": {
      "text/plain": [
       "{'alpha': 0.01, 'eta0': 0.1, 'max_iter': 100, 'penalty': 'l2'}"
      ]
     },
     "execution_count": 9,
     "metadata": {},
     "output_type": "execute_result"
    }
   ],
   "source": [
    "best_params"
   ]
  },
  {
   "cell_type": "code",
   "execution_count": 10,
   "metadata": {},
   "outputs": [],
   "source": [
    "perceptron = perceptron.fit(gt25_train, train_labels)\n",
    "save_model(perceptron, \"perceptron_gt25.joblib\")"
   ]
  },
  {
   "cell_type": "code",
   "execution_count": 11,
   "metadata": {},
   "outputs": [],
   "source": [
    "train_preds = perceptron.predict(gt25_train)\n",
    "dev_preds = perceptron.predict(gt25_dev)\n",
    "test_preds = perceptron.predict(gt25_test)"
   ]
  },
  {
   "cell_type": "code",
   "execution_count": 12,
   "metadata": {},
   "outputs": [
    {
     "name": "stdout",
     "output_type": "stream",
     "text": [
      "Accuracy Train:  0.9132325806168176\n",
      "Accuracy Dev:  0.9050298979950756\n",
      "Accuracy Test:  0.9132115249472944\n",
      "Weighted F1 Train:  0.8744351101760547\n",
      "Weighted F1 Dev:  0.8619334282377243\n",
      "Weighted F1 Test:  0.8744332920127035\n",
      "Macro F1 Train:  0.33004307939745064\n",
      "Macro F1 Dev:  0.3286755723057514\n",
      "Macro F1 Test:  0.3362613040174669\n",
      "Micro F1 Train:  0.9132325806168176\n",
      "Micro F1 Dev:  0.9050298979950756\n",
      "Micro F1 Test:  0.9132115249472944\n",
      "Weighted Recall Train:  0.9132325806168176\n",
      "Weighted Recall Dev:  0.9050298979950756\n",
      "Weighted Recall Test:  0.9132115249472944\n",
      "Macro Recall Train:  0.3390163908368149\n",
      "Macro Recall Dev:  0.3393310321403766\n",
      "Macro Recall Test:  0.3425381154390024\n",
      "Micro Recall Train:  0.9132325806168176\n",
      "Micro Recall Dev:  0.9050298979950756\n",
      "Micro Recall Test:  0.9132115249472944\n",
      "Confusion Matrix Train: \n",
      "[[   36  1926     0]\n",
      " [   27 20751     0]\n",
      " [    0    22     0]]\n",
      "Confusion Matrix Dev: \n",
      "[[   5  267    0]\n",
      " [   1 2568    0]\n",
      " [   0    2    0]]\n",
      "Confusion Matrix Test: \n",
      "[[   7  243    0]\n",
      " [   1 2592    0]\n",
      " [   0    3    0]]\n"
     ]
    }
   ],
   "source": [
    "computeAllScores(train_preds, dev_preds, test_preds)"
   ]
  },
  {
   "cell_type": "markdown",
   "metadata": {},
   "source": [
    "### FastText 300 "
   ]
  },
  {
   "cell_type": "code",
   "execution_count": 13,
   "metadata": {},
   "outputs": [],
   "source": [
    "ft300_train, ft300_dev, ft300_test = load_fasttext_300()"
   ]
  },
  {
   "cell_type": "code",
   "execution_count": 14,
   "metadata": {},
   "outputs": [],
   "source": [
    "# Set all NaN values to 0\n",
    "ft300_train = np.nan_to_num(ft300_train)\n",
    "ft300_dev = np.nan_to_num(ft300_dev)\n",
    "ft300_test = np.nan_to_num(ft300_test)"
   ]
  },
  {
   "cell_type": "code",
   "execution_count": 15,
   "metadata": {},
   "outputs": [],
   "source": [
    "grid_results = gridsearch.fit(ft300_train, train_labels)\n",
    "best_params = grid_results.best_params_\n",
    "perceptron = grid_results.best_estimator_"
   ]
  },
  {
   "cell_type": "code",
   "execution_count": 16,
   "metadata": {},
   "outputs": [
    {
     "data": {
      "text/plain": [
       "{'alpha': 0.001, 'eta0': 0.0001, 'max_iter': 100, 'penalty': 'l1'}"
      ]
     },
     "execution_count": 16,
     "metadata": {},
     "output_type": "execute_result"
    }
   ],
   "source": [
    "best_params"
   ]
  },
  {
   "cell_type": "code",
   "execution_count": 17,
   "metadata": {},
   "outputs": [],
   "source": [
    "perceptron = perceptron.fit(ft300_train, train_labels)\n",
    "save_model(perceptron, \"perceptron_ft300.joblib\")"
   ]
  },
  {
   "cell_type": "code",
   "execution_count": 18,
   "metadata": {},
   "outputs": [],
   "source": [
    "train_preds = perceptron.predict(ft300_train)\n",
    "dev_preds = perceptron.predict(ft300_dev)\n",
    "test_preds = perceptron.predict(ft300_test)"
   ]
  },
  {
   "cell_type": "code",
   "execution_count": 19,
   "metadata": {},
   "outputs": [
    {
     "name": "stdout",
     "output_type": "stream",
     "text": [
      "Accuracy Train:  0.9128371847816537\n",
      "Accuracy Dev:  0.9036229335209286\n",
      "Accuracy Test:  0.9111033028812369\n",
      "Weighted F1 Train:  0.8712416640051998\n",
      "Weighted F1 Dev:  0.85787410059692\n",
      "Weighted F1 Test:  0.8687225094212346\n",
      "Macro F1 Train:  0.31814423518603585\n",
      "Macro F1 Dev:  0.31645725548164577\n",
      "Macro F1 Test:  0.31782803211374644\n",
      "Micro F1 Train:  0.9128371847816537\n",
      "Micro F1 Dev:  0.9036229335209286\n",
      "Micro F1 Test:  0.9111033028812369\n",
      "Weighted Recall Train:  0.9128371847816537\n",
      "Weighted Recall Dev:  0.9036229335209286\n",
      "Weighted Recall Test:  0.9111033028812369\n",
      "Macro Recall Train:  0.3333333333333333\n",
      "Macro Recall Dev:  0.3333333333333333\n",
      "Macro Recall Test:  0.3333333333333333\n",
      "Micro Recall Train:  0.9128371847816537\n",
      "Micro Recall Dev:  0.9036229335209286\n",
      "Micro Recall Test:  0.9111033028812369\n",
      "Confusion Matrix Train: \n",
      "[[    0  1962     0]\n",
      " [    0 20778     0]\n",
      " [    0    22     0]]\n",
      "Confusion Matrix Dev: \n",
      "[[   0  272    0]\n",
      " [   0 2569    0]\n",
      " [   0    2    0]]\n",
      "Confusion Matrix Test: \n",
      "[[   0  250    0]\n",
      " [   0 2593    0]\n",
      " [   0    3    0]]\n"
     ]
    }
   ],
   "source": [
    "computeAllScores(train_preds, dev_preds, test_preds)"
   ]
  },
  {
   "cell_type": "markdown",
   "metadata": {},
   "source": [
    "### Word2Vec 300"
   ]
  },
  {
   "cell_type": "code",
   "execution_count": 20,
   "metadata": {},
   "outputs": [],
   "source": [
    "w2v300_train, w2v300_dev, w2v300_test = load_word2vec_300()"
   ]
  },
  {
   "cell_type": "code",
   "execution_count": 21,
   "metadata": {},
   "outputs": [],
   "source": [
    "# Set all NaN values to 0\n",
    "w2v300_train = np.nan_to_num(w2v300_train)\n",
    "w2v300_dev = np.nan_to_num(w2v300_dev)\n",
    "w2v300_test = np.nan_to_num(w2v300_test)"
   ]
  },
  {
   "cell_type": "code",
   "execution_count": 22,
   "metadata": {},
   "outputs": [],
   "source": [
    "grid_results = gridsearch.fit(w2v300_train, train_labels)\n",
    "best_params = grid_results.best_params_\n",
    "perceptron = grid_results.best_estimator_"
   ]
  },
  {
   "cell_type": "code",
   "execution_count": 23,
   "metadata": {},
   "outputs": [
    {
     "data": {
      "text/plain": [
       "{'alpha': 0.01, 'eta0': 1.0, 'max_iter': 100, 'penalty': 'l2'}"
      ]
     },
     "execution_count": 23,
     "metadata": {},
     "output_type": "execute_result"
    }
   ],
   "source": [
    "best_params"
   ]
  },
  {
   "cell_type": "code",
   "execution_count": 24,
   "metadata": {},
   "outputs": [],
   "source": [
    "perceptron = perceptron.fit(w2v300_train, train_labels)\n",
    "save_model(perceptron, \"perceptron_w2v300.joblib\")"
   ]
  },
  {
   "cell_type": "code",
   "execution_count": 25,
   "metadata": {},
   "outputs": [],
   "source": [
    "train_preds = perceptron.predict(w2v300_train)\n",
    "dev_preds = perceptron.predict(w2v300_dev)\n",
    "test_preds = perceptron.predict(w2v300_test)"
   ]
  },
  {
   "cell_type": "code",
   "execution_count": 26,
   "metadata": {},
   "outputs": [
    {
     "name": "stdout",
     "output_type": "stream",
     "text": [
      "Accuracy Train:  0.9126175204287849\n",
      "Accuracy Dev:  0.9032711924023918\n",
      "Accuracy Test:  0.9111033028812369\n",
      "Weighted F1 Train:  0.871132047293869\n",
      "Weighted F1 Dev:  0.8576986484131379\n",
      "Weighted F1 Test:  0.8687225094212346\n",
      "Macro F1 Train:  0.3181042073427511\n",
      "Macro F1 Dev:  0.31639253372759196\n",
      "Macro F1 Test:  0.31782803211374644\n",
      "Micro F1 Train:  0.9126175204287849\n",
      "Micro F1 Dev:  0.9032711924023918\n",
      "Micro F1 Test:  0.9111033028812369\n",
      "Weighted Recall Train:  0.9126175204287849\n",
      "Weighted Recall Dev:  0.9032711924023918\n",
      "Weighted Recall Test:  0.9111033028812369\n",
      "Macro Recall Train:  0.33325312028748355\n",
      "Macro Recall Dev:  0.33320358115998444\n",
      "Macro Recall Test:  0.3333333333333333\n",
      "Micro Recall Train:  0.9126175204287849\n",
      "Micro Recall Dev:  0.9032711924023918\n",
      "Micro Recall Test:  0.9111033028812369\n",
      "Confusion Matrix Train: \n",
      "[[    0  1962     0]\n",
      " [    5 20773     0]\n",
      " [    0    22     0]]\n",
      "Confusion Matrix Dev: \n",
      "[[   0  272    0]\n",
      " [   1 2568    0]\n",
      " [   0    2    0]]\n",
      "Confusion Matrix Test: \n",
      "[[   0  250    0]\n",
      " [   0 2593    0]\n",
      " [   0    3    0]]\n"
     ]
    }
   ],
   "source": [
    "computeAllScores(train_preds, dev_preds, test_preds)"
   ]
  },
  {
   "cell_type": "markdown",
   "metadata": {},
   "source": [
    "### TF-IDF PCA (1000 Dims)"
   ]
  },
  {
   "cell_type": "code",
   "execution_count": 27,
   "metadata": {},
   "outputs": [],
   "source": [
    "tfidf_pca_train, tfidf_pca_dev, tfidf_pca_test = load_tfidf_pca()"
   ]
  },
  {
   "cell_type": "code",
   "execution_count": 28,
   "metadata": {},
   "outputs": [],
   "source": [
    "grid_results = gridsearch.fit(tfidf_pca_train, train_labels)\n",
    "best_params = grid_results.best_params_\n",
    "perceptron = grid_results.best_estimator_"
   ]
  },
  {
   "cell_type": "code",
   "execution_count": 29,
   "metadata": {},
   "outputs": [
    {
     "data": {
      "text/plain": [
       "{'alpha': 0.0001, 'eta0': 0.1, 'max_iter': 100, 'penalty': 'l2'}"
      ]
     },
     "execution_count": 29,
     "metadata": {},
     "output_type": "execute_result"
    }
   ],
   "source": [
    "best_params"
   ]
  },
  {
   "cell_type": "code",
   "execution_count": 30,
   "metadata": {},
   "outputs": [],
   "source": [
    "perceptron = perceptron.fit(tfidf_pca_train, train_labels)\n",
    "save_model(perceptron, \"perceptron_tfidf_pca.joblib\")"
   ]
  },
  {
   "cell_type": "code",
   "execution_count": 31,
   "metadata": {},
   "outputs": [],
   "source": [
    "train_preds = perceptron.predict(tfidf_pca_train)\n",
    "dev_preds = perceptron.predict(tfidf_pca_dev)\n",
    "test_preds = perceptron.predict(tfidf_pca_test)"
   ]
  },
  {
   "cell_type": "code",
   "execution_count": 32,
   "metadata": {},
   "outputs": [
    {
     "name": "stdout",
     "output_type": "stream",
     "text": [
      "Accuracy Train:  0.9260170459537826\n",
      "Accuracy Dev:  0.9060851213506859\n",
      "Accuracy Test:  0.9114546732255797\n",
      "Weighted F1 Train:  0.9211818014286257\n",
      "Weighted F1 Dev:  0.9006572083433716\n",
      "Weighted F1 Test:  0.9062913943906947\n",
      "Macro F1 Train:  0.495687024158139\n",
      "Macro F1 Dev:  0.46626192408040185\n",
      "Macro F1 Test:  0.4625893576809945\n",
      "Micro F1 Train:  0.9260170459537826\n",
      "Micro F1 Dev:  0.9060851213506859\n",
      "Micro F1 Test:  0.9114546732255797\n",
      "Weighted Recall Train:  0.9260170459537826\n",
      "Weighted Recall Dev:  0.9060851213506859\n",
      "Weighted Recall Test:  0.9114546732255797\n",
      "Macro Recall Train:  0.48144035138924757\n",
      "Macro Recall Dev:  0.4492940909333761\n",
      "Macro Recall Test:  0.44430183828255565\n",
      "Micro Recall Train:  0.9260170459537826\n",
      "Micro Recall Dev:  0.9060851213506859\n",
      "Micro Recall Test:  0.9114546732255797\n",
      "Confusion Matrix Train: \n",
      "[[  833  1090    39]\n",
      " [  471 20244    63]\n",
      " [    0    21     1]]\n",
      "Confusion Matrix Dev: \n",
      "[[ 105  165    2]\n",
      " [  90 2471    8]\n",
      " [   0    2    0]]\n",
      "Confusion Matrix Test: \n",
      "[[  92  154    4]\n",
      " [  81 2502   10]\n",
      " [   0    3    0]]\n"
     ]
    }
   ],
   "source": [
    "computeAllScores(train_preds, dev_preds, test_preds)"
   ]
  },
  {
   "cell_type": "markdown",
   "metadata": {},
   "source": [
    "### Sentence Transformer Faster No PCA"
   ]
  },
  {
   "cell_type": "code",
   "execution_count": 33,
   "metadata": {},
   "outputs": [],
   "source": [
    "train, dev, test = load_sent_trans_fast_no_pca()"
   ]
  },
  {
   "cell_type": "code",
   "execution_count": 34,
   "metadata": {},
   "outputs": [],
   "source": [
    "grid_results = gridsearch.fit(train, train_labels)\n",
    "best_params = grid_results.best_params_\n",
    "perceptron = grid_results.best_estimator_"
   ]
  },
  {
   "cell_type": "code",
   "execution_count": 35,
   "metadata": {},
   "outputs": [
    {
     "data": {
      "text/plain": [
       "{'alpha': 0.0001, 'eta0': 0.0001, 'max_iter': 100, 'penalty': 'l1'}"
      ]
     },
     "execution_count": 35,
     "metadata": {},
     "output_type": "execute_result"
    }
   ],
   "source": [
    "best_params"
   ]
  },
  {
   "cell_type": "code",
   "execution_count": 36,
   "metadata": {},
   "outputs": [],
   "source": [
    "perceptron = perceptron.fit(train, train_labels)\n",
    "save_model(perceptron, \"perceptron_faster_no_pca.joblib\")"
   ]
  },
  {
   "cell_type": "code",
   "execution_count": 37,
   "metadata": {},
   "outputs": [],
   "source": [
    "train_preds = perceptron.predict(train)\n",
    "dev_preds = perceptron.predict(dev)\n",
    "test_preds = perceptron.predict(test)"
   ]
  },
  {
   "cell_type": "code",
   "execution_count": 38,
   "metadata": {},
   "outputs": [
    {
     "name": "stdout",
     "output_type": "stream",
     "text": [
      "Accuracy Train:  0.9169229417450137\n",
      "Accuracy Dev:  0.9074920858248329\n",
      "Accuracy Test:  0.9167252283907238\n",
      "Weighted F1 Train:  0.882225042636173\n",
      "Weighted F1 Dev:  0.8688417753470915\n",
      "Weighted F1 Test:  0.885613807882912\n",
      "Macro F1 Train:  0.3542029696889917\n",
      "Macro F1 Dev:  0.34937899054295435\n",
      "Macro F1 Test:  0.3734899506114149\n",
      "Micro F1 Train:  0.9169229417450135\n",
      "Micro F1 Dev:  0.9074920858248328\n",
      "Micro F1 Test:  0.9167252283907238\n",
      "Weighted Recall Train:  0.9169229417450137\n",
      "Weighted Recall Dev:  0.9074920858248329\n",
      "Weighted Recall Test:  0.9167252283907238\n",
      "Macro Recall Train:  0.3519028742174077\n",
      "Macro Recall Dev:  0.35010093955838467\n",
      "Macro Recall Test:  0.36310014140635044\n",
      "Micro Recall Train:  0.9169229417450137\n",
      "Micro Recall Dev:  0.9074920858248329\n",
      "Micro Recall Test:  0.9167252283907238\n",
      "Confusion Matrix Train: \n",
      "[[  111  1851     0]\n",
      " [   18 20760     0]\n",
      " [    0    22     0]]\n",
      "Confusion Matrix Dev: \n",
      "[[  14  258    0]\n",
      " [   3 2566    0]\n",
      " [   0    2    0]]\n",
      "Confusion Matrix Test: \n",
      "[[  23  227    0]\n",
      " [   7 2586    0]\n",
      " [   0    3    0]]\n"
     ]
    }
   ],
   "source": [
    "computeAllScores(train_preds, dev_preds, test_preds)"
   ]
  },
  {
   "cell_type": "markdown",
   "metadata": {},
   "source": [
    "### Sentence Transformer Faster PCA"
   ]
  },
  {
   "cell_type": "code",
   "execution_count": 39,
   "metadata": {},
   "outputs": [],
   "source": [
    "train, dev, test = load_sent_trans_fast_pca()"
   ]
  },
  {
   "cell_type": "code",
   "execution_count": 40,
   "metadata": {},
   "outputs": [],
   "source": [
    "grid_results = gridsearch.fit(train, train_labels)\n",
    "best_params = grid_results.best_params_\n",
    "perceptron = grid_results.best_estimator_"
   ]
  },
  {
   "cell_type": "code",
   "execution_count": 41,
   "metadata": {},
   "outputs": [
    {
     "data": {
      "text/plain": [
       "{'alpha': 0.0001, 'eta0': 0.0001, 'max_iter': 100, 'penalty': 'l1'}"
      ]
     },
     "execution_count": 41,
     "metadata": {},
     "output_type": "execute_result"
    }
   ],
   "source": [
    "best_params"
   ]
  },
  {
   "cell_type": "code",
   "execution_count": 42,
   "metadata": {},
   "outputs": [],
   "source": [
    "perceptron = perceptron.fit(train, train_labels)\n",
    "save_model(perceptron, \"perceptron_faster_pca.joblib\")"
   ]
  },
  {
   "cell_type": "code",
   "execution_count": 43,
   "metadata": {},
   "outputs": [],
   "source": [
    "train_preds = perceptron.predict(train)\n",
    "dev_preds = perceptron.predict(dev)\n",
    "test_preds = perceptron.predict(test)"
   ]
  },
  {
   "cell_type": "code",
   "execution_count": 44,
   "metadata": {},
   "outputs": [
    {
     "name": "stdout",
     "output_type": "stream",
     "text": [
      "Accuracy Train:  0.9221509533432914\n",
      "Accuracy Dev:  0.9124164614843475\n",
      "Accuracy Test:  0.9223471539002108\n",
      "Weighted F1 Train:  0.8983445474134106\n",
      "Weighted F1 Dev:  0.8858697352656212\n",
      "Weighted F1 Test:  0.9014003653283681\n",
      "Macro F1 Train:  0.4077915563624817\n",
      "Macro F1 Dev:  0.40242015423112165\n",
      "Macro F1 Test:  0.4244990220535703\n",
      "Micro F1 Train:  0.9221509533432914\n",
      "Micro F1 Dev:  0.9124164614843475\n",
      "Micro F1 Test:  0.9223471539002108\n",
      "Weighted Recall Train:  0.9221509533432914\n",
      "Weighted Recall Dev:  0.9124164614843475\n",
      "Weighted Recall Test:  0.9223471539002108\n",
      "Macro Recall Train:  0.38504391210455585\n",
      "Macro Recall Dev:  0.38259813462169606\n",
      "Macro Recall Test:  0.39768607790204397\n",
      "Micro Recall Train:  0.9221509533432914\n",
      "Micro Recall Dev:  0.9124164614843475\n",
      "Micro Recall Test:  0.9223471539002108\n",
      "Confusion Matrix Train: \n",
      "[[  314  1636    12]\n",
      " [  101 20676     1]\n",
      " [    0    22     0]]\n",
      "Confusion Matrix Dev: \n",
      "[[  42  230    0]\n",
      " [  17 2552    0]\n",
      " [   0    2    0]]\n",
      "Confusion Matrix Test: \n",
      "[[  50  199    1]\n",
      " [  18 2575    0]\n",
      " [   0    3    0]]\n"
     ]
    }
   ],
   "source": [
    "computeAllScores(train_preds, dev_preds, test_preds)"
   ]
  },
  {
   "cell_type": "markdown",
   "metadata": {},
   "source": [
    "### Sentence Transformer Better No PCA"
   ]
  },
  {
   "cell_type": "code",
   "execution_count": 45,
   "metadata": {},
   "outputs": [],
   "source": [
    "train, dev, test = load_sent_trans_better_no_pca()"
   ]
  },
  {
   "cell_type": "code",
   "execution_count": 46,
   "metadata": {},
   "outputs": [],
   "source": [
    "grid_results = gridsearch.fit(train, train_labels)\n",
    "best_params = grid_results.best_params_\n",
    "perceptron = grid_results.best_estimator_"
   ]
  },
  {
   "cell_type": "code",
   "execution_count": 47,
   "metadata": {},
   "outputs": [
    {
     "data": {
      "text/plain": [
       "{'alpha': 0.0001, 'eta0': 0.001, 'max_iter': 100, 'penalty': 'l2'}"
      ]
     },
     "execution_count": 47,
     "metadata": {},
     "output_type": "execute_result"
    }
   ],
   "source": [
    "best_params"
   ]
  },
  {
   "cell_type": "code",
   "execution_count": 48,
   "metadata": {},
   "outputs": [],
   "source": [
    "perceptron = perceptron.fit(train, train_labels)\n",
    "save_model(perceptron, \"perceptron_better_no_pca.joblib\")"
   ]
  },
  {
   "cell_type": "code",
   "execution_count": 49,
   "metadata": {},
   "outputs": [],
   "source": [
    "train_preds = perceptron.predict(train)\n",
    "dev_preds = perceptron.predict(dev)\n",
    "test_preds = perceptron.predict(test)"
   ]
  },
  {
   "cell_type": "code",
   "execution_count": 50,
   "metadata": {},
   "outputs": [
    {
     "name": "stdout",
     "output_type": "stream",
     "text": [
      "Accuracy Train:  0.9280379580001757\n",
      "Accuracy Dev:  0.9215617305663032\n",
      "Accuracy Test:  0.9244553759662685\n",
      "Weighted F1 Train:  0.9215964199546101\n",
      "Weighted F1 Dev:  0.9146653507073376\n",
      "Weighted F1 Test:  0.9203758493574914\n",
      "Macro F1 Train:  0.49062131325026287\n",
      "Macro F1 Dev:  0.491946364227066\n",
      "Macro F1 Test:  0.4961027624687639\n",
      "Micro F1 Train:  0.9280379580001757\n",
      "Micro F1 Dev:  0.9215617305663032\n",
      "Micro F1 Test:  0.9244553759662685\n",
      "Weighted Recall Train:  0.9280379580001757\n",
      "Weighted Recall Dev:  0.9215617305663032\n",
      "Weighted Recall Test:  0.9244553759662685\n",
      "Macro Recall Train:  0.4682736553178208\n",
      "Macro Recall Dev:  0.47034351887894116\n",
      "Macro Recall Test:  0.4803825684535287\n",
      "Micro Recall Train:  0.9280379580001757\n",
      "Micro Recall Dev:  0.9215617305663032\n",
      "Micro Recall Test:  0.9244553759662685\n",
      "Confusion Matrix Train: \n",
      "[[  841  1112     9]\n",
      " [  492 20283     3]\n",
      " [    0    22     0]]\n",
      "Confusion Matrix Dev: \n",
      "[[ 119  153    0]\n",
      " [  68 2501    0]\n",
      " [   0    2    0]]\n",
      "Confusion Matrix Test: \n",
      "[[ 118  131    1]\n",
      " [  78 2513    2]\n",
      " [   0    3    0]]\n"
     ]
    }
   ],
   "source": [
    "computeAllScores(train_preds, dev_preds, test_preds)"
   ]
  },
  {
   "cell_type": "markdown",
   "metadata": {},
   "source": [
    "### Sentence Transformer Better PCA"
   ]
  },
  {
   "cell_type": "code",
   "execution_count": 51,
   "metadata": {},
   "outputs": [],
   "source": [
    "train, dev, test = load_sent_trans_better_pca()"
   ]
  },
  {
   "cell_type": "code",
   "execution_count": 52,
   "metadata": {},
   "outputs": [],
   "source": [
    "grid_results = gridsearch.fit(train, train_labels)\n",
    "best_params = grid_results.best_params_\n",
    "perceptron = grid_results.best_estimator_"
   ]
  },
  {
   "cell_type": "code",
   "execution_count": 53,
   "metadata": {},
   "outputs": [
    {
     "data": {
      "text/plain": [
       "{'alpha': 0.0001, 'eta0': 0.001, 'max_iter': 100, 'penalty': 'l2'}"
      ]
     },
     "execution_count": 53,
     "metadata": {},
     "output_type": "execute_result"
    }
   ],
   "source": [
    "best_params"
   ]
  },
  {
   "cell_type": "code",
   "execution_count": 54,
   "metadata": {},
   "outputs": [],
   "source": [
    "perceptron = perceptron.fit(train, train_labels)\n",
    "save_model(perceptron, \"perceptron_better_pca.joblib\")"
   ]
  },
  {
   "cell_type": "code",
   "execution_count": 55,
   "metadata": {},
   "outputs": [],
   "source": [
    "train_preds = perceptron.predict(train)\n",
    "dev_preds = perceptron.predict(dev)\n",
    "test_preds = perceptron.predict(test)"
   ]
  },
  {
   "cell_type": "code",
   "execution_count": 56,
   "metadata": {},
   "outputs": [
    {
     "name": "stdout",
     "output_type": "stream",
     "text": [
      "Accuracy Train:  0.8921008698708374\n",
      "Accuracy Dev:  0.8793527963418923\n",
      "Accuracy Test:  0.8903724525650035\n",
      "Weighted F1 Train:  0.9022027060688871\n",
      "Weighted F1 Dev:  0.8894659086974668\n",
      "Weighted F1 Test:  0.9018371137612198\n",
      "Macro F1 Train:  0.5393647762286241\n",
      "Macro F1 Dev:  0.4762443582331762\n",
      "Macro F1 Test:  0.4907040375334903\n",
      "Micro F1 Train:  0.8921008698708374\n",
      "Micro F1 Dev:  0.8793527963418923\n",
      "Micro F1 Test:  0.8903724525650035\n",
      "Weighted Recall Train:  0.8921008698708374\n",
      "Weighted Recall Dev:  0.8793527963418923\n",
      "Weighted Recall Test:  0.8903724525650035\n",
      "Macro Recall Train:  0.5983692163729094\n",
      "Macro Recall Dev:  0.5073686831680901\n",
      "Macro Recall Test:  0.5353808972875691\n",
      "Micro Recall Train:  0.8921008698708374\n",
      "Micro Recall Dev:  0.8793527963418923\n",
      "Micro Recall Test:  0.8903724525650035\n",
      "Confusion Matrix Train: \n",
      "[[ 1280   672    10]\n",
      " [ 1733 19021    24]\n",
      " [    0    17     5]]\n",
      "Confusion Matrix Dev: \n",
      "[[ 167  104    1]\n",
      " [ 233 2333    3]\n",
      " [   0    2    0]]\n",
      "Confusion Matrix Test: \n",
      "[[ 174   74    2]\n",
      " [ 228 2360    5]\n",
      " [   0    3    0]]\n"
     ]
    }
   ],
   "source": [
    "computeAllScores(train_preds, dev_preds, test_preds)"
   ]
  },
  {
   "cell_type": "markdown",
   "metadata": {},
   "source": [
    "## Only 2 Class Augmented Data Sentence Transformer Better"
   ]
  },
  {
   "cell_type": "code",
   "execution_count": 6,
   "metadata": {},
   "outputs": [],
   "source": [
    "train, dev, test, train_labels, dev_labels, test_labels = load_only_2_class(\"sent_trans_augmented_no_pca\", True)"
   ]
  },
  {
   "cell_type": "code",
   "execution_count": 7,
   "metadata": {},
   "outputs": [],
   "source": [
    "train_labels = [label_replacement[label] for label in train_labels]\n",
    "dev_labels = [label_replacement[label] for label in dev_labels]\n",
    "test_labels = [label_replacement[label] for label in test_labels]"
   ]
  },
  {
   "cell_type": "code",
   "execution_count": 8,
   "metadata": {},
   "outputs": [],
   "source": [
    "grid_results = gridsearch.fit(train, train_labels)\n",
    "best_params = grid_results.best_params_\n",
    "perceptron = grid_results.best_estimator_"
   ]
  },
  {
   "cell_type": "code",
   "execution_count": 9,
   "metadata": {},
   "outputs": [
    {
     "data": {
      "text/plain": [
       "{'alpha': 0.0001, 'eta0': 0.001, 'max_iter': 100, 'penalty': 'l2'}"
      ]
     },
     "execution_count": 9,
     "metadata": {},
     "output_type": "execute_result"
    }
   ],
   "source": [
    "best_params"
   ]
  },
  {
   "cell_type": "code",
   "execution_count": 10,
   "metadata": {},
   "outputs": [],
   "source": [
    "# perceptron = load_model(\"perceptron_sent_trans_augmented_no_pca.joblib\")"
   ]
  },
  {
   "cell_type": "code",
   "execution_count": 11,
   "metadata": {},
   "outputs": [],
   "source": [
    "perceptron = perceptron.fit(train, train_labels)\n",
    "save_model(perceptron, \"perceptron_sent_trans_augmented_no_pca.joblib\")"
   ]
  },
  {
   "cell_type": "code",
   "execution_count": 12,
   "metadata": {},
   "outputs": [],
   "source": [
    "train_preds = perceptron.predict(train)\n",
    "dev_preds = perceptron.predict(dev)\n",
    "test_preds = perceptron.predict(test)"
   ]
  },
  {
   "cell_type": "code",
   "execution_count": 13,
   "metadata": {},
   "outputs": [
    {
     "name": "stdout",
     "output_type": "stream",
     "text": [
      "Accuracy Train:  0.8696616488131754\n",
      "Accuracy Dev:  0.7942314456559972\n",
      "Accuracy Test:  0.7856640899508082\n",
      "Weighted F1 Train:  0.869626865029039\n",
      "Weighted F1 Dev:  0.8293696731261618\n",
      "Weighted F1 Test:  0.8259145649125239\n",
      "Macro F1 Train:  0.6233691899550546\n",
      "Macro F1 Dev:  0.42151561526827547\n",
      "Macro F1 Test:  0.41278390939380527\n",
      "Micro F1 Train:  0.8696616488131754\n",
      "Micro F1 Dev:  0.7942314456559972\n",
      "Micro F1 Test:  0.7856640899508082\n",
      "Weighted Recall Train:  0.8696616488131754\n",
      "Weighted Recall Dev:  0.7942314456559972\n",
      "Weighted Recall Test:  0.7856640899508082\n",
      "Macro Recall Train:  0.6702302488609636\n",
      "Macro Recall Dev:  0.4945962036040574\n",
      "Macro Recall Test:  0.4982774135492994\n",
      "Micro Recall Train:  0.8696616488131754\n",
      "Micro Recall Dev:  0.7942314456559972\n",
      "Micro Recall Test:  0.7856640899508082\n",
      "Confusion Matrix Train: \n",
      "[[19880  1676    26]\n",
      " [ 3768 16972    38]\n",
      " [    2    14     6]]\n",
      "Confusion Matrix Dev: \n",
      "[[ 184   86    2]\n",
      " [ 493 2074    2]\n",
      " [   0    2    0]]\n",
      "Confusion Matrix Test: \n",
      "[[ 175   75    0]\n",
      " [ 528 2061    4]\n",
      " [   0    3    0]]\n"
     ]
    }
   ],
   "source": [
    "computeAllScores(train_preds, dev_preds, test_preds, aug=True)"
   ]
  },
  {
   "cell_type": "code",
   "execution_count": null,
   "metadata": {},
   "outputs": [],
   "source": []
  }
 ],
 "metadata": {
  "kernelspec": {
   "display_name": "Python 3.10.2 ('venv': venv)",
   "language": "python",
   "name": "python3"
  },
  "language_info": {
   "codemirror_mode": {
    "name": "ipython",
    "version": 3
   },
   "file_extension": ".py",
   "mimetype": "text/x-python",
   "name": "python",
   "nbconvert_exporter": "python",
   "pygments_lexer": "ipython3",
   "version": "3.10.2"
  },
  "orig_nbformat": 4,
  "vscode": {
   "interpreter": {
    "hash": "05f02a134849fd5c5f66d44739b03caad7c6758a3d768c4bdabdf36d26611ac2"
   }
  }
 },
 "nbformat": 4,
 "nbformat_minor": 2
}
