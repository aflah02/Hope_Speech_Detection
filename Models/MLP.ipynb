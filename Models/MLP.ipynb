{
 "cells": [
  {
   "cell_type": "code",
   "execution_count": 13,
   "metadata": {},
   "outputs": [],
   "source": [
    "from embeddings_loader import *\n",
    "from sklearn.neural_network import MLPClassifier\n",
    "from sklearn.model_selection import GridSearchCV\n",
    "from sklearn.metrics import f1_score\n",
    "from sklearn.metrics import accuracy_score\n",
    "from sklearn.metrics import confusion_matrix\n",
    "from sklearn.metrics import classification_report\n",
    "from sklearn.metrics import recall_score\n",
    "from sklearn.metrics import precision_score\n",
    "from sklearn.metrics import roc_auc_score\n",
    "from sklearn.metrics import log_loss\n",
    "from utils import *\n",
    "import os\n",
    "import matplotlib.pyplot as plt\n",
    "import numpy as np"
   ]
  },
  {
   "cell_type": "code",
   "execution_count": 3,
   "metadata": {},
   "outputs": [],
   "source": [
    "train_labels, dev_labels, test_labels = load_labels()"
   ]
  },
  {
   "cell_type": "code",
   "execution_count": 4,
   "metadata": {},
   "outputs": [],
   "source": [
    "label_replacement = {\n",
    "    'Hope_speech': 0,\n",
    "    'Non_hope_speech': 1,\n",
    "    'not-English': 2,\n",
    "}"
   ]
  },
  {
   "cell_type": "code",
   "execution_count": 5,
   "metadata": {},
   "outputs": [],
   "source": [
    "# Replace labels with numbers\n",
    "train_labels = [label_replacement[label] for label in train_labels]\n",
    "dev_labels = [label_replacement[label] for label in dev_labels]\n",
    "test_labels = [label_replacement[label] for label in test_labels]"
   ]
  },
  {
   "cell_type": "code",
   "execution_count": 6,
   "metadata": {},
   "outputs": [],
   "source": [
    "mlp = MLPClassifier()\n",
    "gridsearch = GridSearchCV(mlp, param_grid = {\n",
    "    \"activation\": [\"relu\", \"logistic\", \"tanh\"],\n",
    "    \"early_stopping\": [True],\n",
    "    \"learning_rate_init\": [0.0001, 0.001, 0.01],\n",
    "    \"max_iter\": [1000, 5000],\n",
    "    \"hidden_layer_sizes\": [(150, 150)]\n",
    "}, scoring = \"f1_micro\", verbose = 4, n_jobs=os.cpu_count()//4)"
   ]
  },
  {
   "cell_type": "markdown",
   "metadata": {},
   "source": [
    "### Glove Twitter 25"
   ]
  },
  {
   "cell_type": "code",
   "execution_count": 6,
   "metadata": {},
   "outputs": [],
   "source": [
    "gt25_train, gt25_dev, gt25_test = load_glove_twitter_25()"
   ]
  },
  {
   "cell_type": "code",
   "execution_count": 7,
   "metadata": {},
   "outputs": [],
   "source": [
    "# Set all NaN values to 0\n",
    "gt25_train = np.nan_to_num(gt25_train)\n",
    "gt25_dev = np.nan_to_num(gt25_dev)\n",
    "gt25_test = np.nan_to_num(gt25_test)"
   ]
  },
  {
   "cell_type": "code",
   "execution_count": 8,
   "metadata": {},
   "outputs": [
    {
     "name": "stdout",
     "output_type": "stream",
     "text": [
      "Fitting 5 folds for each of 18 candidates, totalling 90 fits\n",
      "[CV 1/5] END activation=relu, early_stopping=True, hidden_layer_sizes=(150, 150), learning_rate_init=0.0001, max_iter=1000;, score=0.913 total time=   5.1s\n",
      "[CV 2/5] END activation=relu, early_stopping=True, hidden_layer_sizes=(150, 150), learning_rate_init=0.0001, max_iter=1000;, score=0.913 total time=   2.4s\n",
      "[CV 3/5] END activation=relu, early_stopping=True, hidden_layer_sizes=(150, 150), learning_rate_init=0.0001, max_iter=1000;, score=0.913 total time=   2.4s\n",
      "[CV 4/5] END activation=relu, early_stopping=True, hidden_layer_sizes=(150, 150), learning_rate_init=0.0001, max_iter=1000;, score=0.913 total time=   2.5s\n",
      "[CV 5/5] END activation=relu, early_stopping=True, hidden_layer_sizes=(150, 150), learning_rate_init=0.0001, max_iter=1000;, score=0.913 total time=   2.4s\n",
      "[CV 1/5] END activation=relu, early_stopping=True, hidden_layer_sizes=(150, 150), learning_rate_init=0.0001, max_iter=5000;, score=0.914 total time=   4.7s\n",
      "[CV 2/5] END activation=relu, early_stopping=True, hidden_layer_sizes=(150, 150), learning_rate_init=0.0001, max_iter=5000;, score=0.914 total time=   4.3s\n",
      "[CV 3/5] END activation=relu, early_stopping=True, hidden_layer_sizes=(150, 150), learning_rate_init=0.0001, max_iter=5000;, score=0.913 total time=   2.4s\n",
      "[CV 4/5] END activation=relu, early_stopping=True, hidden_layer_sizes=(150, 150), learning_rate_init=0.0001, max_iter=5000;, score=0.913 total time=   2.4s\n",
      "[CV 5/5] END activation=relu, early_stopping=True, hidden_layer_sizes=(150, 150), learning_rate_init=0.0001, max_iter=5000;, score=0.913 total time=   2.4s\n",
      "[CV 1/5] END activation=relu, early_stopping=True, hidden_layer_sizes=(150, 150), learning_rate_init=0.001, max_iter=1000;, score=0.917 total time=   6.6s\n",
      "[CV 2/5] END activation=relu, early_stopping=True, hidden_layer_sizes=(150, 150), learning_rate_init=0.001, max_iter=1000;, score=0.919 total time=   7.6s\n",
      "[CV 3/5] END activation=relu, early_stopping=True, hidden_layer_sizes=(150, 150), learning_rate_init=0.001, max_iter=1000;, score=0.918 total time=   4.8s\n",
      "[CV 4/5] END activation=relu, early_stopping=True, hidden_layer_sizes=(150, 150), learning_rate_init=0.001, max_iter=1000;, score=0.913 total time=   6.9s\n",
      "[CV 5/5] END activation=relu, early_stopping=True, hidden_layer_sizes=(150, 150), learning_rate_init=0.001, max_iter=1000;, score=0.919 total time=   5.7s\n",
      "[CV 1/5] END activation=relu, early_stopping=True, hidden_layer_sizes=(150, 150), learning_rate_init=0.001, max_iter=5000;, score=0.916 total time=   5.2s\n",
      "[CV 2/5] END activation=relu, early_stopping=True, hidden_layer_sizes=(150, 150), learning_rate_init=0.001, max_iter=5000;, score=0.917 total time=   9.4s\n",
      "[CV 3/5] END activation=relu, early_stopping=True, hidden_layer_sizes=(150, 150), learning_rate_init=0.001, max_iter=5000;, score=0.916 total time=   4.4s\n",
      "[CV 4/5] END activation=relu, early_stopping=True, hidden_layer_sizes=(150, 150), learning_rate_init=0.001, max_iter=5000;, score=0.915 total time=   7.8s\n",
      "[CV 5/5] END activation=relu, early_stopping=True, hidden_layer_sizes=(150, 150), learning_rate_init=0.001, max_iter=5000;, score=0.916 total time=   8.5s\n",
      "[CV 1/5] END activation=relu, early_stopping=True, hidden_layer_sizes=(150, 150), learning_rate_init=0.01, max_iter=1000;, score=0.916 total time=   7.7s\n",
      "[CV 2/5] END activation=relu, early_stopping=True, hidden_layer_sizes=(150, 150), learning_rate_init=0.01, max_iter=1000;, score=0.920 total time=   5.9s\n",
      "[CV 3/5] END activation=relu, early_stopping=True, hidden_layer_sizes=(150, 150), learning_rate_init=0.01, max_iter=1000;, score=0.915 total time=   4.4s\n",
      "[CV 4/5] END activation=relu, early_stopping=True, hidden_layer_sizes=(150, 150), learning_rate_init=0.01, max_iter=1000;, score=0.913 total time=   5.0s\n",
      "[CV 5/5] END activation=relu, early_stopping=True, hidden_layer_sizes=(150, 150), learning_rate_init=0.01, max_iter=1000;, score=0.912 total time=   5.8s\n",
      "[CV 1/5] END activation=relu, early_stopping=True, hidden_layer_sizes=(150, 150), learning_rate_init=0.01, max_iter=5000;, score=0.916 total time=   5.1s\n",
      "[CV 2/5] END activation=relu, early_stopping=True, hidden_layer_sizes=(150, 150), learning_rate_init=0.01, max_iter=5000;, score=0.915 total time=   3.7s\n",
      "[CV 3/5] END activation=relu, early_stopping=True, hidden_layer_sizes=(150, 150), learning_rate_init=0.01, max_iter=5000;, score=0.914 total time=   4.4s\n",
      "[CV 4/5] END activation=relu, early_stopping=True, hidden_layer_sizes=(150, 150), learning_rate_init=0.01, max_iter=5000;, score=0.915 total time=   5.9s\n",
      "[CV 5/5] END activation=relu, early_stopping=True, hidden_layer_sizes=(150, 150), learning_rate_init=0.01, max_iter=5000;, score=0.917 total time=   7.0s\n",
      "[CV 1/5] END activation=logistic, early_stopping=True, hidden_layer_sizes=(150, 150), learning_rate_init=0.0001, max_iter=1000;, score=0.913 total time=   3.5s\n",
      "[CV 2/5] END activation=logistic, early_stopping=True, hidden_layer_sizes=(150, 150), learning_rate_init=0.0001, max_iter=1000;, score=0.913 total time=   3.6s\n",
      "[CV 3/5] END activation=logistic, early_stopping=True, hidden_layer_sizes=(150, 150), learning_rate_init=0.0001, max_iter=1000;, score=0.913 total time=   3.5s\n",
      "[CV 4/5] END activation=logistic, early_stopping=True, hidden_layer_sizes=(150, 150), learning_rate_init=0.0001, max_iter=1000;, score=0.913 total time=   3.5s\n",
      "[CV 5/5] END activation=logistic, early_stopping=True, hidden_layer_sizes=(150, 150), learning_rate_init=0.0001, max_iter=1000;, score=0.913 total time=   3.6s\n",
      "[CV 1/5] END activation=logistic, early_stopping=True, hidden_layer_sizes=(150, 150), learning_rate_init=0.0001, max_iter=5000;, score=0.913 total time=   3.5s\n",
      "[CV 2/5] END activation=logistic, early_stopping=True, hidden_layer_sizes=(150, 150), learning_rate_init=0.0001, max_iter=5000;, score=0.913 total time=   3.5s\n",
      "[CV 3/5] END activation=logistic, early_stopping=True, hidden_layer_sizes=(150, 150), learning_rate_init=0.0001, max_iter=5000;, score=0.913 total time=   3.5s\n",
      "[CV 4/5] END activation=logistic, early_stopping=True, hidden_layer_sizes=(150, 150), learning_rate_init=0.0001, max_iter=5000;, score=0.913 total time=   3.5s\n",
      "[CV 5/5] END activation=logistic, early_stopping=True, hidden_layer_sizes=(150, 150), learning_rate_init=0.0001, max_iter=5000;, score=0.913 total time=   3.5s\n",
      "[CV 1/5] END activation=logistic, early_stopping=True, hidden_layer_sizes=(150, 150), learning_rate_init=0.001, max_iter=1000;, score=0.913 total time=   3.5s\n",
      "[CV 2/5] END activation=logistic, early_stopping=True, hidden_layer_sizes=(150, 150), learning_rate_init=0.001, max_iter=1000;, score=0.913 total time=   5.8s\n",
      "[CV 3/5] END activation=logistic, early_stopping=True, hidden_layer_sizes=(150, 150), learning_rate_init=0.001, max_iter=1000;, score=0.913 total time=   3.6s\n",
      "[CV 4/5] END activation=logistic, early_stopping=True, hidden_layer_sizes=(150, 150), learning_rate_init=0.001, max_iter=1000;, score=0.913 total time=   3.5s\n",
      "[CV 5/5] END activation=logistic, early_stopping=True, hidden_layer_sizes=(150, 150), learning_rate_init=0.001, max_iter=1000;, score=0.914 total time=   8.3s\n",
      "[CV 1/5] END activation=logistic, early_stopping=True, hidden_layer_sizes=(150, 150), learning_rate_init=0.001, max_iter=5000;, score=0.912 total time=   6.5s\n",
      "[CV 2/5] END activation=logistic, early_stopping=True, hidden_layer_sizes=(150, 150), learning_rate_init=0.001, max_iter=5000;, score=0.913 total time=   3.5s\n",
      "[CV 3/5] END activation=logistic, early_stopping=True, hidden_layer_sizes=(150, 150), learning_rate_init=0.001, max_iter=5000;, score=0.913 total time=   5.9s\n",
      "[CV 4/5] END activation=logistic, early_stopping=True, hidden_layer_sizes=(150, 150), learning_rate_init=0.001, max_iter=5000;, score=0.913 total time=   3.6s\n",
      "[CV 5/5] END activation=logistic, early_stopping=True, hidden_layer_sizes=(150, 150), learning_rate_init=0.001, max_iter=5000;, score=0.913 total time=   4.9s\n",
      "[CV 1/5] END activation=logistic, early_stopping=True, hidden_layer_sizes=(150, 150), learning_rate_init=0.01, max_iter=1000;, score=0.914 total time=  12.2s\n",
      "[CV 2/5] END activation=logistic, early_stopping=True, hidden_layer_sizes=(150, 150), learning_rate_init=0.01, max_iter=1000;, score=0.913 total time=   3.6s\n",
      "[CV 3/5] END activation=logistic, early_stopping=True, hidden_layer_sizes=(150, 150), learning_rate_init=0.01, max_iter=1000;, score=0.913 total time=   6.2s\n",
      "[CV 4/5] END activation=logistic, early_stopping=True, hidden_layer_sizes=(150, 150), learning_rate_init=0.01, max_iter=1000;, score=0.913 total time=   3.6s\n",
      "[CV 5/5] END activation=logistic, early_stopping=True, hidden_layer_sizes=(150, 150), learning_rate_init=0.01, max_iter=1000;, score=0.913 total time=   3.5s\n",
      "[CV 1/5] END activation=logistic, early_stopping=True, hidden_layer_sizes=(150, 150), learning_rate_init=0.01, max_iter=5000;, score=0.916 total time=  15.3s\n",
      "[CV 2/5] END activation=logistic, early_stopping=True, hidden_layer_sizes=(150, 150), learning_rate_init=0.01, max_iter=5000;, score=0.918 total time=  15.2s\n",
      "[CV 3/5] END activation=logistic, early_stopping=True, hidden_layer_sizes=(150, 150), learning_rate_init=0.01, max_iter=5000;, score=0.920 total time=  16.2s\n",
      "[CV 4/5] END activation=logistic, early_stopping=True, hidden_layer_sizes=(150, 150), learning_rate_init=0.01, max_iter=5000;, score=0.914 total time=   6.5s\n",
      "[CV 5/5] END activation=logistic, early_stopping=True, hidden_layer_sizes=(150, 150), learning_rate_init=0.01, max_iter=5000;, score=0.918 total time=  16.9s\n",
      "[CV 1/5] END activation=tanh, early_stopping=True, hidden_layer_sizes=(150, 150), learning_rate_init=0.0001, max_iter=1000;, score=0.913 total time=   3.4s\n",
      "[CV 2/5] END activation=tanh, early_stopping=True, hidden_layer_sizes=(150, 150), learning_rate_init=0.0001, max_iter=1000;, score=0.913 total time=   7.1s\n",
      "[CV 3/5] END activation=tanh, early_stopping=True, hidden_layer_sizes=(150, 150), learning_rate_init=0.0001, max_iter=1000;, score=0.913 total time=   4.2s\n",
      "[CV 4/5] END activation=tanh, early_stopping=True, hidden_layer_sizes=(150, 150), learning_rate_init=0.0001, max_iter=1000;, score=0.913 total time=   3.4s\n",
      "[CV 5/5] END activation=tanh, early_stopping=True, hidden_layer_sizes=(150, 150), learning_rate_init=0.0001, max_iter=1000;, score=0.913 total time=   3.4s\n",
      "[CV 1/5] END activation=tanh, early_stopping=True, hidden_layer_sizes=(150, 150), learning_rate_init=0.0001, max_iter=5000;, score=0.912 total time=   5.1s\n",
      "[CV 2/5] END activation=tanh, early_stopping=True, hidden_layer_sizes=(150, 150), learning_rate_init=0.0001, max_iter=5000;, score=0.912 total time=   5.4s\n",
      "[CV 3/5] END activation=tanh, early_stopping=True, hidden_layer_sizes=(150, 150), learning_rate_init=0.0001, max_iter=5000;, score=0.913 total time=   3.4s\n",
      "[CV 4/5] END activation=tanh, early_stopping=True, hidden_layer_sizes=(150, 150), learning_rate_init=0.0001, max_iter=5000;, score=0.912 total time=   6.6s\n",
      "[CV 5/5] END activation=tanh, early_stopping=True, hidden_layer_sizes=(150, 150), learning_rate_init=0.0001, max_iter=5000;, score=0.913 total time=   3.9s\n",
      "[CV 1/5] END activation=tanh, early_stopping=True, hidden_layer_sizes=(150, 150), learning_rate_init=0.001, max_iter=1000;, score=0.912 total time=   6.6s\n",
      "[CV 2/5] END activation=tanh, early_stopping=True, hidden_layer_sizes=(150, 150), learning_rate_init=0.001, max_iter=1000;, score=0.913 total time=   4.8s\n",
      "[CV 3/5] END activation=tanh, early_stopping=True, hidden_layer_sizes=(150, 150), learning_rate_init=0.001, max_iter=1000;, score=0.913 total time=   4.3s\n",
      "[CV 4/5] END activation=tanh, early_stopping=True, hidden_layer_sizes=(150, 150), learning_rate_init=0.001, max_iter=1000;, score=0.913 total time=   6.0s\n",
      "[CV 5/5] END activation=tanh, early_stopping=True, hidden_layer_sizes=(150, 150), learning_rate_init=0.001, max_iter=1000;, score=0.913 total time=   3.4s\n",
      "[CV 1/5] END activation=tanh, early_stopping=True, hidden_layer_sizes=(150, 150), learning_rate_init=0.001, max_iter=5000;, score=0.913 total time=   3.4s\n",
      "[CV 2/5] END activation=tanh, early_stopping=True, hidden_layer_sizes=(150, 150), learning_rate_init=0.001, max_iter=5000;, score=0.916 total time=  20.8s\n",
      "[CV 3/5] END activation=tanh, early_stopping=True, hidden_layer_sizes=(150, 150), learning_rate_init=0.001, max_iter=5000;, score=0.917 total time=  24.7s\n",
      "[CV 4/5] END activation=tanh, early_stopping=True, hidden_layer_sizes=(150, 150), learning_rate_init=0.001, max_iter=5000;, score=0.913 total time=  10.3s\n",
      "[CV 5/5] END activation=tanh, early_stopping=True, hidden_layer_sizes=(150, 150), learning_rate_init=0.001, max_iter=5000;, score=0.920 total time=  14.3s\n",
      "[CV 1/5] END activation=tanh, early_stopping=True, hidden_layer_sizes=(150, 150), learning_rate_init=0.01, max_iter=1000;, score=0.916 total time=   8.3s\n",
      "[CV 2/5] END activation=tanh, early_stopping=True, hidden_layer_sizes=(150, 150), learning_rate_init=0.01, max_iter=1000;, score=0.912 total time=   8.0s\n",
      "[CV 3/5] END activation=tanh, early_stopping=True, hidden_layer_sizes=(150, 150), learning_rate_init=0.01, max_iter=1000;, score=0.918 total time=   9.8s\n",
      "[CV 4/5] END activation=tanh, early_stopping=True, hidden_layer_sizes=(150, 150), learning_rate_init=0.01, max_iter=1000;, score=0.913 total time=   6.3s\n",
      "[CV 5/5] END activation=tanh, early_stopping=True, hidden_layer_sizes=(150, 150), learning_rate_init=0.01, max_iter=1000;, score=0.915 total time=   9.4s\n",
      "[CV 1/5] END activation=tanh, early_stopping=True, hidden_layer_sizes=(150, 150), learning_rate_init=0.01, max_iter=5000;, score=0.916 total time=  11.2s\n",
      "[CV 2/5] END activation=tanh, early_stopping=True, hidden_layer_sizes=(150, 150), learning_rate_init=0.01, max_iter=5000;, score=0.913 total time=   8.0s\n",
      "[CV 3/5] END activation=tanh, early_stopping=True, hidden_layer_sizes=(150, 150), learning_rate_init=0.01, max_iter=5000;, score=0.917 total time=  10.0s\n",
      "[CV 4/5] END activation=tanh, early_stopping=True, hidden_layer_sizes=(150, 150), learning_rate_init=0.01, max_iter=5000;, score=0.913 total time=   7.7s\n",
      "[CV 5/5] END activation=tanh, early_stopping=True, hidden_layer_sizes=(150, 150), learning_rate_init=0.01, max_iter=5000;, score=0.915 total time=   8.6s\n"
     ]
    }
   ],
   "source": [
    "grid_results = gridsearch.fit(gt25_train, train_labels)\n",
    "best_params = grid_results.best_params_\n",
    "mlp = grid_results.best_estimator_"
   ]
  },
  {
   "cell_type": "code",
   "execution_count": 9,
   "metadata": {},
   "outputs": [
    {
     "data": {
      "text/plain": [
       "{'activation': 'relu',\n",
       " 'early_stopping': True,\n",
       " 'hidden_layer_sizes': (150, 150),\n",
       " 'learning_rate_init': 0.001,\n",
       " 'max_iter': 1000}"
      ]
     },
     "execution_count": 9,
     "metadata": {},
     "output_type": "execute_result"
    }
   ],
   "source": [
    "best_params"
   ]
  },
  {
   "cell_type": "code",
   "execution_count": 10,
   "metadata": {},
   "outputs": [],
   "source": [
    "mlp = mlp.fit(gt25_train, train_labels)\n",
    "save_model(mlp, \"mlp_gt25.joblib\")"
   ]
  },
  {
   "cell_type": "code",
   "execution_count": 11,
   "metadata": {},
   "outputs": [],
   "source": [
    "train_preds = mlp.predict(gt25_train)\n",
    "dev_preds = mlp.predict(gt25_dev)\n",
    "test_preds = mlp.predict(gt25_test)"
   ]
  },
  {
   "cell_type": "code",
   "execution_count": 12,
   "metadata": {},
   "outputs": [
    {
     "name": "stdout",
     "output_type": "stream",
     "text": [
      "Accuracy Train:  0.9218434232492752\n",
      "Accuracy Dev:  0.911712979247274\n",
      "Accuracy Test:  0.9188334504567814\n",
      "Weighted F1 Train:  0.8999645351976132\n",
      "Weighted F1 Dev:  0.8877635306763886\n",
      "Weighted F1 Test:  0.8989814879465051\n",
      "Macro F1 Train:  0.5334138774444986\n",
      "Macro F1 Dev:  0.4104161067995689\n",
      "Macro F1 Test:  0.4219952840591019\n",
      "Micro F1 Train:  0.9218434232492752\n",
      "Micro F1 Dev:  0.911712979247274\n",
      "Micro F1 Test:  0.9188334504567814\n",
      "Weighted Recall Train:  0.9218434232492752\n",
      "Weighted Recall Dev:  0.911712979247274\n",
      "Weighted Recall Test:  0.9188334504567814\n",
      "Macro Recall Train:  0.466147650573044\n",
      "Macro Recall Dev:  0.3889130584113754\n",
      "Macro Recall Test:  0.3976053477310708\n",
      "Micro Recall Train:  0.9218434232492752\n",
      "Micro Recall Dev:  0.911712979247274\n",
      "Micro Recall Test:  0.9188334504567814\n",
      "Confusion Matrix Train: \n",
      "[[  350  1612     0]\n",
      " [  149 20628     1]\n",
      " [    0    17     5]]\n",
      "Confusion Matrix Dev: \n",
      "[[  48  224    0]\n",
      " [  25 2544    0]\n",
      " [   0    2    0]]\n",
      "Confusion Matrix Test: \n",
      "[[  51  199    0]\n",
      " [  29 2564    0]\n",
      " [   0    3    0]]\n"
     ]
    }
   ],
   "source": [
    "computeAllScores(train_preds, dev_preds, test_preds)"
   ]
  },
  {
   "cell_type": "markdown",
   "metadata": {},
   "source": [
    "### FastText 300 "
   ]
  },
  {
   "cell_type": "code",
   "execution_count": 13,
   "metadata": {},
   "outputs": [],
   "source": [
    "ft300_train, ft300_dev, ft300_test = load_fasttext_300()"
   ]
  },
  {
   "cell_type": "code",
   "execution_count": 14,
   "metadata": {},
   "outputs": [],
   "source": [
    "# Set all NaN values to 0\n",
    "ft300_train = np.nan_to_num(ft300_train)\n",
    "ft300_dev = np.nan_to_num(ft300_dev)\n",
    "ft300_test = np.nan_to_num(ft300_test)"
   ]
  },
  {
   "cell_type": "code",
   "execution_count": 15,
   "metadata": {},
   "outputs": [
    {
     "name": "stdout",
     "output_type": "stream",
     "text": [
      "Fitting 5 folds for each of 18 candidates, totalling 90 fits\n",
      "[CV 1/5] END activation=relu, early_stopping=True, hidden_layer_sizes=(150, 150), learning_rate_init=0.0001, max_iter=1000;, score=0.913 total time=   3.5s\n",
      "[CV 2/5] END activation=relu, early_stopping=True, hidden_layer_sizes=(150, 150), learning_rate_init=0.0001, max_iter=1000;, score=0.913 total time=   3.4s\n",
      "[CV 3/5] END activation=relu, early_stopping=True, hidden_layer_sizes=(150, 150), learning_rate_init=0.0001, max_iter=1000;, score=0.913 total time=   3.5s\n",
      "[CV 4/5] END activation=relu, early_stopping=True, hidden_layer_sizes=(150, 150), learning_rate_init=0.0001, max_iter=1000;, score=0.913 total time=   3.4s\n",
      "[CV 5/5] END activation=relu, early_stopping=True, hidden_layer_sizes=(150, 150), learning_rate_init=0.0001, max_iter=1000;, score=0.913 total time=   3.5s\n",
      "[CV 1/5] END activation=relu, early_stopping=True, hidden_layer_sizes=(150, 150), learning_rate_init=0.0001, max_iter=5000;, score=0.913 total time=   3.4s\n",
      "[CV 2/5] END activation=relu, early_stopping=True, hidden_layer_sizes=(150, 150), learning_rate_init=0.0001, max_iter=5000;, score=0.913 total time=   3.4s\n",
      "[CV 3/5] END activation=relu, early_stopping=True, hidden_layer_sizes=(150, 150), learning_rate_init=0.0001, max_iter=5000;, score=0.913 total time=   3.4s\n",
      "[CV 4/5] END activation=relu, early_stopping=True, hidden_layer_sizes=(150, 150), learning_rate_init=0.0001, max_iter=5000;, score=0.913 total time=   3.4s\n",
      "[CV 5/5] END activation=relu, early_stopping=True, hidden_layer_sizes=(150, 150), learning_rate_init=0.0001, max_iter=5000;, score=0.913 total time=   3.4s\n",
      "[CV 1/5] END activation=relu, early_stopping=True, hidden_layer_sizes=(150, 150), learning_rate_init=0.001, max_iter=1000;, score=0.924 total time=   9.3s\n",
      "[CV 2/5] END activation=relu, early_stopping=True, hidden_layer_sizes=(150, 150), learning_rate_init=0.001, max_iter=1000;, score=0.926 total time=  12.6s\n",
      "[CV 3/5] END activation=relu, early_stopping=True, hidden_layer_sizes=(150, 150), learning_rate_init=0.001, max_iter=1000;, score=0.922 total time=   9.8s\n",
      "[CV 4/5] END activation=relu, early_stopping=True, hidden_layer_sizes=(150, 150), learning_rate_init=0.001, max_iter=1000;, score=0.925 total time=   9.0s\n",
      "[CV 5/5] END activation=relu, early_stopping=True, hidden_layer_sizes=(150, 150), learning_rate_init=0.001, max_iter=1000;, score=0.925 total time=   9.6s\n",
      "[CV 1/5] END activation=relu, early_stopping=True, hidden_layer_sizes=(150, 150), learning_rate_init=0.001, max_iter=5000;, score=0.921 total time=  13.3s\n",
      "[CV 2/5] END activation=relu, early_stopping=True, hidden_layer_sizes=(150, 150), learning_rate_init=0.001, max_iter=5000;, score=0.924 total time=   8.6s\n",
      "[CV 3/5] END activation=relu, early_stopping=True, hidden_layer_sizes=(150, 150), learning_rate_init=0.001, max_iter=5000;, score=0.922 total time=  13.5s\n",
      "[CV 4/5] END activation=relu, early_stopping=True, hidden_layer_sizes=(150, 150), learning_rate_init=0.001, max_iter=5000;, score=0.926 total time=   9.9s\n",
      "[CV 5/5] END activation=relu, early_stopping=True, hidden_layer_sizes=(150, 150), learning_rate_init=0.001, max_iter=5000;, score=0.924 total time=   7.5s\n",
      "[CV 1/5] END activation=relu, early_stopping=True, hidden_layer_sizes=(150, 150), learning_rate_init=0.01, max_iter=1000;, score=0.921 total time=   8.2s\n",
      "[CV 2/5] END activation=relu, early_stopping=True, hidden_layer_sizes=(150, 150), learning_rate_init=0.01, max_iter=1000;, score=0.923 total time=   7.9s\n",
      "[CV 3/5] END activation=relu, early_stopping=True, hidden_layer_sizes=(150, 150), learning_rate_init=0.01, max_iter=1000;, score=0.923 total time=   6.8s\n",
      "[CV 4/5] END activation=relu, early_stopping=True, hidden_layer_sizes=(150, 150), learning_rate_init=0.01, max_iter=1000;, score=0.920 total time=  10.2s\n",
      "[CV 5/5] END activation=relu, early_stopping=True, hidden_layer_sizes=(150, 150), learning_rate_init=0.01, max_iter=1000;, score=0.924 total time=   6.2s\n",
      "[CV 1/5] END activation=relu, early_stopping=True, hidden_layer_sizes=(150, 150), learning_rate_init=0.01, max_iter=5000;, score=0.920 total time=   6.6s\n",
      "[CV 2/5] END activation=relu, early_stopping=True, hidden_layer_sizes=(150, 150), learning_rate_init=0.01, max_iter=5000;, score=0.917 total time=   5.0s\n",
      "[CV 3/5] END activation=relu, early_stopping=True, hidden_layer_sizes=(150, 150), learning_rate_init=0.01, max_iter=5000;, score=0.926 total time=  10.0s\n",
      "[CV 4/5] END activation=relu, early_stopping=True, hidden_layer_sizes=(150, 150), learning_rate_init=0.01, max_iter=5000;, score=0.922 total time=  10.8s\n",
      "[CV 5/5] END activation=relu, early_stopping=True, hidden_layer_sizes=(150, 150), learning_rate_init=0.01, max_iter=5000;, score=0.921 total time=   4.8s\n",
      "[CV 1/5] END activation=logistic, early_stopping=True, hidden_layer_sizes=(150, 150), learning_rate_init=0.0001, max_iter=1000;, score=0.913 total time=   4.8s\n",
      "[CV 2/5] END activation=logistic, early_stopping=True, hidden_layer_sizes=(150, 150), learning_rate_init=0.0001, max_iter=1000;, score=0.913 total time=   4.8s\n",
      "[CV 3/5] END activation=logistic, early_stopping=True, hidden_layer_sizes=(150, 150), learning_rate_init=0.0001, max_iter=1000;, score=0.913 total time=   4.9s\n",
      "[CV 4/5] END activation=logistic, early_stopping=True, hidden_layer_sizes=(150, 150), learning_rate_init=0.0001, max_iter=1000;, score=0.913 total time=   4.8s\n",
      "[CV 5/5] END activation=logistic, early_stopping=True, hidden_layer_sizes=(150, 150), learning_rate_init=0.0001, max_iter=1000;, score=0.913 total time=   4.8s\n",
      "[CV 1/5] END activation=logistic, early_stopping=True, hidden_layer_sizes=(150, 150), learning_rate_init=0.0001, max_iter=5000;, score=0.913 total time=   4.9s\n",
      "[CV 2/5] END activation=logistic, early_stopping=True, hidden_layer_sizes=(150, 150), learning_rate_init=0.0001, max_iter=5000;, score=0.913 total time=   4.8s\n",
      "[CV 3/5] END activation=logistic, early_stopping=True, hidden_layer_sizes=(150, 150), learning_rate_init=0.0001, max_iter=5000;, score=0.913 total time=   4.8s\n",
      "[CV 4/5] END activation=logistic, early_stopping=True, hidden_layer_sizes=(150, 150), learning_rate_init=0.0001, max_iter=5000;, score=0.913 total time=   4.8s\n",
      "[CV 5/5] END activation=logistic, early_stopping=True, hidden_layer_sizes=(150, 150), learning_rate_init=0.0001, max_iter=5000;, score=0.913 total time=   4.8s\n",
      "[CV 1/5] END activation=logistic, early_stopping=True, hidden_layer_sizes=(150, 150), learning_rate_init=0.001, max_iter=1000;, score=0.911 total time=  11.3s\n",
      "[CV 2/5] END activation=logistic, early_stopping=True, hidden_layer_sizes=(150, 150), learning_rate_init=0.001, max_iter=1000;, score=0.912 total time=  10.1s\n",
      "[CV 3/5] END activation=logistic, early_stopping=True, hidden_layer_sizes=(150, 150), learning_rate_init=0.001, max_iter=1000;, score=0.913 total time=   4.8s\n",
      "[CV 4/5] END activation=logistic, early_stopping=True, hidden_layer_sizes=(150, 150), learning_rate_init=0.001, max_iter=1000;, score=0.913 total time=   4.8s\n",
      "[CV 5/5] END activation=logistic, early_stopping=True, hidden_layer_sizes=(150, 150), learning_rate_init=0.001, max_iter=1000;, score=0.912 total time=  11.7s\n",
      "[CV 1/5] END activation=logistic, early_stopping=True, hidden_layer_sizes=(150, 150), learning_rate_init=0.001, max_iter=5000;, score=0.904 total time=  12.4s\n",
      "[CV 2/5] END activation=logistic, early_stopping=True, hidden_layer_sizes=(150, 150), learning_rate_init=0.001, max_iter=5000;, score=0.914 total time=   7.6s\n",
      "[CV 3/5] END activation=logistic, early_stopping=True, hidden_layer_sizes=(150, 150), learning_rate_init=0.001, max_iter=5000;, score=0.913 total time=   8.0s\n",
      "[CV 4/5] END activation=logistic, early_stopping=True, hidden_layer_sizes=(150, 150), learning_rate_init=0.001, max_iter=5000;, score=0.913 total time=   4.8s\n",
      "[CV 5/5] END activation=logistic, early_stopping=True, hidden_layer_sizes=(150, 150), learning_rate_init=0.001, max_iter=5000;, score=0.912 total time=  12.1s\n",
      "[CV 1/5] END activation=logistic, early_stopping=True, hidden_layer_sizes=(150, 150), learning_rate_init=0.01, max_iter=1000;, score=0.917 total time=  16.5s\n",
      "[CV 2/5] END activation=logistic, early_stopping=True, hidden_layer_sizes=(150, 150), learning_rate_init=0.01, max_iter=1000;, score=0.913 total time=   7.6s\n",
      "[CV 3/5] END activation=logistic, early_stopping=True, hidden_layer_sizes=(150, 150), learning_rate_init=0.01, max_iter=1000;, score=0.918 total time=  16.8s\n",
      "[CV 4/5] END activation=logistic, early_stopping=True, hidden_layer_sizes=(150, 150), learning_rate_init=0.01, max_iter=1000;, score=0.919 total time=  18.0s\n",
      "[CV 5/5] END activation=logistic, early_stopping=True, hidden_layer_sizes=(150, 150), learning_rate_init=0.01, max_iter=1000;, score=0.913 total time=   4.8s\n",
      "[CV 1/5] END activation=logistic, early_stopping=True, hidden_layer_sizes=(150, 150), learning_rate_init=0.01, max_iter=5000;, score=0.912 total time=  11.6s\n",
      "[CV 2/5] END activation=logistic, early_stopping=True, hidden_layer_sizes=(150, 150), learning_rate_init=0.01, max_iter=5000;, score=0.916 total time=  20.5s\n",
      "[CV 3/5] END activation=logistic, early_stopping=True, hidden_layer_sizes=(150, 150), learning_rate_init=0.01, max_iter=5000;, score=0.919 total time=  17.7s\n",
      "[CV 4/5] END activation=logistic, early_stopping=True, hidden_layer_sizes=(150, 150), learning_rate_init=0.01, max_iter=5000;, score=0.916 total time=  10.5s\n",
      "[CV 5/5] END activation=logistic, early_stopping=True, hidden_layer_sizes=(150, 150), learning_rate_init=0.01, max_iter=5000;, score=0.915 total time=  14.5s\n",
      "[CV 1/5] END activation=tanh, early_stopping=True, hidden_layer_sizes=(150, 150), learning_rate_init=0.0001, max_iter=1000;, score=0.913 total time=   9.4s\n",
      "[CV 2/5] END activation=tanh, early_stopping=True, hidden_layer_sizes=(150, 150), learning_rate_init=0.0001, max_iter=1000;, score=0.914 total time=   9.8s\n",
      "[CV 3/5] END activation=tanh, early_stopping=True, hidden_layer_sizes=(150, 150), learning_rate_init=0.0001, max_iter=1000;, score=0.913 total time=   7.8s\n",
      "[CV 4/5] END activation=tanh, early_stopping=True, hidden_layer_sizes=(150, 150), learning_rate_init=0.0001, max_iter=1000;, score=0.914 total time=   8.6s\n",
      "[CV 5/5] END activation=tanh, early_stopping=True, hidden_layer_sizes=(150, 150), learning_rate_init=0.0001, max_iter=1000;, score=0.913 total time=   4.7s\n",
      "[CV 1/5] END activation=tanh, early_stopping=True, hidden_layer_sizes=(150, 150), learning_rate_init=0.0001, max_iter=5000;, score=0.911 total time=  11.7s\n",
      "[CV 2/5] END activation=tanh, early_stopping=True, hidden_layer_sizes=(150, 150), learning_rate_init=0.0001, max_iter=5000;, score=0.914 total time=   8.2s\n",
      "[CV 3/5] END activation=tanh, early_stopping=True, hidden_layer_sizes=(150, 150), learning_rate_init=0.0001, max_iter=5000;, score=0.914 total time=  10.2s\n",
      "[CV 4/5] END activation=tanh, early_stopping=True, hidden_layer_sizes=(150, 150), learning_rate_init=0.0001, max_iter=5000;, score=0.914 total time=  10.2s\n",
      "[CV 5/5] END activation=tanh, early_stopping=True, hidden_layer_sizes=(150, 150), learning_rate_init=0.0001, max_iter=5000;, score=0.913 total time=   9.0s\n",
      "[CV 1/5] END activation=tanh, early_stopping=True, hidden_layer_sizes=(150, 150), learning_rate_init=0.001, max_iter=1000;, score=0.912 total time=   6.2s\n",
      "[CV 2/5] END activation=tanh, early_stopping=True, hidden_layer_sizes=(150, 150), learning_rate_init=0.001, max_iter=1000;, score=0.912 total time=   5.9s\n",
      "[CV 3/5] END activation=tanh, early_stopping=True, hidden_layer_sizes=(150, 150), learning_rate_init=0.001, max_iter=1000;, score=0.915 total time=   5.1s\n",
      "[CV 4/5] END activation=tanh, early_stopping=True, hidden_layer_sizes=(150, 150), learning_rate_init=0.001, max_iter=1000;, score=0.913 total time=   4.7s\n",
      "[CV 5/5] END activation=tanh, early_stopping=True, hidden_layer_sizes=(150, 150), learning_rate_init=0.001, max_iter=1000;, score=0.913 total time=   8.3s\n",
      "[CV 1/5] END activation=tanh, early_stopping=True, hidden_layer_sizes=(150, 150), learning_rate_init=0.001, max_iter=5000;, score=0.909 total time=  16.8s\n",
      "[CV 2/5] END activation=tanh, early_stopping=True, hidden_layer_sizes=(150, 150), learning_rate_init=0.001, max_iter=5000;, score=0.912 total time=   5.4s\n",
      "[CV 3/5] END activation=tanh, early_stopping=True, hidden_layer_sizes=(150, 150), learning_rate_init=0.001, max_iter=5000;, score=0.915 total time=   5.4s\n",
      "[CV 4/5] END activation=tanh, early_stopping=True, hidden_layer_sizes=(150, 150), learning_rate_init=0.001, max_iter=5000;, score=0.913 total time=   4.7s\n",
      "[CV 5/5] END activation=tanh, early_stopping=True, hidden_layer_sizes=(150, 150), learning_rate_init=0.001, max_iter=5000;, score=0.913 total time=   4.7s\n",
      "[CV 1/5] END activation=tanh, early_stopping=True, hidden_layer_sizes=(150, 150), learning_rate_init=0.01, max_iter=1000;, score=0.913 total time=   4.7s\n",
      "[CV 2/5] END activation=tanh, early_stopping=True, hidden_layer_sizes=(150, 150), learning_rate_init=0.01, max_iter=1000;, score=0.913 total time=  12.5s\n",
      "[CV 3/5] END activation=tanh, early_stopping=True, hidden_layer_sizes=(150, 150), learning_rate_init=0.01, max_iter=1000;, score=0.918 total time=  13.3s\n",
      "[CV 4/5] END activation=tanh, early_stopping=True, hidden_layer_sizes=(150, 150), learning_rate_init=0.01, max_iter=1000;, score=0.918 total time=  12.5s\n",
      "[CV 5/5] END activation=tanh, early_stopping=True, hidden_layer_sizes=(150, 150), learning_rate_init=0.01, max_iter=1000;, score=0.919 total time=  10.2s\n",
      "[CV 1/5] END activation=tanh, early_stopping=True, hidden_layer_sizes=(150, 150), learning_rate_init=0.01, max_iter=5000;, score=0.913 total time=   7.4s\n",
      "[CV 2/5] END activation=tanh, early_stopping=True, hidden_layer_sizes=(150, 150), learning_rate_init=0.01, max_iter=5000;, score=0.918 total time=  14.5s\n",
      "[CV 3/5] END activation=tanh, early_stopping=True, hidden_layer_sizes=(150, 150), learning_rate_init=0.01, max_iter=5000;, score=0.919 total time=  11.0s\n",
      "[CV 4/5] END activation=tanh, early_stopping=True, hidden_layer_sizes=(150, 150), learning_rate_init=0.01, max_iter=5000;, score=0.915 total time=  12.9s\n",
      "[CV 5/5] END activation=tanh, early_stopping=True, hidden_layer_sizes=(150, 150), learning_rate_init=0.01, max_iter=5000;, score=0.918 total time=  10.2s\n"
     ]
    }
   ],
   "source": [
    "grid_results = gridsearch.fit(ft300_train, train_labels)\n",
    "best_params = grid_results.best_params_\n",
    "mlp = grid_results.best_estimator_"
   ]
  },
  {
   "cell_type": "code",
   "execution_count": 16,
   "metadata": {},
   "outputs": [
    {
     "data": {
      "text/plain": [
       "{'activation': 'relu',\n",
       " 'early_stopping': True,\n",
       " 'hidden_layer_sizes': (150, 150),\n",
       " 'learning_rate_init': 0.001,\n",
       " 'max_iter': 1000}"
      ]
     },
     "execution_count": 16,
     "metadata": {},
     "output_type": "execute_result"
    }
   ],
   "source": [
    "best_params"
   ]
  },
  {
   "cell_type": "code",
   "execution_count": 17,
   "metadata": {},
   "outputs": [],
   "source": [
    "mlp = mlp.fit(ft300_train, train_labels)\n",
    "save_model(mlp, \"mlp_ft300.joblib\")"
   ]
  },
  {
   "cell_type": "code",
   "execution_count": 18,
   "metadata": {},
   "outputs": [],
   "source": [
    "train_preds = mlp.predict(ft300_train)\n",
    "dev_preds = mlp.predict(ft300_dev)\n",
    "test_preds = mlp.predict(ft300_test)"
   ]
  },
  {
   "cell_type": "code",
   "execution_count": 19,
   "metadata": {},
   "outputs": [
    {
     "name": "stdout",
     "output_type": "stream",
     "text": [
      "Accuracy Train:  0.9373956594323873\n",
      "Accuracy Dev:  0.915933872669715\n",
      "Accuracy Test:  0.9255094869992972\n",
      "Weighted F1 Train:  0.9272621554844466\n",
      "Weighted F1 Dev:  0.9013330830682592\n",
      "Weighted F1 Test:  0.9138862061745193\n",
      "Macro F1 Train:  0.6373579052102539\n",
      "Macro F1 Dev:  0.4526058165577942\n",
      "Macro F1 Test:  0.4685712345402832\n",
      "Micro F1 Train:  0.9373956594323873\n",
      "Micro F1 Dev:  0.915933872669715\n",
      "Micro F1 Test:  0.9255094869992972\n",
      "Weighted Recall Train:  0.9373956594323873\n",
      "Weighted Recall Dev:  0.915933872669715\n",
      "Weighted Recall Test:  0.9255094869992972\n",
      "Macro Recall Train:  0.5491184374411252\n",
      "Macro Recall Dev:  0.42553370121890716\n",
      "Macro Recall Test:  0.4398056305437717\n",
      "Micro Recall Train:  0.9373956594323873\n",
      "Micro Recall Dev:  0.915933872669715\n",
      "Micro Recall Test:  0.9255094869992972\n",
      "Confusion Matrix Train: \n",
      "[[  754  1208     0]\n",
      " [  201 20577     0]\n",
      " [    0    16     6]]\n",
      "Confusion Matrix Dev: \n",
      "[[  80  192    0]\n",
      " [  45 2524    0]\n",
      " [   0    2    0]]\n",
      "Confusion Matrix Test: \n",
      "[[  84  166    0]\n",
      " [  43 2550    0]\n",
      " [   0    3    0]]\n"
     ]
    }
   ],
   "source": [
    "computeAllScores(train_preds, dev_preds, test_preds)"
   ]
  },
  {
   "cell_type": "markdown",
   "metadata": {},
   "source": [
    "### Word2Vec 300"
   ]
  },
  {
   "cell_type": "code",
   "execution_count": 20,
   "metadata": {},
   "outputs": [],
   "source": [
    "w2v300_train, w2v300_dev, w2v300_test = load_word2vec_300()"
   ]
  },
  {
   "cell_type": "code",
   "execution_count": 21,
   "metadata": {},
   "outputs": [],
   "source": [
    "# Set all NaN values to 0\n",
    "w2v300_train = np.nan_to_num(w2v300_train)\n",
    "w2v300_dev = np.nan_to_num(w2v300_dev)\n",
    "w2v300_test = np.nan_to_num(w2v300_test)"
   ]
  },
  {
   "cell_type": "code",
   "execution_count": 22,
   "metadata": {},
   "outputs": [
    {
     "name": "stdout",
     "output_type": "stream",
     "text": [
      "Fitting 5 folds for each of 18 candidates, totalling 90 fits\n",
      "[CV 1/5] END activation=relu, early_stopping=True, hidden_layer_sizes=(150, 150), learning_rate_init=0.0001, max_iter=1000;, score=0.925 total time=  19.5s\n",
      "[CV 2/5] END activation=relu, early_stopping=True, hidden_layer_sizes=(150, 150), learning_rate_init=0.0001, max_iter=1000;, score=0.925 total time=  17.5s\n",
      "[CV 3/5] END activation=relu, early_stopping=True, hidden_layer_sizes=(150, 150), learning_rate_init=0.0001, max_iter=1000;, score=0.921 total time=  11.7s\n",
      "[CV 4/5] END activation=relu, early_stopping=True, hidden_layer_sizes=(150, 150), learning_rate_init=0.0001, max_iter=1000;, score=0.925 total time=  24.3s\n",
      "[CV 5/5] END activation=relu, early_stopping=True, hidden_layer_sizes=(150, 150), learning_rate_init=0.0001, max_iter=1000;, score=0.921 total time=  19.6s\n",
      "[CV 1/5] END activation=relu, early_stopping=True, hidden_layer_sizes=(150, 150), learning_rate_init=0.0001, max_iter=5000;, score=0.918 total time=   9.2s\n",
      "[CV 2/5] END activation=relu, early_stopping=True, hidden_layer_sizes=(150, 150), learning_rate_init=0.0001, max_iter=5000;, score=0.923 total time=  14.8s\n",
      "[CV 3/5] END activation=relu, early_stopping=True, hidden_layer_sizes=(150, 150), learning_rate_init=0.0001, max_iter=5000;, score=0.923 total time=  14.2s\n",
      "[CV 4/5] END activation=relu, early_stopping=True, hidden_layer_sizes=(150, 150), learning_rate_init=0.0001, max_iter=5000;, score=0.926 total time=  11.6s\n",
      "[CV 5/5] END activation=relu, early_stopping=True, hidden_layer_sizes=(150, 150), learning_rate_init=0.0001, max_iter=5000;, score=0.924 total time=  20.3s\n",
      "[CV 1/5] END activation=relu, early_stopping=True, hidden_layer_sizes=(150, 150), learning_rate_init=0.001, max_iter=1000;, score=0.924 total time=   5.6s\n",
      "[CV 2/5] END activation=relu, early_stopping=True, hidden_layer_sizes=(150, 150), learning_rate_init=0.001, max_iter=1000;, score=0.926 total time=   7.6s\n",
      "[CV 3/5] END activation=relu, early_stopping=True, hidden_layer_sizes=(150, 150), learning_rate_init=0.001, max_iter=1000;, score=0.920 total time=   5.5s\n",
      "[CV 4/5] END activation=relu, early_stopping=True, hidden_layer_sizes=(150, 150), learning_rate_init=0.001, max_iter=1000;, score=0.926 total time=   8.2s\n",
      "[CV 5/5] END activation=relu, early_stopping=True, hidden_layer_sizes=(150, 150), learning_rate_init=0.001, max_iter=1000;, score=0.922 total time=   6.1s\n",
      "[CV 1/5] END activation=relu, early_stopping=True, hidden_layer_sizes=(150, 150), learning_rate_init=0.001, max_iter=5000;, score=0.925 total time=  10.0s\n",
      "[CV 2/5] END activation=relu, early_stopping=True, hidden_layer_sizes=(150, 150), learning_rate_init=0.001, max_iter=5000;, score=0.924 total time=   5.3s\n",
      "[CV 3/5] END activation=relu, early_stopping=True, hidden_layer_sizes=(150, 150), learning_rate_init=0.001, max_iter=5000;, score=0.923 total time=   4.9s\n",
      "[CV 4/5] END activation=relu, early_stopping=True, hidden_layer_sizes=(150, 150), learning_rate_init=0.001, max_iter=5000;, score=0.925 total time=   5.2s\n",
      "[CV 5/5] END activation=relu, early_stopping=True, hidden_layer_sizes=(150, 150), learning_rate_init=0.001, max_iter=5000;, score=0.923 total time=   4.4s\n",
      "[CV 1/5] END activation=relu, early_stopping=True, hidden_layer_sizes=(150, 150), learning_rate_init=0.01, max_iter=1000;, score=0.917 total time=   5.4s\n",
      "[CV 2/5] END activation=relu, early_stopping=True, hidden_layer_sizes=(150, 150), learning_rate_init=0.01, max_iter=1000;, score=0.922 total time=   4.8s\n",
      "[CV 3/5] END activation=relu, early_stopping=True, hidden_layer_sizes=(150, 150), learning_rate_init=0.01, max_iter=1000;, score=0.924 total time=   4.6s\n",
      "[CV 4/5] END activation=relu, early_stopping=True, hidden_layer_sizes=(150, 150), learning_rate_init=0.01, max_iter=1000;, score=0.923 total time=   6.8s\n",
      "[CV 5/5] END activation=relu, early_stopping=True, hidden_layer_sizes=(150, 150), learning_rate_init=0.01, max_iter=1000;, score=0.924 total time=   4.3s\n",
      "[CV 1/5] END activation=relu, early_stopping=True, hidden_layer_sizes=(150, 150), learning_rate_init=0.01, max_iter=5000;, score=0.921 total time=   4.8s\n",
      "[CV 2/5] END activation=relu, early_stopping=True, hidden_layer_sizes=(150, 150), learning_rate_init=0.01, max_iter=5000;, score=0.919 total time=   9.4s\n",
      "[CV 3/5] END activation=relu, early_stopping=True, hidden_layer_sizes=(150, 150), learning_rate_init=0.01, max_iter=5000;, score=0.918 total time=   6.3s\n",
      "[CV 4/5] END activation=relu, early_stopping=True, hidden_layer_sizes=(150, 150), learning_rate_init=0.01, max_iter=5000;, score=0.920 total time=   6.5s\n",
      "[CV 5/5] END activation=relu, early_stopping=True, hidden_layer_sizes=(150, 150), learning_rate_init=0.01, max_iter=5000;, score=0.924 total time=   4.3s\n",
      "[CV 1/5] END activation=logistic, early_stopping=True, hidden_layer_sizes=(150, 150), learning_rate_init=0.0001, max_iter=1000;, score=0.913 total time=   4.8s\n",
      "[CV 2/5] END activation=logistic, early_stopping=True, hidden_layer_sizes=(150, 150), learning_rate_init=0.0001, max_iter=1000;, score=0.913 total time=   4.8s\n",
      "[CV 3/5] END activation=logistic, early_stopping=True, hidden_layer_sizes=(150, 150), learning_rate_init=0.0001, max_iter=1000;, score=0.913 total time=   4.8s\n",
      "[CV 4/5] END activation=logistic, early_stopping=True, hidden_layer_sizes=(150, 150), learning_rate_init=0.0001, max_iter=1000;, score=0.913 total time=   4.8s\n",
      "[CV 5/5] END activation=logistic, early_stopping=True, hidden_layer_sizes=(150, 150), learning_rate_init=0.0001, max_iter=1000;, score=0.913 total time=   4.8s\n",
      "[CV 1/5] END activation=logistic, early_stopping=True, hidden_layer_sizes=(150, 150), learning_rate_init=0.0001, max_iter=5000;, score=0.913 total time=   4.8s\n",
      "[CV 2/5] END activation=logistic, early_stopping=True, hidden_layer_sizes=(150, 150), learning_rate_init=0.0001, max_iter=5000;, score=0.913 total time=   4.8s\n",
      "[CV 3/5] END activation=logistic, early_stopping=True, hidden_layer_sizes=(150, 150), learning_rate_init=0.0001, max_iter=5000;, score=0.913 total time=   4.8s\n",
      "[CV 4/5] END activation=logistic, early_stopping=True, hidden_layer_sizes=(150, 150), learning_rate_init=0.0001, max_iter=5000;, score=0.913 total time=   4.9s\n",
      "[CV 5/5] END activation=logistic, early_stopping=True, hidden_layer_sizes=(150, 150), learning_rate_init=0.0001, max_iter=5000;, score=0.913 total time=   4.8s\n",
      "[CV 1/5] END activation=logistic, early_stopping=True, hidden_layer_sizes=(150, 150), learning_rate_init=0.001, max_iter=1000;, score=0.911 total time=   7.6s\n",
      "[CV 2/5] END activation=logistic, early_stopping=True, hidden_layer_sizes=(150, 150), learning_rate_init=0.001, max_iter=1000;, score=0.913 total time=  17.3s\n",
      "[CV 3/5] END activation=logistic, early_stopping=True, hidden_layer_sizes=(150, 150), learning_rate_init=0.001, max_iter=1000;, score=0.913 total time=   9.6s\n",
      "[CV 4/5] END activation=logistic, early_stopping=True, hidden_layer_sizes=(150, 150), learning_rate_init=0.001, max_iter=1000;, score=0.913 total time=   4.8s\n",
      "[CV 5/5] END activation=logistic, early_stopping=True, hidden_layer_sizes=(150, 150), learning_rate_init=0.001, max_iter=1000;, score=0.913 total time=   6.4s\n",
      "[CV 1/5] END activation=logistic, early_stopping=True, hidden_layer_sizes=(150, 150), learning_rate_init=0.001, max_iter=5000;, score=0.910 total time=   8.8s\n",
      "[CV 2/5] END activation=logistic, early_stopping=True, hidden_layer_sizes=(150, 150), learning_rate_init=0.001, max_iter=5000;, score=0.913 total time=   4.8s\n",
      "[CV 3/5] END activation=logistic, early_stopping=True, hidden_layer_sizes=(150, 150), learning_rate_init=0.001, max_iter=5000;, score=0.912 total time=   7.2s\n",
      "[CV 4/5] END activation=logistic, early_stopping=True, hidden_layer_sizes=(150, 150), learning_rate_init=0.001, max_iter=5000;, score=0.913 total time=   4.8s\n",
      "[CV 5/5] END activation=logistic, early_stopping=True, hidden_layer_sizes=(150, 150), learning_rate_init=0.001, max_iter=5000;, score=0.913 total time=   6.8s\n",
      "[CV 1/5] END activation=logistic, early_stopping=True, hidden_layer_sizes=(150, 150), learning_rate_init=0.01, max_iter=1000;, score=0.921 total time=  12.4s\n",
      "[CV 2/5] END activation=logistic, early_stopping=True, hidden_layer_sizes=(150, 150), learning_rate_init=0.01, max_iter=1000;, score=0.916 total time=  10.8s\n",
      "[CV 3/5] END activation=logistic, early_stopping=True, hidden_layer_sizes=(150, 150), learning_rate_init=0.01, max_iter=1000;, score=0.924 total time=  12.4s\n",
      "[CV 4/5] END activation=logistic, early_stopping=True, hidden_layer_sizes=(150, 150), learning_rate_init=0.01, max_iter=1000;, score=0.919 total time=  10.8s\n",
      "[CV 5/5] END activation=logistic, early_stopping=True, hidden_layer_sizes=(150, 150), learning_rate_init=0.01, max_iter=1000;, score=0.925 total time=  13.6s\n",
      "[CV 1/5] END activation=logistic, early_stopping=True, hidden_layer_sizes=(150, 150), learning_rate_init=0.01, max_iter=5000;, score=0.913 total time=   4.8s\n",
      "[CV 2/5] END activation=logistic, early_stopping=True, hidden_layer_sizes=(150, 150), learning_rate_init=0.01, max_iter=5000;, score=0.918 total time=  13.7s\n",
      "[CV 3/5] END activation=logistic, early_stopping=True, hidden_layer_sizes=(150, 150), learning_rate_init=0.01, max_iter=5000;, score=0.921 total time=  10.4s\n",
      "[CV 4/5] END activation=logistic, early_stopping=True, hidden_layer_sizes=(150, 150), learning_rate_init=0.01, max_iter=5000;, score=0.920 total time=  10.8s\n",
      "[CV 5/5] END activation=logistic, early_stopping=True, hidden_layer_sizes=(150, 150), learning_rate_init=0.01, max_iter=5000;, score=0.924 total time=  15.6s\n",
      "[CV 1/5] END activation=tanh, early_stopping=True, hidden_layer_sizes=(150, 150), learning_rate_init=0.0001, max_iter=1000;, score=0.914 total time=   7.0s\n",
      "[CV 2/5] END activation=tanh, early_stopping=True, hidden_layer_sizes=(150, 150), learning_rate_init=0.0001, max_iter=1000;, score=0.914 total time=   6.6s\n",
      "[CV 3/5] END activation=tanh, early_stopping=True, hidden_layer_sizes=(150, 150), learning_rate_init=0.0001, max_iter=1000;, score=0.913 total time=   7.0s\n",
      "[CV 4/5] END activation=tanh, early_stopping=True, hidden_layer_sizes=(150, 150), learning_rate_init=0.0001, max_iter=1000;, score=0.915 total time=   6.6s\n",
      "[CV 5/5] END activation=tanh, early_stopping=True, hidden_layer_sizes=(150, 150), learning_rate_init=0.0001, max_iter=1000;, score=0.913 total time=  13.3s\n",
      "[CV 1/5] END activation=tanh, early_stopping=True, hidden_layer_sizes=(150, 150), learning_rate_init=0.0001, max_iter=5000;, score=0.910 total time=  12.9s\n",
      "[CV 2/5] END activation=tanh, early_stopping=True, hidden_layer_sizes=(150, 150), learning_rate_init=0.0001, max_iter=5000;, score=0.913 total time=   7.8s\n",
      "[CV 3/5] END activation=tanh, early_stopping=True, hidden_layer_sizes=(150, 150), learning_rate_init=0.0001, max_iter=5000;, score=0.913 total time=   6.3s\n",
      "[CV 4/5] END activation=tanh, early_stopping=True, hidden_layer_sizes=(150, 150), learning_rate_init=0.0001, max_iter=5000;, score=0.914 total time=   6.2s\n",
      "[CV 5/5] END activation=tanh, early_stopping=True, hidden_layer_sizes=(150, 150), learning_rate_init=0.0001, max_iter=5000;, score=0.913 total time=   6.6s\n",
      "[CV 1/5] END activation=tanh, early_stopping=True, hidden_layer_sizes=(150, 150), learning_rate_init=0.001, max_iter=1000;, score=0.912 total time=   7.8s\n",
      "[CV 2/5] END activation=tanh, early_stopping=True, hidden_layer_sizes=(150, 150), learning_rate_init=0.001, max_iter=1000;, score=0.911 total time=   4.7s\n",
      "[CV 3/5] END activation=tanh, early_stopping=True, hidden_layer_sizes=(150, 150), learning_rate_init=0.001, max_iter=1000;, score=0.913 total time=   6.2s\n",
      "[CV 4/5] END activation=tanh, early_stopping=True, hidden_layer_sizes=(150, 150), learning_rate_init=0.001, max_iter=1000;, score=0.915 total time=   4.7s\n",
      "[CV 5/5] END activation=tanh, early_stopping=True, hidden_layer_sizes=(150, 150), learning_rate_init=0.001, max_iter=1000;, score=0.913 total time=   4.7s\n",
      "[CV 1/5] END activation=tanh, early_stopping=True, hidden_layer_sizes=(150, 150), learning_rate_init=0.001, max_iter=5000;, score=0.912 total time=   7.8s\n",
      "[CV 2/5] END activation=tanh, early_stopping=True, hidden_layer_sizes=(150, 150), learning_rate_init=0.001, max_iter=5000;, score=0.913 total time=   5.1s\n",
      "[CV 3/5] END activation=tanh, early_stopping=True, hidden_layer_sizes=(150, 150), learning_rate_init=0.001, max_iter=5000;, score=0.915 total time=   7.4s\n",
      "[CV 4/5] END activation=tanh, early_stopping=True, hidden_layer_sizes=(150, 150), learning_rate_init=0.001, max_iter=5000;, score=0.914 total time=   4.7s\n",
      "[CV 5/5] END activation=tanh, early_stopping=True, hidden_layer_sizes=(150, 150), learning_rate_init=0.001, max_iter=5000;, score=0.914 total time=   4.7s\n",
      "[CV 1/5] END activation=tanh, early_stopping=True, hidden_layer_sizes=(150, 150), learning_rate_init=0.01, max_iter=1000;, score=0.917 total time=   7.4s\n",
      "[CV 2/5] END activation=tanh, early_stopping=True, hidden_layer_sizes=(150, 150), learning_rate_init=0.01, max_iter=1000;, score=0.918 total time=   8.6s\n",
      "[CV 3/5] END activation=tanh, early_stopping=True, hidden_layer_sizes=(150, 150), learning_rate_init=0.01, max_iter=1000;, score=0.917 total time=  10.6s\n",
      "[CV 4/5] END activation=tanh, early_stopping=True, hidden_layer_sizes=(150, 150), learning_rate_init=0.01, max_iter=1000;, score=0.920 total time=   9.8s\n",
      "[CV 5/5] END activation=tanh, early_stopping=True, hidden_layer_sizes=(150, 150), learning_rate_init=0.01, max_iter=1000;, score=0.922 total time=  11.7s\n",
      "[CV 1/5] END activation=tanh, early_stopping=True, hidden_layer_sizes=(150, 150), learning_rate_init=0.01, max_iter=5000;, score=0.917 total time=   9.8s\n",
      "[CV 2/5] END activation=tanh, early_stopping=True, hidden_layer_sizes=(150, 150), learning_rate_init=0.01, max_iter=5000;, score=0.917 total time=  11.0s\n",
      "[CV 3/5] END activation=tanh, early_stopping=True, hidden_layer_sizes=(150, 150), learning_rate_init=0.01, max_iter=5000;, score=0.920 total time=   7.4s\n",
      "[CV 4/5] END activation=tanh, early_stopping=True, hidden_layer_sizes=(150, 150), learning_rate_init=0.01, max_iter=5000;, score=0.919 total time=   8.2s\n",
      "[CV 5/5] END activation=tanh, early_stopping=True, hidden_layer_sizes=(150, 150), learning_rate_init=0.01, max_iter=5000;, score=0.914 total time=  12.5s\n"
     ]
    }
   ],
   "source": [
    "grid_results = gridsearch.fit(w2v300_train, train_labels)\n",
    "best_params = grid_results.best_params_\n",
    "mlp = grid_results.best_estimator_"
   ]
  },
  {
   "cell_type": "code",
   "execution_count": 23,
   "metadata": {},
   "outputs": [
    {
     "data": {
      "text/plain": [
       "{'activation': 'relu',\n",
       " 'early_stopping': True,\n",
       " 'hidden_layer_sizes': (150, 150),\n",
       " 'learning_rate_init': 0.001,\n",
       " 'max_iter': 5000}"
      ]
     },
     "execution_count": 23,
     "metadata": {},
     "output_type": "execute_result"
    }
   ],
   "source": [
    "best_params"
   ]
  },
  {
   "cell_type": "code",
   "execution_count": 24,
   "metadata": {},
   "outputs": [],
   "source": [
    "mlp = mlp.fit(w2v300_train, train_labels)\n",
    "save_model(mlp, \"mlp_w2v300.joblib\")"
   ]
  },
  {
   "cell_type": "code",
   "execution_count": 25,
   "metadata": {},
   "outputs": [],
   "source": [
    "train_preds = mlp.predict(w2v300_train)\n",
    "dev_preds = mlp.predict(w2v300_dev)\n",
    "test_preds = mlp.predict(w2v300_test)"
   ]
  },
  {
   "cell_type": "code",
   "execution_count": 26,
   "metadata": {},
   "outputs": [
    {
     "name": "stdout",
     "output_type": "stream",
     "text": [
      "Accuracy Train:  0.9296195413408312\n",
      "Accuracy Dev:  0.9180443193809357\n",
      "Accuracy Test:  0.9276177090653549\n",
      "Weighted F1 Train:  0.9171879809978131\n",
      "Weighted F1 Dev:  0.904843801665825\n",
      "Weighted F1 Test:  0.9158326879490332\n",
      "Macro F1 Train:  0.5251880441683358\n",
      "Macro F1 Dev:  0.4618308274808875\n",
      "Macro F1 Test:  0.47233771150340487\n",
      "Micro F1 Train:  0.9296195413408312\n",
      "Micro F1 Dev:  0.9180443193809357\n",
      "Micro F1 Test:  0.9276177090653549\n",
      "Weighted Recall Train:  0.9296195413408312\n",
      "Weighted Recall Dev:  0.9180443193809357\n",
      "Weighted Recall Test:  0.9276177090653549\n",
      "Macro Recall Train:  0.4678901669367061\n",
      "Macro Recall Dev:  0.43398238041810727\n",
      "Macro Recall Test:  0.44178172001542615\n",
      "Micro Recall Train:  0.9296195413408312\n",
      "Micro Recall Dev:  0.9180443193809357\n",
      "Micro Recall Test:  0.9276177090653549\n",
      "Confusion Matrix Train: \n",
      "[[  638  1324     0]\n",
      " [  258 20520     0]\n",
      " [    0    20     2]]\n",
      "Confusion Matrix Dev: \n",
      "[[  87  185    0]\n",
      " [  46 2523    0]\n",
      " [   0    2    0]]\n",
      "Confusion Matrix Test: \n",
      "[[  85  165    0]\n",
      " [  38 2555    0]\n",
      " [   0    3    0]]\n"
     ]
    }
   ],
   "source": [
    "computeAllScores(train_preds, dev_preds, test_preds)"
   ]
  },
  {
   "cell_type": "markdown",
   "metadata": {},
   "source": [
    "### TF-IDF PCA (1000 Dims)"
   ]
  },
  {
   "cell_type": "code",
   "execution_count": 27,
   "metadata": {},
   "outputs": [],
   "source": [
    "tfidf_pca_train, tfidf_pca_dev, tfidf_pca_test = load_tfidf_pca()"
   ]
  },
  {
   "cell_type": "code",
   "execution_count": 28,
   "metadata": {},
   "outputs": [
    {
     "name": "stdout",
     "output_type": "stream",
     "text": [
      "Fitting 5 folds for each of 18 candidates, totalling 90 fits\n",
      "[CV 1/5] END activation=relu, early_stopping=True, hidden_layer_sizes=(150, 150), learning_rate_init=0.0001, max_iter=1000;, score=0.925 total time=  19.4s\n",
      "[CV 2/5] END activation=relu, early_stopping=True, hidden_layer_sizes=(150, 150), learning_rate_init=0.0001, max_iter=1000;, score=0.927 total time=  24.0s\n",
      "[CV 3/5] END activation=relu, early_stopping=True, hidden_layer_sizes=(150, 150), learning_rate_init=0.0001, max_iter=1000;, score=0.931 total time=  24.8s\n",
      "[CV 4/5] END activation=relu, early_stopping=True, hidden_layer_sizes=(150, 150), learning_rate_init=0.0001, max_iter=1000;, score=0.923 total time=  35.0s\n",
      "[CV 5/5] END activation=relu, early_stopping=True, hidden_layer_sizes=(150, 150), learning_rate_init=0.0001, max_iter=1000;, score=0.925 total time=  25.5s\n",
      "[CV 1/5] END activation=relu, early_stopping=True, hidden_layer_sizes=(150, 150), learning_rate_init=0.0001, max_iter=5000;, score=0.925 total time=  21.6s\n",
      "[CV 2/5] END activation=relu, early_stopping=True, hidden_layer_sizes=(150, 150), learning_rate_init=0.0001, max_iter=5000;, score=0.927 total time=  23.1s\n",
      "[CV 3/5] END activation=relu, early_stopping=True, hidden_layer_sizes=(150, 150), learning_rate_init=0.0001, max_iter=5000;, score=0.928 total time=  20.7s\n",
      "[CV 4/5] END activation=relu, early_stopping=True, hidden_layer_sizes=(150, 150), learning_rate_init=0.0001, max_iter=5000;, score=0.926 total time=  22.4s\n",
      "[CV 5/5] END activation=relu, early_stopping=True, hidden_layer_sizes=(150, 150), learning_rate_init=0.0001, max_iter=5000;, score=0.924 total time=  32.7s\n",
      "[CV 1/5] END activation=relu, early_stopping=True, hidden_layer_sizes=(150, 150), learning_rate_init=0.001, max_iter=1000;, score=0.923 total time=  23.2s\n",
      "[CV 2/5] END activation=relu, early_stopping=True, hidden_layer_sizes=(150, 150), learning_rate_init=0.001, max_iter=1000;, score=0.924 total time=  11.9s\n",
      "[CV 3/5] END activation=relu, early_stopping=True, hidden_layer_sizes=(150, 150), learning_rate_init=0.001, max_iter=1000;, score=0.928 total time=  11.2s\n",
      "[CV 4/5] END activation=relu, early_stopping=True, hidden_layer_sizes=(150, 150), learning_rate_init=0.001, max_iter=1000;, score=0.923 total time=  10.4s\n",
      "[CV 5/5] END activation=relu, early_stopping=True, hidden_layer_sizes=(150, 150), learning_rate_init=0.001, max_iter=1000;, score=0.923 total time=  12.8s\n",
      "[CV 1/5] END activation=relu, early_stopping=True, hidden_layer_sizes=(150, 150), learning_rate_init=0.001, max_iter=5000;, score=0.923 total time=  11.2s\n",
      "[CV 2/5] END activation=relu, early_stopping=True, hidden_layer_sizes=(150, 150), learning_rate_init=0.001, max_iter=5000;, score=0.927 total time=  11.2s\n",
      "[CV 3/5] END activation=relu, early_stopping=True, hidden_layer_sizes=(150, 150), learning_rate_init=0.001, max_iter=5000;, score=0.926 total time=  12.7s\n",
      "[CV 4/5] END activation=relu, early_stopping=True, hidden_layer_sizes=(150, 150), learning_rate_init=0.001, max_iter=5000;, score=0.922 total time=  16.8s\n",
      "[CV 5/5] END activation=relu, early_stopping=True, hidden_layer_sizes=(150, 150), learning_rate_init=0.001, max_iter=5000;, score=0.925 total time=  10.4s\n",
      "[CV 1/5] END activation=relu, early_stopping=True, hidden_layer_sizes=(150, 150), learning_rate_init=0.01, max_iter=1000;, score=0.913 total time=  12.0s\n",
      "[CV 2/5] END activation=relu, early_stopping=True, hidden_layer_sizes=(150, 150), learning_rate_init=0.01, max_iter=1000;, score=0.921 total time=  27.0s\n",
      "[CV 3/5] END activation=relu, early_stopping=True, hidden_layer_sizes=(150, 150), learning_rate_init=0.01, max_iter=1000;, score=0.926 total time=   9.6s\n",
      "[CV 4/5] END activation=relu, early_stopping=True, hidden_layer_sizes=(150, 150), learning_rate_init=0.01, max_iter=1000;, score=0.919 total time=  15.9s\n",
      "[CV 5/5] END activation=relu, early_stopping=True, hidden_layer_sizes=(150, 150), learning_rate_init=0.01, max_iter=1000;, score=0.919 total time=  10.4s\n",
      "[CV 1/5] END activation=relu, early_stopping=True, hidden_layer_sizes=(150, 150), learning_rate_init=0.01, max_iter=5000;, score=0.915 total time=  18.3s\n",
      "[CV 2/5] END activation=relu, early_stopping=True, hidden_layer_sizes=(150, 150), learning_rate_init=0.01, max_iter=5000;, score=0.925 total time=  10.4s\n",
      "[CV 3/5] END activation=relu, early_stopping=True, hidden_layer_sizes=(150, 150), learning_rate_init=0.01, max_iter=5000;, score=0.925 total time=  11.2s\n",
      "[CV 4/5] END activation=relu, early_stopping=True, hidden_layer_sizes=(150, 150), learning_rate_init=0.01, max_iter=5000;, score=0.923 total time=   9.6s\n",
      "[CV 5/5] END activation=relu, early_stopping=True, hidden_layer_sizes=(150, 150), learning_rate_init=0.01, max_iter=5000;, score=0.925 total time=  10.3s\n",
      "[CV 1/5] END activation=logistic, early_stopping=True, hidden_layer_sizes=(150, 150), learning_rate_init=0.0001, max_iter=1000;, score=0.913 total time=  10.7s\n",
      "[CV 2/5] END activation=logistic, early_stopping=True, hidden_layer_sizes=(150, 150), learning_rate_init=0.0001, max_iter=1000;, score=0.913 total time=  10.6s\n",
      "[CV 3/5] END activation=logistic, early_stopping=True, hidden_layer_sizes=(150, 150), learning_rate_init=0.0001, max_iter=1000;, score=0.913 total time=  10.6s\n",
      "[CV 4/5] END activation=logistic, early_stopping=True, hidden_layer_sizes=(150, 150), learning_rate_init=0.0001, max_iter=1000;, score=0.913 total time=  10.6s\n",
      "[CV 5/5] END activation=logistic, early_stopping=True, hidden_layer_sizes=(150, 150), learning_rate_init=0.0001, max_iter=1000;, score=0.913 total time=  10.6s\n",
      "[CV 1/5] END activation=logistic, early_stopping=True, hidden_layer_sizes=(150, 150), learning_rate_init=0.0001, max_iter=5000;, score=0.913 total time=  10.6s\n",
      "[CV 2/5] END activation=logistic, early_stopping=True, hidden_layer_sizes=(150, 150), learning_rate_init=0.0001, max_iter=5000;, score=0.913 total time=  10.6s\n",
      "[CV 3/5] END activation=logistic, early_stopping=True, hidden_layer_sizes=(150, 150), learning_rate_init=0.0001, max_iter=5000;, score=0.913 total time=  10.6s\n",
      "[CV 4/5] END activation=logistic, early_stopping=True, hidden_layer_sizes=(150, 150), learning_rate_init=0.0001, max_iter=5000;, score=0.913 total time=  10.6s\n",
      "[CV 5/5] END activation=logistic, early_stopping=True, hidden_layer_sizes=(150, 150), learning_rate_init=0.0001, max_iter=5000;, score=0.913 total time=  10.5s\n",
      "[CV 1/5] END activation=logistic, early_stopping=True, hidden_layer_sizes=(150, 150), learning_rate_init=0.001, max_iter=1000;, score=0.921 total time=  20.3s\n",
      "[CV 2/5] END activation=logistic, early_stopping=True, hidden_layer_sizes=(150, 150), learning_rate_init=0.001, max_iter=1000;, score=0.922 total time=  36.0s\n",
      "[CV 3/5] END activation=logistic, early_stopping=True, hidden_layer_sizes=(150, 150), learning_rate_init=0.001, max_iter=1000;, score=0.927 total time=  21.2s\n",
      "[CV 4/5] END activation=logistic, early_stopping=True, hidden_layer_sizes=(150, 150), learning_rate_init=0.001, max_iter=1000;, score=0.926 total time=  22.9s\n",
      "[CV 5/5] END activation=logistic, early_stopping=True, hidden_layer_sizes=(150, 150), learning_rate_init=0.001, max_iter=1000;, score=0.922 total time=  23.5s\n",
      "[CV 1/5] END activation=logistic, early_stopping=True, hidden_layer_sizes=(150, 150), learning_rate_init=0.001, max_iter=5000;, score=0.925 total time=  19.4s\n",
      "[CV 2/5] END activation=logistic, early_stopping=True, hidden_layer_sizes=(150, 150), learning_rate_init=0.001, max_iter=5000;, score=0.927 total time=  27.4s\n",
      "[CV 3/5] END activation=logistic, early_stopping=True, hidden_layer_sizes=(150, 150), learning_rate_init=0.001, max_iter=5000;, score=0.925 total time=  16.7s\n",
      "[CV 4/5] END activation=logistic, early_stopping=True, hidden_layer_sizes=(150, 150), learning_rate_init=0.001, max_iter=5000;, score=0.927 total time=  18.5s\n",
      "[CV 5/5] END activation=logistic, early_stopping=True, hidden_layer_sizes=(150, 150), learning_rate_init=0.001, max_iter=5000;, score=0.922 total time=  18.7s\n",
      "[CV 1/5] END activation=logistic, early_stopping=True, hidden_layer_sizes=(150, 150), learning_rate_init=0.01, max_iter=1000;, score=0.923 total time=  19.4s\n",
      "[CV 2/5] END activation=logistic, early_stopping=True, hidden_layer_sizes=(150, 150), learning_rate_init=0.01, max_iter=1000;, score=0.925 total time=  13.3s\n",
      "[CV 3/5] END activation=logistic, early_stopping=True, hidden_layer_sizes=(150, 150), learning_rate_init=0.01, max_iter=1000;, score=0.930 total time=  15.9s\n",
      "[CV 4/5] END activation=logistic, early_stopping=True, hidden_layer_sizes=(150, 150), learning_rate_init=0.01, max_iter=1000;, score=0.923 total time=  12.4s\n",
      "[CV 5/5] END activation=logistic, early_stopping=True, hidden_layer_sizes=(150, 150), learning_rate_init=0.01, max_iter=1000;, score=0.925 total time=  13.3s\n",
      "[CV 1/5] END activation=logistic, early_stopping=True, hidden_layer_sizes=(150, 150), learning_rate_init=0.01, max_iter=5000;, score=0.926 total time=  20.3s\n",
      "[CV 2/5] END activation=logistic, early_stopping=True, hidden_layer_sizes=(150, 150), learning_rate_init=0.01, max_iter=5000;, score=0.926 total time=  20.3s\n",
      "[CV 3/5] END activation=logistic, early_stopping=True, hidden_layer_sizes=(150, 150), learning_rate_init=0.01, max_iter=5000;, score=0.928 total time=  14.2s\n",
      "[CV 4/5] END activation=logistic, early_stopping=True, hidden_layer_sizes=(150, 150), learning_rate_init=0.01, max_iter=5000;, score=0.923 total time=  11.5s\n",
      "[CV 5/5] END activation=logistic, early_stopping=True, hidden_layer_sizes=(150, 150), learning_rate_init=0.01, max_iter=5000;, score=0.922 total time=  13.3s\n",
      "[CV 1/5] END activation=tanh, early_stopping=True, hidden_layer_sizes=(150, 150), learning_rate_init=0.0001, max_iter=1000;, score=0.923 total time=  18.3s\n",
      "[CV 2/5] END activation=tanh, early_stopping=True, hidden_layer_sizes=(150, 150), learning_rate_init=0.0001, max_iter=1000;, score=0.927 total time=  22.6s\n",
      "[CV 3/5] END activation=tanh, early_stopping=True, hidden_layer_sizes=(150, 150), learning_rate_init=0.0001, max_iter=1000;, score=0.922 total time=  17.4s\n",
      "[CV 4/5] END activation=tanh, early_stopping=True, hidden_layer_sizes=(150, 150), learning_rate_init=0.0001, max_iter=1000;, score=0.926 total time=  21.0s\n",
      "[CV 5/5] END activation=tanh, early_stopping=True, hidden_layer_sizes=(150, 150), learning_rate_init=0.0001, max_iter=1000;, score=0.925 total time=  19.2s\n",
      "[CV 1/5] END activation=tanh, early_stopping=True, hidden_layer_sizes=(150, 150), learning_rate_init=0.0001, max_iter=5000;, score=0.920 total time=  30.4s\n",
      "[CV 2/5] END activation=tanh, early_stopping=True, hidden_layer_sizes=(150, 150), learning_rate_init=0.0001, max_iter=5000;, score=0.920 total time=  16.6s\n",
      "[CV 3/5] END activation=tanh, early_stopping=True, hidden_layer_sizes=(150, 150), learning_rate_init=0.0001, max_iter=5000;, score=0.929 total time=  20.9s\n",
      "[CV 4/5] END activation=tanh, early_stopping=True, hidden_layer_sizes=(150, 150), learning_rate_init=0.0001, max_iter=5000;, score=0.924 total time=  26.1s\n",
      "[CV 5/5] END activation=tanh, early_stopping=True, hidden_layer_sizes=(150, 150), learning_rate_init=0.0001, max_iter=5000;, score=0.924 total time=  18.3s\n",
      "[CV 1/5] END activation=tanh, early_stopping=True, hidden_layer_sizes=(150, 150), learning_rate_init=0.001, max_iter=1000;, score=0.924 total time=  14.0s\n",
      "[CV 2/5] END activation=tanh, early_stopping=True, hidden_layer_sizes=(150, 150), learning_rate_init=0.001, max_iter=1000;, score=0.921 total time=  10.5s\n",
      "[CV 3/5] END activation=tanh, early_stopping=True, hidden_layer_sizes=(150, 150), learning_rate_init=0.001, max_iter=1000;, score=0.927 total time=  11.4s\n",
      "[CV 4/5] END activation=tanh, early_stopping=True, hidden_layer_sizes=(150, 150), learning_rate_init=0.001, max_iter=1000;, score=0.924 total time=  14.8s\n",
      "[CV 5/5] END activation=tanh, early_stopping=True, hidden_layer_sizes=(150, 150), learning_rate_init=0.001, max_iter=1000;, score=0.925 total time=  12.2s\n",
      "[CV 1/5] END activation=tanh, early_stopping=True, hidden_layer_sizes=(150, 150), learning_rate_init=0.001, max_iter=5000;, score=0.924 total time=  13.1s\n",
      "[CV 2/5] END activation=tanh, early_stopping=True, hidden_layer_sizes=(150, 150), learning_rate_init=0.001, max_iter=5000;, score=0.926 total time=  12.2s\n",
      "[CV 3/5] END activation=tanh, early_stopping=True, hidden_layer_sizes=(150, 150), learning_rate_init=0.001, max_iter=5000;, score=0.923 total time=  10.5s\n",
      "[CV 4/5] END activation=tanh, early_stopping=True, hidden_layer_sizes=(150, 150), learning_rate_init=0.001, max_iter=5000;, score=0.926 total time=  12.2s\n",
      "[CV 5/5] END activation=tanh, early_stopping=True, hidden_layer_sizes=(150, 150), learning_rate_init=0.001, max_iter=5000;, score=0.924 total time=  11.4s\n",
      "[CV 1/5] END activation=tanh, early_stopping=True, hidden_layer_sizes=(150, 150), learning_rate_init=0.01, max_iter=1000;, score=0.922 total time=  11.4s\n",
      "[CV 2/5] END activation=tanh, early_stopping=True, hidden_layer_sizes=(150, 150), learning_rate_init=0.01, max_iter=1000;, score=0.923 total time=  14.9s\n",
      "[CV 3/5] END activation=tanh, early_stopping=True, hidden_layer_sizes=(150, 150), learning_rate_init=0.01, max_iter=1000;, score=0.923 total time=  14.0s\n",
      "[CV 4/5] END activation=tanh, early_stopping=True, hidden_layer_sizes=(150, 150), learning_rate_init=0.01, max_iter=1000;, score=0.923 total time=  10.5s\n",
      "[CV 5/5] END activation=tanh, early_stopping=True, hidden_layer_sizes=(150, 150), learning_rate_init=0.01, max_iter=1000;, score=0.918 total time=  10.4s\n",
      "[CV 1/5] END activation=tanh, early_stopping=True, hidden_layer_sizes=(150, 150), learning_rate_init=0.01, max_iter=5000;, score=0.923 total time=  12.2s\n",
      "[CV 2/5] END activation=tanh, early_stopping=True, hidden_layer_sizes=(150, 150), learning_rate_init=0.01, max_iter=5000;, score=0.923 total time=  11.4s\n",
      "[CV 3/5] END activation=tanh, early_stopping=True, hidden_layer_sizes=(150, 150), learning_rate_init=0.01, max_iter=5000;, score=0.922 total time=  12.3s\n",
      "[CV 4/5] END activation=tanh, early_stopping=True, hidden_layer_sizes=(150, 150), learning_rate_init=0.01, max_iter=5000;, score=0.923 total time=  11.4s\n",
      "[CV 5/5] END activation=tanh, early_stopping=True, hidden_layer_sizes=(150, 150), learning_rate_init=0.01, max_iter=5000;, score=0.922 total time=  12.2s\n"
     ]
    }
   ],
   "source": [
    "grid_results = gridsearch.fit(tfidf_pca_train, train_labels)\n",
    "best_params = grid_results.best_params_\n",
    "mlp = grid_results.best_estimator_"
   ]
  },
  {
   "cell_type": "code",
   "execution_count": 29,
   "metadata": {},
   "outputs": [
    {
     "data": {
      "text/plain": [
       "{'activation': 'relu',\n",
       " 'early_stopping': True,\n",
       " 'hidden_layer_sizes': (150, 150),\n",
       " 'learning_rate_init': 0.0001,\n",
       " 'max_iter': 1000}"
      ]
     },
     "execution_count": 29,
     "metadata": {},
     "output_type": "execute_result"
    }
   ],
   "source": [
    "best_params"
   ]
  },
  {
   "cell_type": "code",
   "execution_count": 30,
   "metadata": {},
   "outputs": [],
   "source": [
    "mlp = mlp.fit(tfidf_pca_train, train_labels)\n",
    "save_model(mlp, \"mlp_tfidf_pca.joblib\")"
   ]
  },
  {
   "cell_type": "code",
   "execution_count": 31,
   "metadata": {},
   "outputs": [],
   "source": [
    "train_preds = mlp.predict(tfidf_pca_train)\n",
    "dev_preds = mlp.predict(tfidf_pca_dev)\n",
    "test_preds = mlp.predict(tfidf_pca_test)"
   ]
  },
  {
   "cell_type": "code",
   "execution_count": 32,
   "metadata": {},
   "outputs": [
    {
     "name": "stdout",
     "output_type": "stream",
     "text": [
      "Accuracy Train:  0.9421404094543537\n",
      "Accuracy Dev:  0.9205065072106929\n",
      "Accuracy Test:  0.9283204497540407\n",
      "Weighted F1 Train:  0.9339910467244844\n",
      "Weighted F1 Dev:  0.9085433203075408\n",
      "Weighted F1 Test:  0.918706838141178\n",
      "Macro F1 Train:  0.5142859159133335\n",
      "Macro F1 Dev:  0.47114756594035284\n",
      "Macro F1 Test:  0.4824761358578588\n",
      "Micro F1 Train:  0.9421404094543537\n",
      "Micro F1 Dev:  0.9205065072106929\n",
      "Micro F1 Test:  0.9283204497540408\n",
      "Weighted Recall Train:  0.9421404094543537\n",
      "Weighted Recall Dev:  0.9205065072106929\n",
      "Weighted Recall Test:  0.9283204497540407\n",
      "Macro Recall Train:  0.47819274660164063\n",
      "Macro Recall Dev:  0.4425608117906563\n",
      "Macro Recall Test:  0.4540866435274457\n",
      "Micro Recall Train:  0.9421404094543537\n",
      "Micro Recall Dev:  0.9205065072106929\n",
      "Micro Recall Test:  0.9283204497540407\n",
      "Confusion Matrix Train: \n",
      "[[  872  1090     0]\n",
      " [  205 20573     0]\n",
      " [    0    22     0]]\n",
      "Confusion Matrix Dev: \n",
      "[[  94  178    0]\n",
      " [  46 2523    0]\n",
      " [   0    2    0]]\n",
      "Confusion Matrix Test: \n",
      "[[  95  155    0]\n",
      " [  46 2547    0]\n",
      " [   0    3    0]]\n"
     ]
    }
   ],
   "source": [
    "computeAllScores(train_preds, dev_preds, test_preds)"
   ]
  },
  {
   "cell_type": "markdown",
   "metadata": {},
   "source": [
    "### Sentence Transformer Faster No PCA"
   ]
  },
  {
   "cell_type": "code",
   "execution_count": 33,
   "metadata": {},
   "outputs": [],
   "source": [
    "train, dev, test = load_sent_trans_fast_no_pca()"
   ]
  },
  {
   "cell_type": "code",
   "execution_count": 34,
   "metadata": {},
   "outputs": [
    {
     "name": "stdout",
     "output_type": "stream",
     "text": [
      "Fitting 5 folds for each of 18 candidates, totalling 90 fits\n",
      "[CV 1/5] END activation=relu, early_stopping=True, hidden_layer_sizes=(150, 150), learning_rate_init=0.0001, max_iter=1000;, score=0.926 total time=   4.1s\n",
      "[CV 2/5] END activation=relu, early_stopping=True, hidden_layer_sizes=(150, 150), learning_rate_init=0.0001, max_iter=1000;, score=0.931 total time=   5.8s\n",
      "[CV 3/5] END activation=relu, early_stopping=True, hidden_layer_sizes=(150, 150), learning_rate_init=0.0001, max_iter=1000;, score=0.928 total time=   7.4s\n",
      "[CV 4/5] END activation=relu, early_stopping=True, hidden_layer_sizes=(150, 150), learning_rate_init=0.0001, max_iter=1000;, score=0.930 total time=  11.7s\n",
      "[CV 5/5] END activation=relu, early_stopping=True, hidden_layer_sizes=(150, 150), learning_rate_init=0.0001, max_iter=1000;, score=0.922 total time=   3.8s\n",
      "[CV 1/5] END activation=relu, early_stopping=True, hidden_layer_sizes=(150, 150), learning_rate_init=0.0001, max_iter=5000;, score=0.928 total time=   8.9s\n",
      "[CV 2/5] END activation=relu, early_stopping=True, hidden_layer_sizes=(150, 150), learning_rate_init=0.0001, max_iter=5000;, score=0.932 total time=   7.9s\n",
      "[CV 3/5] END activation=relu, early_stopping=True, hidden_layer_sizes=(150, 150), learning_rate_init=0.0001, max_iter=5000;, score=0.926 total time=   8.2s\n",
      "[CV 4/5] END activation=relu, early_stopping=True, hidden_layer_sizes=(150, 150), learning_rate_init=0.0001, max_iter=5000;, score=0.929 total time=   5.6s\n",
      "[CV 5/5] END activation=relu, early_stopping=True, hidden_layer_sizes=(150, 150), learning_rate_init=0.0001, max_iter=5000;, score=0.924 total time=   8.1s\n",
      "[CV 1/5] END activation=relu, early_stopping=True, hidden_layer_sizes=(150, 150), learning_rate_init=0.001, max_iter=1000;, score=0.924 total time=   3.6s\n",
      "[CV 2/5] END activation=relu, early_stopping=True, hidden_layer_sizes=(150, 150), learning_rate_init=0.001, max_iter=1000;, score=0.929 total time=   3.7s\n",
      "[CV 3/5] END activation=relu, early_stopping=True, hidden_layer_sizes=(150, 150), learning_rate_init=0.001, max_iter=1000;, score=0.927 total time=   3.4s\n",
      "[CV 4/5] END activation=relu, early_stopping=True, hidden_layer_sizes=(150, 150), learning_rate_init=0.001, max_iter=1000;, score=0.929 total time=   3.6s\n",
      "[CV 5/5] END activation=relu, early_stopping=True, hidden_layer_sizes=(150, 150), learning_rate_init=0.001, max_iter=1000;, score=0.924 total time=   4.4s\n",
      "[CV 1/5] END activation=relu, early_stopping=True, hidden_layer_sizes=(150, 150), learning_rate_init=0.001, max_iter=5000;, score=0.930 total time=   3.2s\n",
      "[CV 2/5] END activation=relu, early_stopping=True, hidden_layer_sizes=(150, 150), learning_rate_init=0.001, max_iter=5000;, score=0.929 total time=   3.2s\n",
      "[CV 3/5] END activation=relu, early_stopping=True, hidden_layer_sizes=(150, 150), learning_rate_init=0.001, max_iter=5000;, score=0.928 total time=   3.7s\n",
      "[CV 4/5] END activation=relu, early_stopping=True, hidden_layer_sizes=(150, 150), learning_rate_init=0.001, max_iter=5000;, score=0.929 total time=   2.6s\n",
      "[CV 5/5] END activation=relu, early_stopping=True, hidden_layer_sizes=(150, 150), learning_rate_init=0.001, max_iter=5000;, score=0.923 total time=   5.0s\n",
      "[CV 1/5] END activation=relu, early_stopping=True, hidden_layer_sizes=(150, 150), learning_rate_init=0.01, max_iter=1000;, score=0.926 total time=   2.6s\n",
      "[CV 2/5] END activation=relu, early_stopping=True, hidden_layer_sizes=(150, 150), learning_rate_init=0.01, max_iter=1000;, score=0.929 total time=   2.9s\n",
      "[CV 3/5] END activation=relu, early_stopping=True, hidden_layer_sizes=(150, 150), learning_rate_init=0.01, max_iter=1000;, score=0.924 total time=   2.3s\n",
      "[CV 4/5] END activation=relu, early_stopping=True, hidden_layer_sizes=(150, 150), learning_rate_init=0.01, max_iter=1000;, score=0.928 total time=   3.8s\n",
      "[CV 5/5] END activation=relu, early_stopping=True, hidden_layer_sizes=(150, 150), learning_rate_init=0.01, max_iter=1000;, score=0.928 total time=   2.6s\n",
      "[CV 1/5] END activation=relu, early_stopping=True, hidden_layer_sizes=(150, 150), learning_rate_init=0.01, max_iter=5000;, score=0.927 total time=   2.6s\n",
      "[CV 2/5] END activation=relu, early_stopping=True, hidden_layer_sizes=(150, 150), learning_rate_init=0.01, max_iter=5000;, score=0.931 total time=   3.1s\n",
      "[CV 3/5] END activation=relu, early_stopping=True, hidden_layer_sizes=(150, 150), learning_rate_init=0.01, max_iter=5000;, score=0.928 total time=   2.8s\n",
      "[CV 4/5] END activation=relu, early_stopping=True, hidden_layer_sizes=(150, 150), learning_rate_init=0.01, max_iter=5000;, score=0.928 total time=   2.6s\n",
      "[CV 5/5] END activation=relu, early_stopping=True, hidden_layer_sizes=(150, 150), learning_rate_init=0.01, max_iter=5000;, score=0.924 total time=   3.6s\n",
      "[CV 1/5] END activation=logistic, early_stopping=True, hidden_layer_sizes=(150, 150), learning_rate_init=0.0001, max_iter=1000;, score=0.913 total time=   3.9s\n",
      "[CV 2/5] END activation=logistic, early_stopping=True, hidden_layer_sizes=(150, 150), learning_rate_init=0.0001, max_iter=1000;, score=0.913 total time=   3.8s\n",
      "[CV 3/5] END activation=logistic, early_stopping=True, hidden_layer_sizes=(150, 150), learning_rate_init=0.0001, max_iter=1000;, score=0.913 total time=   3.8s\n",
      "[CV 4/5] END activation=logistic, early_stopping=True, hidden_layer_sizes=(150, 150), learning_rate_init=0.0001, max_iter=1000;, score=0.913 total time=   3.8s\n",
      "[CV 5/5] END activation=logistic, early_stopping=True, hidden_layer_sizes=(150, 150), learning_rate_init=0.0001, max_iter=1000;, score=0.913 total time=   3.8s\n",
      "[CV 1/5] END activation=logistic, early_stopping=True, hidden_layer_sizes=(150, 150), learning_rate_init=0.0001, max_iter=5000;, score=0.913 total time=   3.8s\n",
      "[CV 2/5] END activation=logistic, early_stopping=True, hidden_layer_sizes=(150, 150), learning_rate_init=0.0001, max_iter=5000;, score=0.913 total time=   3.8s\n",
      "[CV 3/5] END activation=logistic, early_stopping=True, hidden_layer_sizes=(150, 150), learning_rate_init=0.0001, max_iter=5000;, score=0.913 total time=   3.8s\n",
      "[CV 4/5] END activation=logistic, early_stopping=True, hidden_layer_sizes=(150, 150), learning_rate_init=0.0001, max_iter=5000;, score=0.913 total time=   3.8s\n",
      "[CV 5/5] END activation=logistic, early_stopping=True, hidden_layer_sizes=(150, 150), learning_rate_init=0.0001, max_iter=5000;, score=0.913 total time=   3.8s\n",
      "[CV 1/5] END activation=logistic, early_stopping=True, hidden_layer_sizes=(150, 150), learning_rate_init=0.001, max_iter=1000;, score=0.923 total time=   6.5s\n",
      "[CV 2/5] END activation=logistic, early_stopping=True, hidden_layer_sizes=(150, 150), learning_rate_init=0.001, max_iter=1000;, score=0.922 total time=   4.8s\n",
      "[CV 3/5] END activation=logistic, early_stopping=True, hidden_layer_sizes=(150, 150), learning_rate_init=0.001, max_iter=1000;, score=0.924 total time=   8.4s\n",
      "[CV 4/5] END activation=logistic, early_stopping=True, hidden_layer_sizes=(150, 150), learning_rate_init=0.001, max_iter=1000;, score=0.926 total time=  10.2s\n",
      "[CV 5/5] END activation=logistic, early_stopping=True, hidden_layer_sizes=(150, 150), learning_rate_init=0.001, max_iter=1000;, score=0.926 total time=   7.6s\n",
      "[CV 1/5] END activation=logistic, early_stopping=True, hidden_layer_sizes=(150, 150), learning_rate_init=0.001, max_iter=5000;, score=0.926 total time=   7.3s\n",
      "[CV 2/5] END activation=logistic, early_stopping=True, hidden_layer_sizes=(150, 150), learning_rate_init=0.001, max_iter=5000;, score=0.930 total time=   8.6s\n",
      "[CV 3/5] END activation=logistic, early_stopping=True, hidden_layer_sizes=(150, 150), learning_rate_init=0.001, max_iter=5000;, score=0.923 total time=  10.9s\n",
      "[CV 4/5] END activation=logistic, early_stopping=True, hidden_layer_sizes=(150, 150), learning_rate_init=0.001, max_iter=5000;, score=0.924 total time=   6.3s\n",
      "[CV 5/5] END activation=logistic, early_stopping=True, hidden_layer_sizes=(150, 150), learning_rate_init=0.001, max_iter=5000;, score=0.926 total time=   5.4s\n",
      "[CV 1/5] END activation=logistic, early_stopping=True, hidden_layer_sizes=(150, 150), learning_rate_init=0.01, max_iter=1000;, score=0.924 total time=   7.3s\n",
      "[CV 2/5] END activation=logistic, early_stopping=True, hidden_layer_sizes=(150, 150), learning_rate_init=0.01, max_iter=1000;, score=0.929 total time=   6.1s\n",
      "[CV 3/5] END activation=logistic, early_stopping=True, hidden_layer_sizes=(150, 150), learning_rate_init=0.01, max_iter=1000;, score=0.923 total time=   4.5s\n",
      "[CV 4/5] END activation=logistic, early_stopping=True, hidden_layer_sizes=(150, 150), learning_rate_init=0.01, max_iter=1000;, score=0.927 total time=   6.7s\n",
      "[CV 5/5] END activation=logistic, early_stopping=True, hidden_layer_sizes=(150, 150), learning_rate_init=0.01, max_iter=1000;, score=0.927 total time=   6.7s\n",
      "[CV 1/5] END activation=logistic, early_stopping=True, hidden_layer_sizes=(150, 150), learning_rate_init=0.01, max_iter=5000;, score=0.927 total time=   4.5s\n",
      "[CV 2/5] END activation=logistic, early_stopping=True, hidden_layer_sizes=(150, 150), learning_rate_init=0.01, max_iter=5000;, score=0.929 total time=   6.0s\n",
      "[CV 3/5] END activation=logistic, early_stopping=True, hidden_layer_sizes=(150, 150), learning_rate_init=0.01, max_iter=5000;, score=0.924 total time=   6.4s\n",
      "[CV 4/5] END activation=logistic, early_stopping=True, hidden_layer_sizes=(150, 150), learning_rate_init=0.01, max_iter=5000;, score=0.928 total time=   8.0s\n",
      "[CV 5/5] END activation=logistic, early_stopping=True, hidden_layer_sizes=(150, 150), learning_rate_init=0.01, max_iter=5000;, score=0.927 total time=   7.0s\n",
      "[CV 1/5] END activation=tanh, early_stopping=True, hidden_layer_sizes=(150, 150), learning_rate_init=0.0001, max_iter=1000;, score=0.922 total time=   3.7s\n",
      "[CV 2/5] END activation=tanh, early_stopping=True, hidden_layer_sizes=(150, 150), learning_rate_init=0.0001, max_iter=1000;, score=0.928 total time=   7.4s\n",
      "[CV 3/5] END activation=tanh, early_stopping=True, hidden_layer_sizes=(150, 150), learning_rate_init=0.0001, max_iter=1000;, score=0.924 total time=   4.4s\n",
      "[CV 4/5] END activation=tanh, early_stopping=True, hidden_layer_sizes=(150, 150), learning_rate_init=0.0001, max_iter=1000;, score=0.926 total time=   6.3s\n",
      "[CV 5/5] END activation=tanh, early_stopping=True, hidden_layer_sizes=(150, 150), learning_rate_init=0.0001, max_iter=1000;, score=0.919 total time=   3.3s\n",
      "[CV 1/5] END activation=tanh, early_stopping=True, hidden_layer_sizes=(150, 150), learning_rate_init=0.0001, max_iter=5000;, score=0.923 total time=   3.9s\n",
      "[CV 2/5] END activation=tanh, early_stopping=True, hidden_layer_sizes=(150, 150), learning_rate_init=0.0001, max_iter=5000;, score=0.925 total time=   3.5s\n",
      "[CV 3/5] END activation=tanh, early_stopping=True, hidden_layer_sizes=(150, 150), learning_rate_init=0.0001, max_iter=5000;, score=0.919 total time=   3.3s\n",
      "[CV 4/5] END activation=tanh, early_stopping=True, hidden_layer_sizes=(150, 150), learning_rate_init=0.0001, max_iter=5000;, score=0.926 total time=   4.1s\n",
      "[CV 5/5] END activation=tanh, early_stopping=True, hidden_layer_sizes=(150, 150), learning_rate_init=0.0001, max_iter=5000;, score=0.922 total time=  15.5s\n",
      "[CV 1/5] END activation=tanh, early_stopping=True, hidden_layer_sizes=(150, 150), learning_rate_init=0.001, max_iter=1000;, score=0.926 total time=   5.2s\n",
      "[CV 2/5] END activation=tanh, early_stopping=True, hidden_layer_sizes=(150, 150), learning_rate_init=0.001, max_iter=1000;, score=0.928 total time=   5.5s\n",
      "[CV 3/5] END activation=tanh, early_stopping=True, hidden_layer_sizes=(150, 150), learning_rate_init=0.001, max_iter=1000;, score=0.925 total time=   5.4s\n",
      "[CV 4/5] END activation=tanh, early_stopping=True, hidden_layer_sizes=(150, 150), learning_rate_init=0.001, max_iter=1000;, score=0.926 total time=   9.3s\n",
      "[CV 5/5] END activation=tanh, early_stopping=True, hidden_layer_sizes=(150, 150), learning_rate_init=0.001, max_iter=1000;, score=0.920 total time=   4.2s\n",
      "[CV 1/5] END activation=tanh, early_stopping=True, hidden_layer_sizes=(150, 150), learning_rate_init=0.001, max_iter=5000;, score=0.924 total time=   2.6s\n",
      "[CV 2/5] END activation=tanh, early_stopping=True, hidden_layer_sizes=(150, 150), learning_rate_init=0.001, max_iter=5000;, score=0.928 total time=   3.5s\n",
      "[CV 3/5] END activation=tanh, early_stopping=True, hidden_layer_sizes=(150, 150), learning_rate_init=0.001, max_iter=5000;, score=0.924 total time=   4.3s\n",
      "[CV 4/5] END activation=tanh, early_stopping=True, hidden_layer_sizes=(150, 150), learning_rate_init=0.001, max_iter=5000;, score=0.926 total time=   3.9s\n",
      "[CV 5/5] END activation=tanh, early_stopping=True, hidden_layer_sizes=(150, 150), learning_rate_init=0.001, max_iter=5000;, score=0.921 total time=   7.2s\n",
      "[CV 1/5] END activation=tanh, early_stopping=True, hidden_layer_sizes=(150, 150), learning_rate_init=0.01, max_iter=1000;, score=0.914 total time=   5.0s\n",
      "[CV 2/5] END activation=tanh, early_stopping=True, hidden_layer_sizes=(150, 150), learning_rate_init=0.01, max_iter=1000;, score=0.928 total time=   2.8s\n",
      "[CV 3/5] END activation=tanh, early_stopping=True, hidden_layer_sizes=(150, 150), learning_rate_init=0.01, max_iter=1000;, score=0.924 total time=   3.1s\n",
      "[CV 4/5] END activation=tanh, early_stopping=True, hidden_layer_sizes=(150, 150), learning_rate_init=0.01, max_iter=1000;, score=0.927 total time=   4.0s\n",
      "[CV 5/5] END activation=tanh, early_stopping=True, hidden_layer_sizes=(150, 150), learning_rate_init=0.01, max_iter=1000;, score=0.920 total time=   3.9s\n",
      "[CV 1/5] END activation=tanh, early_stopping=True, hidden_layer_sizes=(150, 150), learning_rate_init=0.01, max_iter=5000;, score=0.923 total time=   3.0s\n",
      "[CV 2/5] END activation=tanh, early_stopping=True, hidden_layer_sizes=(150, 150), learning_rate_init=0.01, max_iter=5000;, score=0.930 total time=   3.4s\n",
      "[CV 3/5] END activation=tanh, early_stopping=True, hidden_layer_sizes=(150, 150), learning_rate_init=0.01, max_iter=5000;, score=0.922 total time=   2.8s\n",
      "[CV 4/5] END activation=tanh, early_stopping=True, hidden_layer_sizes=(150, 150), learning_rate_init=0.01, max_iter=5000;, score=0.927 total time=   4.6s\n",
      "[CV 5/5] END activation=tanh, early_stopping=True, hidden_layer_sizes=(150, 150), learning_rate_init=0.01, max_iter=5000;, score=0.925 total time=   3.5s\n"
     ]
    }
   ],
   "source": [
    "grid_results = gridsearch.fit(train, train_labels)\n",
    "best_params = grid_results.best_params_\n",
    "mlp = grid_results.best_estimator_"
   ]
  },
  {
   "cell_type": "code",
   "execution_count": 35,
   "metadata": {},
   "outputs": [
    {
     "data": {
      "text/plain": [
       "{'activation': 'relu',\n",
       " 'early_stopping': True,\n",
       " 'hidden_layer_sizes': (150, 150),\n",
       " 'learning_rate_init': 0.001,\n",
       " 'max_iter': 5000}"
      ]
     },
     "execution_count": 35,
     "metadata": {},
     "output_type": "execute_result"
    }
   ],
   "source": [
    "best_params"
   ]
  },
  {
   "cell_type": "code",
   "execution_count": 36,
   "metadata": {},
   "outputs": [],
   "source": [
    "mlp = mlp.fit(train, train_labels)\n",
    "save_model(mlp, \"mlp_faster_no_pca.joblib\")"
   ]
  },
  {
   "cell_type": "code",
   "execution_count": 37,
   "metadata": {},
   "outputs": [],
   "source": [
    "train_preds = mlp.predict(train)\n",
    "dev_preds = mlp.predict(dev)\n",
    "test_preds = mlp.predict(test)"
   ]
  },
  {
   "cell_type": "code",
   "execution_count": 38,
   "metadata": {},
   "outputs": [
    {
     "name": "stdout",
     "output_type": "stream",
     "text": [
      "Accuracy Train:  0.9448203145593533\n",
      "Accuracy Dev:  0.9243756595145972\n",
      "Accuracy Test:  0.9300773014757554\n",
      "Weighted F1 Train:  0.9374934991711371\n",
      "Weighted F1 Dev:  0.9137604611516305\n",
      "Weighted F1 Test:  0.9199324611113723\n",
      "Macro F1 Train:  0.5233339890955815\n",
      "Macro F1 Dev:  0.48360369018019506\n",
      "Macro F1 Test:  0.48402385066499104\n",
      "Micro F1 Train:  0.9448203145593533\n",
      "Micro F1 Dev:  0.9243756595145972\n",
      "Micro F1 Test:  0.9300773014757555\n",
      "Weighted Recall Train:  0.9448203145593533\n",
      "Weighted Recall Dev:  0.9243756595145972\n",
      "Weighted Recall Test:  0.9300773014757554\n",
      "Macro Recall Train:  0.48717165268016077\n",
      "Macro Recall Dev:  0.4538497279020601\n",
      "Macro Recall Test:  0.4535246175600977\n",
      "Micro Recall Train:  0.9448203145593533\n",
      "Micro Recall Dev:  0.9243756595145972\n",
      "Micro Recall Test:  0.9300773014757554\n",
      "Confusion Matrix Train: \n",
      "[[  924  1038     0]\n",
      " [  196 20582     0]\n",
      " [    0    22     0]]\n",
      "Confusion Matrix Dev: \n",
      "[[ 103  169    0]\n",
      " [  44 2525    0]\n",
      " [   0    2    0]]\n",
      "Confusion Matrix Test: \n",
      "[[  94  156    0]\n",
      " [  40 2553    0]\n",
      " [   0    3    0]]\n"
     ]
    }
   ],
   "source": [
    "computeAllScores(train_preds, dev_preds, test_preds)"
   ]
  },
  {
   "cell_type": "markdown",
   "metadata": {},
   "source": [
    "### Sentence Transformer Faster PCA"
   ]
  },
  {
   "cell_type": "code",
   "execution_count": 39,
   "metadata": {},
   "outputs": [],
   "source": [
    "train, dev, test = load_sent_trans_fast_pca()"
   ]
  },
  {
   "cell_type": "code",
   "execution_count": 40,
   "metadata": {},
   "outputs": [
    {
     "name": "stdout",
     "output_type": "stream",
     "text": [
      "Fitting 5 folds for each of 18 candidates, totalling 90 fits\n",
      "[CV 1/5] END activation=relu, early_stopping=True, hidden_layer_sizes=(150, 150), learning_rate_init=0.0001, max_iter=1000;, score=0.924 total time=   4.8s\n",
      "[CV 2/5] END activation=relu, early_stopping=True, hidden_layer_sizes=(150, 150), learning_rate_init=0.0001, max_iter=1000;, score=0.931 total time=   7.2s\n",
      "[CV 3/5] END activation=relu, early_stopping=True, hidden_layer_sizes=(150, 150), learning_rate_init=0.0001, max_iter=1000;, score=0.924 total time=   6.0s\n",
      "[CV 4/5] END activation=relu, early_stopping=True, hidden_layer_sizes=(150, 150), learning_rate_init=0.0001, max_iter=1000;, score=0.925 total time=   4.8s\n",
      "[CV 5/5] END activation=relu, early_stopping=True, hidden_layer_sizes=(150, 150), learning_rate_init=0.0001, max_iter=1000;, score=0.924 total time=   7.2s\n",
      "[CV 1/5] END activation=relu, early_stopping=True, hidden_layer_sizes=(150, 150), learning_rate_init=0.0001, max_iter=5000;, score=0.926 total time=   5.9s\n",
      "[CV 2/5] END activation=relu, early_stopping=True, hidden_layer_sizes=(150, 150), learning_rate_init=0.0001, max_iter=5000;, score=0.927 total time=   4.4s\n",
      "[CV 3/5] END activation=relu, early_stopping=True, hidden_layer_sizes=(150, 150), learning_rate_init=0.0001, max_iter=5000;, score=0.926 total time=   5.0s\n",
      "[CV 4/5] END activation=relu, early_stopping=True, hidden_layer_sizes=(150, 150), learning_rate_init=0.0001, max_iter=5000;, score=0.925 total time=   4.4s\n",
      "[CV 5/5] END activation=relu, early_stopping=True, hidden_layer_sizes=(150, 150), learning_rate_init=0.0001, max_iter=5000;, score=0.924 total time=  10.6s\n",
      "[CV 1/5] END activation=relu, early_stopping=True, hidden_layer_sizes=(150, 150), learning_rate_init=0.001, max_iter=1000;, score=0.928 total time=   5.6s\n",
      "[CV 2/5] END activation=relu, early_stopping=True, hidden_layer_sizes=(150, 150), learning_rate_init=0.001, max_iter=1000;, score=0.929 total time=   3.0s\n",
      "[CV 3/5] END activation=relu, early_stopping=True, hidden_layer_sizes=(150, 150), learning_rate_init=0.001, max_iter=1000;, score=0.926 total time=   3.5s\n",
      "[CV 4/5] END activation=relu, early_stopping=True, hidden_layer_sizes=(150, 150), learning_rate_init=0.001, max_iter=1000;, score=0.930 total time=   3.1s\n",
      "[CV 5/5] END activation=relu, early_stopping=True, hidden_layer_sizes=(150, 150), learning_rate_init=0.001, max_iter=1000;, score=0.930 total time=   3.0s\n",
      "[CV 1/5] END activation=relu, early_stopping=True, hidden_layer_sizes=(150, 150), learning_rate_init=0.001, max_iter=5000;, score=0.925 total time=   3.9s\n",
      "[CV 2/5] END activation=relu, early_stopping=True, hidden_layer_sizes=(150, 150), learning_rate_init=0.001, max_iter=5000;, score=0.930 total time=   3.1s\n",
      "[CV 3/5] END activation=relu, early_stopping=True, hidden_layer_sizes=(150, 150), learning_rate_init=0.001, max_iter=5000;, score=0.930 total time=   3.2s\n",
      "[CV 4/5] END activation=relu, early_stopping=True, hidden_layer_sizes=(150, 150), learning_rate_init=0.001, max_iter=5000;, score=0.926 total time=   2.6s\n",
      "[CV 5/5] END activation=relu, early_stopping=True, hidden_layer_sizes=(150, 150), learning_rate_init=0.001, max_iter=5000;, score=0.924 total time=   2.4s\n",
      "[CV 1/5] END activation=relu, early_stopping=True, hidden_layer_sizes=(150, 150), learning_rate_init=0.01, max_iter=1000;, score=0.929 total time=   2.4s\n",
      "[CV 2/5] END activation=relu, early_stopping=True, hidden_layer_sizes=(150, 150), learning_rate_init=0.01, max_iter=1000;, score=0.930 total time=   2.2s\n",
      "[CV 3/5] END activation=relu, early_stopping=True, hidden_layer_sizes=(150, 150), learning_rate_init=0.01, max_iter=1000;, score=0.927 total time=   2.4s\n",
      "[CV 4/5] END activation=relu, early_stopping=True, hidden_layer_sizes=(150, 150), learning_rate_init=0.01, max_iter=1000;, score=0.926 total time=   2.5s\n",
      "[CV 5/5] END activation=relu, early_stopping=True, hidden_layer_sizes=(150, 150), learning_rate_init=0.01, max_iter=1000;, score=0.926 total time=   2.2s\n",
      "[CV 1/5] END activation=relu, early_stopping=True, hidden_layer_sizes=(150, 150), learning_rate_init=0.01, max_iter=5000;, score=0.929 total time=   2.5s\n",
      "[CV 2/5] END activation=relu, early_stopping=True, hidden_layer_sizes=(150, 150), learning_rate_init=0.01, max_iter=5000;, score=0.929 total time=   2.4s\n",
      "[CV 3/5] END activation=relu, early_stopping=True, hidden_layer_sizes=(150, 150), learning_rate_init=0.01, max_iter=5000;, score=0.920 total time=   4.0s\n",
      "[CV 4/5] END activation=relu, early_stopping=True, hidden_layer_sizes=(150, 150), learning_rate_init=0.01, max_iter=5000;, score=0.923 total time=   2.9s\n",
      "[CV 5/5] END activation=relu, early_stopping=True, hidden_layer_sizes=(150, 150), learning_rate_init=0.01, max_iter=5000;, score=0.923 total time=   2.2s\n",
      "[CV 1/5] END activation=logistic, early_stopping=True, hidden_layer_sizes=(150, 150), learning_rate_init=0.0001, max_iter=1000;, score=0.913 total time=   3.6s\n",
      "[CV 2/5] END activation=logistic, early_stopping=True, hidden_layer_sizes=(150, 150), learning_rate_init=0.0001, max_iter=1000;, score=0.913 total time=   3.6s\n",
      "[CV 3/5] END activation=logistic, early_stopping=True, hidden_layer_sizes=(150, 150), learning_rate_init=0.0001, max_iter=1000;, score=0.913 total time=   3.6s\n",
      "[CV 4/5] END activation=logistic, early_stopping=True, hidden_layer_sizes=(150, 150), learning_rate_init=0.0001, max_iter=1000;, score=0.913 total time=   3.6s\n",
      "[CV 5/5] END activation=logistic, early_stopping=True, hidden_layer_sizes=(150, 150), learning_rate_init=0.0001, max_iter=1000;, score=0.913 total time=   3.6s\n",
      "[CV 1/5] END activation=logistic, early_stopping=True, hidden_layer_sizes=(150, 150), learning_rate_init=0.0001, max_iter=5000;, score=0.913 total time=   3.6s\n",
      "[CV 2/5] END activation=logistic, early_stopping=True, hidden_layer_sizes=(150, 150), learning_rate_init=0.0001, max_iter=5000;, score=0.913 total time=   3.6s\n",
      "[CV 3/5] END activation=logistic, early_stopping=True, hidden_layer_sizes=(150, 150), learning_rate_init=0.0001, max_iter=5000;, score=0.913 total time=   3.6s\n",
      "[CV 4/5] END activation=logistic, early_stopping=True, hidden_layer_sizes=(150, 150), learning_rate_init=0.0001, max_iter=5000;, score=0.913 total time=   3.6s\n",
      "[CV 5/5] END activation=logistic, early_stopping=True, hidden_layer_sizes=(150, 150), learning_rate_init=0.0001, max_iter=5000;, score=0.913 total time=   3.6s\n",
      "[CV 1/5] END activation=logistic, early_stopping=True, hidden_layer_sizes=(150, 150), learning_rate_init=0.001, max_iter=1000;, score=0.925 total time=   6.9s\n",
      "[CV 2/5] END activation=logistic, early_stopping=True, hidden_layer_sizes=(150, 150), learning_rate_init=0.001, max_iter=1000;, score=0.929 total time=   6.6s\n",
      "[CV 3/5] END activation=logistic, early_stopping=True, hidden_layer_sizes=(150, 150), learning_rate_init=0.001, max_iter=1000;, score=0.922 total time=   7.8s\n",
      "[CV 4/5] END activation=logistic, early_stopping=True, hidden_layer_sizes=(150, 150), learning_rate_init=0.001, max_iter=1000;, score=0.919 total time=   4.8s\n",
      "[CV 5/5] END activation=logistic, early_stopping=True, hidden_layer_sizes=(150, 150), learning_rate_init=0.001, max_iter=1000;, score=0.925 total time=   5.7s\n",
      "[CV 1/5] END activation=logistic, early_stopping=True, hidden_layer_sizes=(150, 150), learning_rate_init=0.001, max_iter=5000;, score=0.926 total time=  14.5s\n",
      "[CV 2/5] END activation=logistic, early_stopping=True, hidden_layer_sizes=(150, 150), learning_rate_init=0.001, max_iter=5000;, score=0.930 total time=  10.5s\n",
      "[CV 3/5] END activation=logistic, early_stopping=True, hidden_layer_sizes=(150, 150), learning_rate_init=0.001, max_iter=5000;, score=0.924 total time=   5.4s\n",
      "[CV 4/5] END activation=logistic, early_stopping=True, hidden_layer_sizes=(150, 150), learning_rate_init=0.001, max_iter=5000;, score=0.926 total time=   5.7s\n",
      "[CV 5/5] END activation=logistic, early_stopping=True, hidden_layer_sizes=(150, 150), learning_rate_init=0.001, max_iter=5000;, score=0.925 total time=   6.6s\n",
      "[CV 1/5] END activation=logistic, early_stopping=True, hidden_layer_sizes=(150, 150), learning_rate_init=0.01, max_iter=1000;, score=0.924 total time=   9.7s\n",
      "[CV 2/5] END activation=logistic, early_stopping=True, hidden_layer_sizes=(150, 150), learning_rate_init=0.01, max_iter=1000;, score=0.929 total time=   7.8s\n",
      "[CV 3/5] END activation=logistic, early_stopping=True, hidden_layer_sizes=(150, 150), learning_rate_init=0.01, max_iter=1000;, score=0.921 total time=   6.3s\n",
      "[CV 4/5] END activation=logistic, early_stopping=True, hidden_layer_sizes=(150, 150), learning_rate_init=0.01, max_iter=1000;, score=0.926 total time=   9.7s\n",
      "[CV 5/5] END activation=logistic, early_stopping=True, hidden_layer_sizes=(150, 150), learning_rate_init=0.01, max_iter=1000;, score=0.926 total time=   7.8s\n",
      "[CV 1/5] END activation=logistic, early_stopping=True, hidden_layer_sizes=(150, 150), learning_rate_init=0.01, max_iter=5000;, score=0.924 total time=   9.6s\n",
      "[CV 2/5] END activation=logistic, early_stopping=True, hidden_layer_sizes=(150, 150), learning_rate_init=0.01, max_iter=5000;, score=0.926 total time=  13.6s\n",
      "[CV 3/5] END activation=logistic, early_stopping=True, hidden_layer_sizes=(150, 150), learning_rate_init=0.01, max_iter=5000;, score=0.923 total time=   6.0s\n",
      "[CV 4/5] END activation=logistic, early_stopping=True, hidden_layer_sizes=(150, 150), learning_rate_init=0.01, max_iter=5000;, score=0.925 total time=   6.0s\n",
      "[CV 5/5] END activation=logistic, early_stopping=True, hidden_layer_sizes=(150, 150), learning_rate_init=0.01, max_iter=5000;, score=0.924 total time=   6.0s\n",
      "[CV 1/5] END activation=tanh, early_stopping=True, hidden_layer_sizes=(150, 150), learning_rate_init=0.0001, max_iter=1000;, score=0.926 total time=   4.3s\n",
      "[CV 2/5] END activation=tanh, early_stopping=True, hidden_layer_sizes=(150, 150), learning_rate_init=0.0001, max_iter=1000;, score=0.931 total time=   3.9s\n",
      "[CV 3/5] END activation=tanh, early_stopping=True, hidden_layer_sizes=(150, 150), learning_rate_init=0.0001, max_iter=1000;, score=0.923 total time=   7.1s\n",
      "[CV 4/5] END activation=tanh, early_stopping=True, hidden_layer_sizes=(150, 150), learning_rate_init=0.0001, max_iter=1000;, score=0.928 total time=   4.7s\n",
      "[CV 5/5] END activation=tanh, early_stopping=True, hidden_layer_sizes=(150, 150), learning_rate_init=0.0001, max_iter=1000;, score=0.924 total time=   3.9s\n",
      "[CV 1/5] END activation=tanh, early_stopping=True, hidden_layer_sizes=(150, 150), learning_rate_init=0.0001, max_iter=5000;, score=0.925 total time=   4.4s\n",
      "[CV 2/5] END activation=tanh, early_stopping=True, hidden_layer_sizes=(150, 150), learning_rate_init=0.0001, max_iter=5000;, score=0.930 total time=   4.1s\n",
      "[CV 3/5] END activation=tanh, early_stopping=True, hidden_layer_sizes=(150, 150), learning_rate_init=0.0001, max_iter=5000;, score=0.921 total time=   6.9s\n",
      "[CV 4/5] END activation=tanh, early_stopping=True, hidden_layer_sizes=(150, 150), learning_rate_init=0.0001, max_iter=5000;, score=0.926 total time=   4.5s\n",
      "[CV 5/5] END activation=tanh, early_stopping=True, hidden_layer_sizes=(150, 150), learning_rate_init=0.0001, max_iter=5000;, score=0.924 total time=   4.3s\n",
      "[CV 1/5] END activation=tanh, early_stopping=True, hidden_layer_sizes=(150, 150), learning_rate_init=0.001, max_iter=1000;, score=0.923 total time=   2.3s\n",
      "[CV 2/5] END activation=tanh, early_stopping=True, hidden_layer_sizes=(150, 150), learning_rate_init=0.001, max_iter=1000;, score=0.927 total time=   2.9s\n",
      "[CV 3/5] END activation=tanh, early_stopping=True, hidden_layer_sizes=(150, 150), learning_rate_init=0.001, max_iter=1000;, score=0.922 total time=   3.7s\n",
      "[CV 4/5] END activation=tanh, early_stopping=True, hidden_layer_sizes=(150, 150), learning_rate_init=0.001, max_iter=1000;, score=0.926 total time=   4.3s\n",
      "[CV 5/5] END activation=tanh, early_stopping=True, hidden_layer_sizes=(150, 150), learning_rate_init=0.001, max_iter=1000;, score=0.923 total time=   2.5s\n",
      "[CV 1/5] END activation=tanh, early_stopping=True, hidden_layer_sizes=(150, 150), learning_rate_init=0.001, max_iter=5000;, score=0.926 total time=   4.3s\n",
      "[CV 2/5] END activation=tanh, early_stopping=True, hidden_layer_sizes=(150, 150), learning_rate_init=0.001, max_iter=5000;, score=0.924 total time=   3.1s\n",
      "[CV 3/5] END activation=tanh, early_stopping=True, hidden_layer_sizes=(150, 150), learning_rate_init=0.001, max_iter=5000;, score=0.921 total time=   2.7s\n",
      "[CV 4/5] END activation=tanh, early_stopping=True, hidden_layer_sizes=(150, 150), learning_rate_init=0.001, max_iter=5000;, score=0.926 total time=   3.5s\n",
      "[CV 5/5] END activation=tanh, early_stopping=True, hidden_layer_sizes=(150, 150), learning_rate_init=0.001, max_iter=5000;, score=0.923 total time=   3.7s\n",
      "[CV 1/5] END activation=tanh, early_stopping=True, hidden_layer_sizes=(150, 150), learning_rate_init=0.01, max_iter=1000;, score=0.926 total time=   3.7s\n",
      "[CV 2/5] END activation=tanh, early_stopping=True, hidden_layer_sizes=(150, 150), learning_rate_init=0.01, max_iter=1000;, score=0.930 total time=   2.9s\n",
      "[CV 3/5] END activation=tanh, early_stopping=True, hidden_layer_sizes=(150, 150), learning_rate_init=0.01, max_iter=1000;, score=0.920 total time=   4.5s\n",
      "[CV 4/5] END activation=tanh, early_stopping=True, hidden_layer_sizes=(150, 150), learning_rate_init=0.01, max_iter=1000;, score=0.921 total time=   4.1s\n",
      "[CV 5/5] END activation=tanh, early_stopping=True, hidden_layer_sizes=(150, 150), learning_rate_init=0.01, max_iter=1000;, score=0.924 total time=   2.3s\n",
      "[CV 1/5] END activation=tanh, early_stopping=True, hidden_layer_sizes=(150, 150), learning_rate_init=0.01, max_iter=5000;, score=0.926 total time=   4.1s\n",
      "[CV 2/5] END activation=tanh, early_stopping=True, hidden_layer_sizes=(150, 150), learning_rate_init=0.01, max_iter=5000;, score=0.926 total time=   2.3s\n",
      "[CV 3/5] END activation=tanh, early_stopping=True, hidden_layer_sizes=(150, 150), learning_rate_init=0.01, max_iter=5000;, score=0.922 total time=   3.3s\n",
      "[CV 4/5] END activation=tanh, early_stopping=True, hidden_layer_sizes=(150, 150), learning_rate_init=0.01, max_iter=5000;, score=0.923 total time=   4.1s\n",
      "[CV 5/5] END activation=tanh, early_stopping=True, hidden_layer_sizes=(150, 150), learning_rate_init=0.01, max_iter=5000;, score=0.921 total time=   2.3s\n"
     ]
    }
   ],
   "source": [
    "grid_results = gridsearch.fit(train, train_labels)\n",
    "best_params = grid_results.best_params_\n",
    "mlp = grid_results.best_estimator_"
   ]
  },
  {
   "cell_type": "code",
   "execution_count": 41,
   "metadata": {},
   "outputs": [
    {
     "data": {
      "text/plain": [
       "{'activation': 'relu',\n",
       " 'early_stopping': True,\n",
       " 'hidden_layer_sizes': (150, 150),\n",
       " 'learning_rate_init': 0.001,\n",
       " 'max_iter': 1000}"
      ]
     },
     "execution_count": 41,
     "metadata": {},
     "output_type": "execute_result"
    }
   ],
   "source": [
    "best_params"
   ]
  },
  {
   "cell_type": "code",
   "execution_count": 42,
   "metadata": {},
   "outputs": [],
   "source": [
    "mlp = mlp.fit(train, train_labels)\n",
    "save_model(mlp, \"mlp_faster_pca.joblib\")"
   ]
  },
  {
   "cell_type": "code",
   "execution_count": 43,
   "metadata": {},
   "outputs": [],
   "source": [
    "train_preds = mlp.predict(train)\n",
    "dev_preds = mlp.predict(dev)\n",
    "test_preds = mlp.predict(test)"
   ]
  },
  {
   "cell_type": "code",
   "execution_count": 44,
   "metadata": {},
   "outputs": [
    {
     "name": "stdout",
     "output_type": "stream",
     "text": [
      "Accuracy Train:  0.9409981548194359\n",
      "Accuracy Dev:  0.9226169539219135\n",
      "Accuracy Test:  0.9262122276879832\n",
      "Weighted F1 Train:  0.9320050528813919\n",
      "Weighted F1 Dev:  0.9104973078959702\n",
      "Weighted F1 Test:  0.9144515700052184\n",
      "Macro F1 Train:  0.5084252401539775\n",
      "Macro F1 Dev:  0.4746626727516885\n",
      "Macro F1 Test:  0.4694939154434827\n",
      "Micro F1 Train:  0.9409981548194359\n",
      "Micro F1 Dev:  0.9226169539219135\n",
      "Micro F1 Test:  0.9262122276879832\n",
      "Weighted Recall Train:  0.9409981548194359\n",
      "Weighted Recall Dev:  0.9226169539219135\n",
      "Weighted Recall Test:  0.9262122276879832\n",
      "Macro Recall Train:  0.47131385240544454\n",
      "Macro Recall Dev:  0.4444350628534792\n",
      "Macro Recall Test:  0.4400627329991002\n",
      "Micro Recall Train:  0.9409981548194359\n",
      "Micro Recall Dev:  0.9226169539219135\n",
      "Micro Recall Test:  0.9262122276879832\n",
      "Confusion Matrix Train: \n",
      "[[  830  1132     0]\n",
      " [  189 20589     0]\n",
      " [    0    22     0]]\n",
      "Confusion Matrix Dev: \n",
      "[[  95  177    0]\n",
      " [  41 2528    0]\n",
      " [   0    2    0]]\n",
      "Confusion Matrix Test: \n",
      "[[  84  166    0]\n",
      " [  41 2552    0]\n",
      " [   0    3    0]]\n"
     ]
    }
   ],
   "source": [
    "computeAllScores(train_preds, dev_preds, test_preds)"
   ]
  },
  {
   "cell_type": "markdown",
   "metadata": {},
   "source": [
    "### Sentence Transformer Better No PCA"
   ]
  },
  {
   "cell_type": "code",
   "execution_count": 45,
   "metadata": {},
   "outputs": [],
   "source": [
    "train, dev, test = load_sent_trans_better_no_pca()"
   ]
  },
  {
   "cell_type": "code",
   "execution_count": 46,
   "metadata": {},
   "outputs": [
    {
     "name": "stdout",
     "output_type": "stream",
     "text": [
      "Fitting 5 folds for each of 18 candidates, totalling 90 fits\n",
      "[CV 1/5] END activation=relu, early_stopping=True, hidden_layer_sizes=(150, 150), learning_rate_init=0.0001, max_iter=1000;, score=0.929 total time=   9.1s\n",
      "[CV 2/5] END activation=relu, early_stopping=True, hidden_layer_sizes=(150, 150), learning_rate_init=0.0001, max_iter=1000;, score=0.935 total time=   7.8s\n",
      "[CV 3/5] END activation=relu, early_stopping=True, hidden_layer_sizes=(150, 150), learning_rate_init=0.0001, max_iter=1000;, score=0.928 total time=   9.4s\n",
      "[CV 4/5] END activation=relu, early_stopping=True, hidden_layer_sizes=(150, 150), learning_rate_init=0.0001, max_iter=1000;, score=0.933 total time=  11.3s\n",
      "[CV 5/5] END activation=relu, early_stopping=True, hidden_layer_sizes=(150, 150), learning_rate_init=0.0001, max_iter=1000;, score=0.926 total time=   5.4s\n",
      "[CV 1/5] END activation=relu, early_stopping=True, hidden_layer_sizes=(150, 150), learning_rate_init=0.0001, max_iter=5000;, score=0.929 total time=   5.2s\n",
      "[CV 2/5] END activation=relu, early_stopping=True, hidden_layer_sizes=(150, 150), learning_rate_init=0.0001, max_iter=5000;, score=0.933 total time=  11.6s\n",
      "[CV 3/5] END activation=relu, early_stopping=True, hidden_layer_sizes=(150, 150), learning_rate_init=0.0001, max_iter=5000;, score=0.927 total time=   6.2s\n",
      "[CV 4/5] END activation=relu, early_stopping=True, hidden_layer_sizes=(150, 150), learning_rate_init=0.0001, max_iter=5000;, score=0.927 total time=   4.6s\n",
      "[CV 5/5] END activation=relu, early_stopping=True, hidden_layer_sizes=(150, 150), learning_rate_init=0.0001, max_iter=5000;, score=0.928 total time=   8.3s\n",
      "[CV 1/5] END activation=relu, early_stopping=True, hidden_layer_sizes=(150, 150), learning_rate_init=0.001, max_iter=1000;, score=0.931 total time=   4.2s\n",
      "[CV 2/5] END activation=relu, early_stopping=True, hidden_layer_sizes=(150, 150), learning_rate_init=0.001, max_iter=1000;, score=0.929 total time=   8.6s\n",
      "[CV 3/5] END activation=relu, early_stopping=True, hidden_layer_sizes=(150, 150), learning_rate_init=0.001, max_iter=1000;, score=0.933 total time=   5.2s\n",
      "[CV 4/5] END activation=relu, early_stopping=True, hidden_layer_sizes=(150, 150), learning_rate_init=0.001, max_iter=1000;, score=0.932 total time=   3.9s\n",
      "[CV 5/5] END activation=relu, early_stopping=True, hidden_layer_sizes=(150, 150), learning_rate_init=0.001, max_iter=1000;, score=0.925 total time=   4.4s\n",
      "[CV 1/5] END activation=relu, early_stopping=True, hidden_layer_sizes=(150, 150), learning_rate_init=0.001, max_iter=5000;, score=0.926 total time=   4.6s\n",
      "[CV 2/5] END activation=relu, early_stopping=True, hidden_layer_sizes=(150, 150), learning_rate_init=0.001, max_iter=5000;, score=0.930 total time=   3.7s\n",
      "[CV 3/5] END activation=relu, early_stopping=True, hidden_layer_sizes=(150, 150), learning_rate_init=0.001, max_iter=5000;, score=0.928 total time=   6.0s\n",
      "[CV 4/5] END activation=relu, early_stopping=True, hidden_layer_sizes=(150, 150), learning_rate_init=0.001, max_iter=5000;, score=0.930 total time=   3.6s\n",
      "[CV 5/5] END activation=relu, early_stopping=True, hidden_layer_sizes=(150, 150), learning_rate_init=0.001, max_iter=5000;, score=0.927 total time=   5.5s\n",
      "[CV 1/5] END activation=relu, early_stopping=True, hidden_layer_sizes=(150, 150), learning_rate_init=0.01, max_iter=1000;, score=0.928 total time=   3.7s\n",
      "[CV 2/5] END activation=relu, early_stopping=True, hidden_layer_sizes=(150, 150), learning_rate_init=0.01, max_iter=1000;, score=0.932 total time=   3.2s\n",
      "[CV 3/5] END activation=relu, early_stopping=True, hidden_layer_sizes=(150, 150), learning_rate_init=0.01, max_iter=1000;, score=0.929 total time=   4.5s\n",
      "[CV 4/5] END activation=relu, early_stopping=True, hidden_layer_sizes=(150, 150), learning_rate_init=0.01, max_iter=1000;, score=0.928 total time=   4.1s\n",
      "[CV 5/5] END activation=relu, early_stopping=True, hidden_layer_sizes=(150, 150), learning_rate_init=0.01, max_iter=1000;, score=0.929 total time=   3.8s\n",
      "[CV 1/5] END activation=relu, early_stopping=True, hidden_layer_sizes=(150, 150), learning_rate_init=0.01, max_iter=5000;, score=0.926 total time=   3.3s\n",
      "[CV 2/5] END activation=relu, early_stopping=True, hidden_layer_sizes=(150, 150), learning_rate_init=0.01, max_iter=5000;, score=0.932 total time=   3.3s\n",
      "[CV 3/5] END activation=relu, early_stopping=True, hidden_layer_sizes=(150, 150), learning_rate_init=0.01, max_iter=5000;, score=0.931 total time=   3.6s\n",
      "[CV 4/5] END activation=relu, early_stopping=True, hidden_layer_sizes=(150, 150), learning_rate_init=0.01, max_iter=5000;, score=0.933 total time=   3.5s\n",
      "[CV 5/5] END activation=relu, early_stopping=True, hidden_layer_sizes=(150, 150), learning_rate_init=0.01, max_iter=5000;, score=0.928 total time=   3.8s\n",
      "[CV 1/5] END activation=logistic, early_stopping=True, hidden_layer_sizes=(150, 150), learning_rate_init=0.0001, max_iter=1000;, score=0.913 total time=   4.5s\n",
      "[CV 2/5] END activation=logistic, early_stopping=True, hidden_layer_sizes=(150, 150), learning_rate_init=0.0001, max_iter=1000;, score=0.913 total time=   4.5s\n",
      "[CV 3/5] END activation=logistic, early_stopping=True, hidden_layer_sizes=(150, 150), learning_rate_init=0.0001, max_iter=1000;, score=0.913 total time=   4.5s\n",
      "[CV 4/5] END activation=logistic, early_stopping=True, hidden_layer_sizes=(150, 150), learning_rate_init=0.0001, max_iter=1000;, score=0.913 total time=   4.5s\n",
      "[CV 5/5] END activation=logistic, early_stopping=True, hidden_layer_sizes=(150, 150), learning_rate_init=0.0001, max_iter=1000;, score=0.913 total time=   4.5s\n",
      "[CV 1/5] END activation=logistic, early_stopping=True, hidden_layer_sizes=(150, 150), learning_rate_init=0.0001, max_iter=5000;, score=0.913 total time=   4.5s\n",
      "[CV 2/5] END activation=logistic, early_stopping=True, hidden_layer_sizes=(150, 150), learning_rate_init=0.0001, max_iter=5000;, score=0.913 total time=   4.5s\n",
      "[CV 3/5] END activation=logistic, early_stopping=True, hidden_layer_sizes=(150, 150), learning_rate_init=0.0001, max_iter=5000;, score=0.913 total time=   4.5s\n",
      "[CV 4/5] END activation=logistic, early_stopping=True, hidden_layer_sizes=(150, 150), learning_rate_init=0.0001, max_iter=5000;, score=0.913 total time=   4.5s\n",
      "[CV 5/5] END activation=logistic, early_stopping=True, hidden_layer_sizes=(150, 150), learning_rate_init=0.0001, max_iter=5000;, score=0.913 total time=   4.5s\n",
      "[CV 1/5] END activation=logistic, early_stopping=True, hidden_layer_sizes=(150, 150), learning_rate_init=0.001, max_iter=1000;, score=0.930 total time=  11.3s\n",
      "[CV 2/5] END activation=logistic, early_stopping=True, hidden_layer_sizes=(150, 150), learning_rate_init=0.001, max_iter=1000;, score=0.929 total time=   6.4s\n",
      "[CV 3/5] END activation=logistic, early_stopping=True, hidden_layer_sizes=(150, 150), learning_rate_init=0.001, max_iter=1000;, score=0.928 total time=  16.8s\n",
      "[CV 4/5] END activation=logistic, early_stopping=True, hidden_layer_sizes=(150, 150), learning_rate_init=0.001, max_iter=1000;, score=0.930 total time=  10.9s\n",
      "[CV 5/5] END activation=logistic, early_stopping=True, hidden_layer_sizes=(150, 150), learning_rate_init=0.001, max_iter=1000;, score=0.925 total time=  12.4s\n",
      "[CV 1/5] END activation=logistic, early_stopping=True, hidden_layer_sizes=(150, 150), learning_rate_init=0.001, max_iter=5000;, score=0.931 total time=  13.5s\n",
      "[CV 2/5] END activation=logistic, early_stopping=True, hidden_layer_sizes=(150, 150), learning_rate_init=0.001, max_iter=5000;, score=0.929 total time=   8.6s\n",
      "[CV 3/5] END activation=logistic, early_stopping=True, hidden_layer_sizes=(150, 150), learning_rate_init=0.001, max_iter=5000;, score=0.929 total time=   8.9s\n",
      "[CV 4/5] END activation=logistic, early_stopping=True, hidden_layer_sizes=(150, 150), learning_rate_init=0.001, max_iter=5000;, score=0.929 total time=   7.8s\n",
      "[CV 5/5] END activation=logistic, early_stopping=True, hidden_layer_sizes=(150, 150), learning_rate_init=0.001, max_iter=5000;, score=0.927 total time=  10.9s\n",
      "[CV 1/5] END activation=logistic, early_stopping=True, hidden_layer_sizes=(150, 150), learning_rate_init=0.01, max_iter=1000;, score=0.931 total time=   5.6s\n",
      "[CV 2/5] END activation=logistic, early_stopping=True, hidden_layer_sizes=(150, 150), learning_rate_init=0.01, max_iter=1000;, score=0.926 total time=   6.7s\n",
      "[CV 3/5] END activation=logistic, early_stopping=True, hidden_layer_sizes=(150, 150), learning_rate_init=0.01, max_iter=1000;, score=0.931 total time=   7.5s\n",
      "[CV 4/5] END activation=logistic, early_stopping=True, hidden_layer_sizes=(150, 150), learning_rate_init=0.01, max_iter=1000;, score=0.928 total time=   4.9s\n",
      "[CV 5/5] END activation=logistic, early_stopping=True, hidden_layer_sizes=(150, 150), learning_rate_init=0.01, max_iter=1000;, score=0.928 total time=   8.2s\n",
      "[CV 1/5] END activation=logistic, early_stopping=True, hidden_layer_sizes=(150, 150), learning_rate_init=0.01, max_iter=5000;, score=0.929 total time=   8.3s\n",
      "[CV 2/5] END activation=logistic, early_stopping=True, hidden_layer_sizes=(150, 150), learning_rate_init=0.01, max_iter=5000;, score=0.931 total time=   7.9s\n",
      "[CV 3/5] END activation=logistic, early_stopping=True, hidden_layer_sizes=(150, 150), learning_rate_init=0.01, max_iter=5000;, score=0.929 total time=   8.3s\n",
      "[CV 4/5] END activation=logistic, early_stopping=True, hidden_layer_sizes=(150, 150), learning_rate_init=0.01, max_iter=5000;, score=0.932 total time=   8.2s\n",
      "[CV 5/5] END activation=logistic, early_stopping=True, hidden_layer_sizes=(150, 150), learning_rate_init=0.01, max_iter=5000;, score=0.925 total time=   6.0s\n",
      "[CV 1/5] END activation=tanh, early_stopping=True, hidden_layer_sizes=(150, 150), learning_rate_init=0.0001, max_iter=1000;, score=0.927 total time=  12.8s\n",
      "[CV 2/5] END activation=tanh, early_stopping=True, hidden_layer_sizes=(150, 150), learning_rate_init=0.0001, max_iter=1000;, score=0.928 total time=   7.6s\n",
      "[CV 3/5] END activation=tanh, early_stopping=True, hidden_layer_sizes=(150, 150), learning_rate_init=0.0001, max_iter=1000;, score=0.928 total time=  10.7s\n",
      "[CV 4/5] END activation=tanh, early_stopping=True, hidden_layer_sizes=(150, 150), learning_rate_init=0.0001, max_iter=1000;, score=0.931 total time=   6.5s\n",
      "[CV 5/5] END activation=tanh, early_stopping=True, hidden_layer_sizes=(150, 150), learning_rate_init=0.0001, max_iter=1000;, score=0.928 total time=   7.9s\n",
      "[CV 1/5] END activation=tanh, early_stopping=True, hidden_layer_sizes=(150, 150), learning_rate_init=0.0001, max_iter=5000;, score=0.927 total time=   5.1s\n",
      "[CV 2/5] END activation=tanh, early_stopping=True, hidden_layer_sizes=(150, 150), learning_rate_init=0.0001, max_iter=5000;, score=0.927 total time=   6.6s\n",
      "[CV 3/5] END activation=tanh, early_stopping=True, hidden_layer_sizes=(150, 150), learning_rate_init=0.0001, max_iter=5000;, score=0.929 total time=  10.6s\n",
      "[CV 4/5] END activation=tanh, early_stopping=True, hidden_layer_sizes=(150, 150), learning_rate_init=0.0001, max_iter=5000;, score=0.930 total time=   5.6s\n",
      "[CV 5/5] END activation=tanh, early_stopping=True, hidden_layer_sizes=(150, 150), learning_rate_init=0.0001, max_iter=5000;, score=0.925 total time=   6.0s\n",
      "[CV 1/5] END activation=tanh, early_stopping=True, hidden_layer_sizes=(150, 150), learning_rate_init=0.001, max_iter=1000;, score=0.929 total time=   4.0s\n",
      "[CV 2/5] END activation=tanh, early_stopping=True, hidden_layer_sizes=(150, 150), learning_rate_init=0.001, max_iter=1000;, score=0.926 total time=   9.6s\n",
      "[CV 3/5] END activation=tanh, early_stopping=True, hidden_layer_sizes=(150, 150), learning_rate_init=0.001, max_iter=1000;, score=0.927 total time=   8.6s\n",
      "[CV 4/5] END activation=tanh, early_stopping=True, hidden_layer_sizes=(150, 150), learning_rate_init=0.001, max_iter=1000;, score=0.931 total time=   4.4s\n",
      "[CV 5/5] END activation=tanh, early_stopping=True, hidden_layer_sizes=(150, 150), learning_rate_init=0.001, max_iter=1000;, score=0.927 total time=   6.5s\n",
      "[CV 1/5] END activation=tanh, early_stopping=True, hidden_layer_sizes=(150, 150), learning_rate_init=0.001, max_iter=5000;, score=0.929 total time=   6.3s\n",
      "[CV 2/5] END activation=tanh, early_stopping=True, hidden_layer_sizes=(150, 150), learning_rate_init=0.001, max_iter=5000;, score=0.932 total time=   5.1s\n",
      "[CV 3/5] END activation=tanh, early_stopping=True, hidden_layer_sizes=(150, 150), learning_rate_init=0.001, max_iter=5000;, score=0.927 total time=   6.8s\n",
      "[CV 4/5] END activation=tanh, early_stopping=True, hidden_layer_sizes=(150, 150), learning_rate_init=0.001, max_iter=5000;, score=0.932 total time=   4.5s\n",
      "[CV 5/5] END activation=tanh, early_stopping=True, hidden_layer_sizes=(150, 150), learning_rate_init=0.001, max_iter=5000;, score=0.926 total time=   4.5s\n",
      "[CV 1/5] END activation=tanh, early_stopping=True, hidden_layer_sizes=(150, 150), learning_rate_init=0.01, max_iter=1000;, score=0.931 total time=   3.9s\n",
      "[CV 2/5] END activation=tanh, early_stopping=True, hidden_layer_sizes=(150, 150), learning_rate_init=0.01, max_iter=1000;, score=0.932 total time=   3.9s\n",
      "[CV 3/5] END activation=tanh, early_stopping=True, hidden_layer_sizes=(150, 150), learning_rate_init=0.01, max_iter=1000;, score=0.928 total time=   4.2s\n",
      "[CV 4/5] END activation=tanh, early_stopping=True, hidden_layer_sizes=(150, 150), learning_rate_init=0.01, max_iter=1000;, score=0.929 total time=   3.6s\n",
      "[CV 5/5] END activation=tanh, early_stopping=True, hidden_layer_sizes=(150, 150), learning_rate_init=0.01, max_iter=1000;, score=0.932 total time=   4.0s\n",
      "[CV 1/5] END activation=tanh, early_stopping=True, hidden_layer_sizes=(150, 150), learning_rate_init=0.01, max_iter=5000;, score=0.927 total time=   4.3s\n",
      "[CV 2/5] END activation=tanh, early_stopping=True, hidden_layer_sizes=(150, 150), learning_rate_init=0.01, max_iter=5000;, score=0.928 total time=   3.4s\n",
      "[CV 3/5] END activation=tanh, early_stopping=True, hidden_layer_sizes=(150, 150), learning_rate_init=0.01, max_iter=5000;, score=0.929 total time=   3.4s\n",
      "[CV 4/5] END activation=tanh, early_stopping=True, hidden_layer_sizes=(150, 150), learning_rate_init=0.01, max_iter=5000;, score=0.927 total time=   5.4s\n",
      "[CV 5/5] END activation=tanh, early_stopping=True, hidden_layer_sizes=(150, 150), learning_rate_init=0.01, max_iter=5000;, score=0.925 total time=   3.9s\n"
     ]
    }
   ],
   "source": [
    "grid_results = gridsearch.fit(train, train_labels)\n",
    "best_params = grid_results.best_params_\n",
    "mlp = grid_results.best_estimator_"
   ]
  },
  {
   "cell_type": "code",
   "execution_count": 47,
   "metadata": {},
   "outputs": [
    {
     "data": {
      "text/plain": [
       "{'activation': 'relu',\n",
       " 'early_stopping': True,\n",
       " 'hidden_layer_sizes': (150, 150),\n",
       " 'learning_rate_init': 0.0001,\n",
       " 'max_iter': 1000}"
      ]
     },
     "execution_count": 47,
     "metadata": {},
     "output_type": "execute_result"
    }
   ],
   "source": [
    "best_params"
   ]
  },
  {
   "cell_type": "code",
   "execution_count": 48,
   "metadata": {},
   "outputs": [],
   "source": [
    "mlp = mlp.fit(train, train_labels)\n",
    "save_model(mlp, \"mlp_better_no_pca.joblib\")"
   ]
  },
  {
   "cell_type": "code",
   "execution_count": 49,
   "metadata": {},
   "outputs": [],
   "source": [
    "train_preds = mlp.predict(train)\n",
    "dev_preds = mlp.predict(dev)\n",
    "test_preds = mlp.predict(test)"
   ]
  },
  {
   "cell_type": "code",
   "execution_count": 50,
   "metadata": {},
   "outputs": [
    {
     "name": "stdout",
     "output_type": "stream",
     "text": [
      "Accuracy Train:  0.9369563307266496\n",
      "Accuracy Dev:  0.9243756595145972\n",
      "Accuracy Test:  0.9332396345748419\n",
      "Weighted F1 Train:  0.9283795481788166\n",
      "Weighted F1 Dev:  0.9130958887544959\n",
      "Weighted F1 Test:  0.9242596934748624\n",
      "Macro F1 Train:  0.5015248346390272\n",
      "Macro F1 Dev:  0.48115742571816583\n",
      "Macro F1 Test:  0.49529218025943617\n",
      "Micro F1 Train:  0.9369563307266496\n",
      "Micro F1 Dev:  0.9243756595145972\n",
      "Micro F1 Test:  0.9332396345748419\n",
      "Weighted Recall Train:  0.9369563307266496\n",
      "Weighted Recall Dev:  0.9243756595145972\n",
      "Weighted Recall Test:  0.9332396345748419\n",
      "Macro Recall Train:  0.4689148200249833\n",
      "Macro Recall Dev:  0.4505625138338714\n",
      "Macro Recall Test:  0.4643198354544286\n",
      "Micro Recall Train:  0.9369563307266496\n",
      "Micro Recall Dev:  0.9243756595145972\n",
      "Micro Recall Test:  0.9332396345748419\n",
      "Confusion Matrix Train: \n",
      "[[  824  1138     0]\n",
      " [  275 20503     0]\n",
      " [    0    22     0]]\n",
      "Confusion Matrix Dev: \n",
      "[[ 100  172    0]\n",
      " [  41 2528    0]\n",
      " [   0    2    0]]\n",
      "Confusion Matrix Test: \n",
      "[[ 102  148    0]\n",
      " [  39 2554    0]\n",
      " [   0    3    0]]\n"
     ]
    }
   ],
   "source": [
    "computeAllScores(train_preds, dev_preds, test_preds)"
   ]
  },
  {
   "cell_type": "markdown",
   "metadata": {},
   "source": [
    "### Sentence Transformer Better PCA"
   ]
  },
  {
   "cell_type": "code",
   "execution_count": 51,
   "metadata": {},
   "outputs": [],
   "source": [
    "train, dev, test = load_sent_trans_better_pca()"
   ]
  },
  {
   "cell_type": "code",
   "execution_count": 52,
   "metadata": {},
   "outputs": [
    {
     "name": "stdout",
     "output_type": "stream",
     "text": [
      "Fitting 5 folds for each of 18 candidates, totalling 90 fits\n",
      "[CV 1/5] END activation=relu, early_stopping=True, hidden_layer_sizes=(150, 150), learning_rate_init=0.0001, max_iter=1000;, score=0.929 total time=   6.1s\n",
      "[CV 2/5] END activation=relu, early_stopping=True, hidden_layer_sizes=(150, 150), learning_rate_init=0.0001, max_iter=1000;, score=0.932 total time=   6.0s\n",
      "[CV 3/5] END activation=relu, early_stopping=True, hidden_layer_sizes=(150, 150), learning_rate_init=0.0001, max_iter=1000;, score=0.929 total time=   5.0s\n",
      "[CV 4/5] END activation=relu, early_stopping=True, hidden_layer_sizes=(150, 150), learning_rate_init=0.0001, max_iter=1000;, score=0.932 total time=   8.6s\n",
      "[CV 5/5] END activation=relu, early_stopping=True, hidden_layer_sizes=(150, 150), learning_rate_init=0.0001, max_iter=1000;, score=0.931 total time=   5.0s\n",
      "[CV 1/5] END activation=relu, early_stopping=True, hidden_layer_sizes=(150, 150), learning_rate_init=0.0001, max_iter=5000;, score=0.930 total time=   6.3s\n",
      "[CV 2/5] END activation=relu, early_stopping=True, hidden_layer_sizes=(150, 150), learning_rate_init=0.0001, max_iter=5000;, score=0.932 total time=   4.8s\n",
      "[CV 3/5] END activation=relu, early_stopping=True, hidden_layer_sizes=(150, 150), learning_rate_init=0.0001, max_iter=5000;, score=0.930 total time=   5.5s\n",
      "[CV 4/5] END activation=relu, early_stopping=True, hidden_layer_sizes=(150, 150), learning_rate_init=0.0001, max_iter=5000;, score=0.933 total time=   6.4s\n",
      "[CV 5/5] END activation=relu, early_stopping=True, hidden_layer_sizes=(150, 150), learning_rate_init=0.0001, max_iter=5000;, score=0.927 total time=   9.2s\n",
      "[CV 1/5] END activation=relu, early_stopping=True, hidden_layer_sizes=(150, 150), learning_rate_init=0.001, max_iter=1000;, score=0.930 total time=   2.8s\n",
      "[CV 2/5] END activation=relu, early_stopping=True, hidden_layer_sizes=(150, 150), learning_rate_init=0.001, max_iter=1000;, score=0.931 total time=   2.6s\n",
      "[CV 3/5] END activation=relu, early_stopping=True, hidden_layer_sizes=(150, 150), learning_rate_init=0.001, max_iter=1000;, score=0.930 total time=   3.2s\n",
      "[CV 4/5] END activation=relu, early_stopping=True, hidden_layer_sizes=(150, 150), learning_rate_init=0.001, max_iter=1000;, score=0.929 total time=   5.0s\n",
      "[CV 5/5] END activation=relu, early_stopping=True, hidden_layer_sizes=(150, 150), learning_rate_init=0.001, max_iter=1000;, score=0.928 total time=   2.8s\n",
      "[CV 1/5] END activation=relu, early_stopping=True, hidden_layer_sizes=(150, 150), learning_rate_init=0.001, max_iter=5000;, score=0.931 total time=   2.6s\n",
      "[CV 2/5] END activation=relu, early_stopping=True, hidden_layer_sizes=(150, 150), learning_rate_init=0.001, max_iter=5000;, score=0.932 total time=   2.7s\n",
      "[CV 3/5] END activation=relu, early_stopping=True, hidden_layer_sizes=(150, 150), learning_rate_init=0.001, max_iter=5000;, score=0.931 total time=   3.2s\n",
      "[CV 4/5] END activation=relu, early_stopping=True, hidden_layer_sizes=(150, 150), learning_rate_init=0.001, max_iter=5000;, score=0.932 total time=   3.0s\n",
      "[CV 5/5] END activation=relu, early_stopping=True, hidden_layer_sizes=(150, 150), learning_rate_init=0.001, max_iter=5000;, score=0.929 total time=   2.5s\n",
      "[CV 1/5] END activation=relu, early_stopping=True, hidden_layer_sizes=(150, 150), learning_rate_init=0.01, max_iter=1000;, score=0.930 total time=   2.4s\n",
      "[CV 2/5] END activation=relu, early_stopping=True, hidden_layer_sizes=(150, 150), learning_rate_init=0.01, max_iter=1000;, score=0.926 total time=   4.8s\n",
      "[CV 3/5] END activation=relu, early_stopping=True, hidden_layer_sizes=(150, 150), learning_rate_init=0.01, max_iter=1000;, score=0.921 total time=   3.9s\n",
      "[CV 4/5] END activation=relu, early_stopping=True, hidden_layer_sizes=(150, 150), learning_rate_init=0.01, max_iter=1000;, score=0.932 total time=   2.4s\n",
      "[CV 5/5] END activation=relu, early_stopping=True, hidden_layer_sizes=(150, 150), learning_rate_init=0.01, max_iter=1000;, score=0.928 total time=   2.6s\n",
      "[CV 1/5] END activation=relu, early_stopping=True, hidden_layer_sizes=(150, 150), learning_rate_init=0.01, max_iter=5000;, score=0.922 total time=   4.5s\n",
      "[CV 2/5] END activation=relu, early_stopping=True, hidden_layer_sizes=(150, 150), learning_rate_init=0.01, max_iter=5000;, score=0.932 total time=   2.6s\n",
      "[CV 3/5] END activation=relu, early_stopping=True, hidden_layer_sizes=(150, 150), learning_rate_init=0.01, max_iter=5000;, score=0.930 total time=   2.4s\n",
      "[CV 4/5] END activation=relu, early_stopping=True, hidden_layer_sizes=(150, 150), learning_rate_init=0.01, max_iter=5000;, score=0.931 total time=   2.3s\n",
      "[CV 5/5] END activation=relu, early_stopping=True, hidden_layer_sizes=(150, 150), learning_rate_init=0.01, max_iter=5000;, score=0.928 total time=   2.5s\n",
      "[CV 1/5] END activation=logistic, early_stopping=True, hidden_layer_sizes=(150, 150), learning_rate_init=0.0001, max_iter=1000;, score=0.913 total time=   3.8s\n",
      "[CV 2/5] END activation=logistic, early_stopping=True, hidden_layer_sizes=(150, 150), learning_rate_init=0.0001, max_iter=1000;, score=0.913 total time=   3.8s\n",
      "[CV 3/5] END activation=logistic, early_stopping=True, hidden_layer_sizes=(150, 150), learning_rate_init=0.0001, max_iter=1000;, score=0.913 total time=   3.8s\n",
      "[CV 4/5] END activation=logistic, early_stopping=True, hidden_layer_sizes=(150, 150), learning_rate_init=0.0001, max_iter=1000;, score=0.913 total time=   3.8s\n",
      "[CV 5/5] END activation=logistic, early_stopping=True, hidden_layer_sizes=(150, 150), learning_rate_init=0.0001, max_iter=1000;, score=0.913 total time=   3.8s\n",
      "[CV 1/5] END activation=logistic, early_stopping=True, hidden_layer_sizes=(150, 150), learning_rate_init=0.0001, max_iter=5000;, score=0.913 total time=   3.8s\n",
      "[CV 2/5] END activation=logistic, early_stopping=True, hidden_layer_sizes=(150, 150), learning_rate_init=0.0001, max_iter=5000;, score=0.913 total time=   3.8s\n",
      "[CV 3/5] END activation=logistic, early_stopping=True, hidden_layer_sizes=(150, 150), learning_rate_init=0.0001, max_iter=5000;, score=0.913 total time=   3.8s\n",
      "[CV 4/5] END activation=logistic, early_stopping=True, hidden_layer_sizes=(150, 150), learning_rate_init=0.0001, max_iter=5000;, score=0.913 total time=   3.8s\n",
      "[CV 5/5] END activation=logistic, early_stopping=True, hidden_layer_sizes=(150, 150), learning_rate_init=0.0001, max_iter=5000;, score=0.913 total time=   3.8s\n",
      "[CV 1/5] END activation=logistic, early_stopping=True, hidden_layer_sizes=(150, 150), learning_rate_init=0.001, max_iter=1000;, score=0.929 total time=   5.7s\n",
      "[CV 2/5] END activation=logistic, early_stopping=True, hidden_layer_sizes=(150, 150), learning_rate_init=0.001, max_iter=1000;, score=0.932 total time=   6.0s\n",
      "[CV 3/5] END activation=logistic, early_stopping=True, hidden_layer_sizes=(150, 150), learning_rate_init=0.001, max_iter=1000;, score=0.930 total time=   6.3s\n",
      "[CV 4/5] END activation=logistic, early_stopping=True, hidden_layer_sizes=(150, 150), learning_rate_init=0.001, max_iter=1000;, score=0.931 total time=   7.6s\n",
      "[CV 5/5] END activation=logistic, early_stopping=True, hidden_layer_sizes=(150, 150), learning_rate_init=0.001, max_iter=1000;, score=0.926 total time=   7.9s\n",
      "[CV 1/5] END activation=logistic, early_stopping=True, hidden_layer_sizes=(150, 150), learning_rate_init=0.001, max_iter=5000;, score=0.927 total time=   5.7s\n",
      "[CV 2/5] END activation=logistic, early_stopping=True, hidden_layer_sizes=(150, 150), learning_rate_init=0.001, max_iter=5000;, score=0.929 total time=   7.2s\n",
      "[CV 3/5] END activation=logistic, early_stopping=True, hidden_layer_sizes=(150, 150), learning_rate_init=0.001, max_iter=5000;, score=0.931 total time=   7.5s\n",
      "[CV 4/5] END activation=logistic, early_stopping=True, hidden_layer_sizes=(150, 150), learning_rate_init=0.001, max_iter=5000;, score=0.930 total time=   5.6s\n",
      "[CV 5/5] END activation=logistic, early_stopping=True, hidden_layer_sizes=(150, 150), learning_rate_init=0.001, max_iter=5000;, score=0.924 total time=   6.9s\n",
      "[CV 1/5] END activation=logistic, early_stopping=True, hidden_layer_sizes=(150, 150), learning_rate_init=0.01, max_iter=1000;, score=0.922 total time=   4.4s\n",
      "[CV 2/5] END activation=logistic, early_stopping=True, hidden_layer_sizes=(150, 150), learning_rate_init=0.01, max_iter=1000;, score=0.931 total time=   6.0s\n",
      "[CV 3/5] END activation=logistic, early_stopping=True, hidden_layer_sizes=(150, 150), learning_rate_init=0.01, max_iter=1000;, score=0.927 total time=   6.3s\n",
      "[CV 4/5] END activation=logistic, early_stopping=True, hidden_layer_sizes=(150, 150), learning_rate_init=0.01, max_iter=1000;, score=0.930 total time=   6.9s\n",
      "[CV 5/5] END activation=logistic, early_stopping=True, hidden_layer_sizes=(150, 150), learning_rate_init=0.01, max_iter=1000;, score=0.926 total time=   8.8s\n",
      "[CV 1/5] END activation=logistic, early_stopping=True, hidden_layer_sizes=(150, 150), learning_rate_init=0.01, max_iter=5000;, score=0.928 total time=   7.5s\n",
      "[CV 2/5] END activation=logistic, early_stopping=True, hidden_layer_sizes=(150, 150), learning_rate_init=0.01, max_iter=5000;, score=0.930 total time=   7.0s\n",
      "[CV 3/5] END activation=logistic, early_stopping=True, hidden_layer_sizes=(150, 150), learning_rate_init=0.01, max_iter=5000;, score=0.928 total time=   6.0s\n",
      "[CV 4/5] END activation=logistic, early_stopping=True, hidden_layer_sizes=(150, 150), learning_rate_init=0.01, max_iter=5000;, score=0.930 total time=   4.5s\n",
      "[CV 5/5] END activation=logistic, early_stopping=True, hidden_layer_sizes=(150, 150), learning_rate_init=0.01, max_iter=5000;, score=0.926 total time=   9.7s\n",
      "[CV 1/5] END activation=tanh, early_stopping=True, hidden_layer_sizes=(150, 150), learning_rate_init=0.0001, max_iter=1000;, score=0.928 total time=   6.9s\n",
      "[CV 2/5] END activation=tanh, early_stopping=True, hidden_layer_sizes=(150, 150), learning_rate_init=0.0001, max_iter=1000;, score=0.933 total time=   4.7s\n",
      "[CV 3/5] END activation=tanh, early_stopping=True, hidden_layer_sizes=(150, 150), learning_rate_init=0.0001, max_iter=1000;, score=0.926 total time=   4.2s\n",
      "[CV 4/5] END activation=tanh, early_stopping=True, hidden_layer_sizes=(150, 150), learning_rate_init=0.0001, max_iter=1000;, score=0.930 total time=   4.7s\n",
      "[CV 5/5] END activation=tanh, early_stopping=True, hidden_layer_sizes=(150, 150), learning_rate_init=0.0001, max_iter=1000;, score=0.925 total time=   4.0s\n",
      "[CV 1/5] END activation=tanh, early_stopping=True, hidden_layer_sizes=(150, 150), learning_rate_init=0.0001, max_iter=5000;, score=0.929 total time=   7.0s\n",
      "[CV 2/5] END activation=tanh, early_stopping=True, hidden_layer_sizes=(150, 150), learning_rate_init=0.0001, max_iter=5000;, score=0.929 total time=   7.0s\n",
      "[CV 3/5] END activation=tanh, early_stopping=True, hidden_layer_sizes=(150, 150), learning_rate_init=0.0001, max_iter=5000;, score=0.923 total time=   3.8s\n",
      "[CV 4/5] END activation=tanh, early_stopping=True, hidden_layer_sizes=(150, 150), learning_rate_init=0.0001, max_iter=5000;, score=0.931 total time=   4.8s\n",
      "[CV 5/5] END activation=tanh, early_stopping=True, hidden_layer_sizes=(150, 150), learning_rate_init=0.0001, max_iter=5000;, score=0.924 total time=   7.7s\n",
      "[CV 1/5] END activation=tanh, early_stopping=True, hidden_layer_sizes=(150, 150), learning_rate_init=0.001, max_iter=1000;, score=0.927 total time=   5.1s\n",
      "[CV 2/5] END activation=tanh, early_stopping=True, hidden_layer_sizes=(150, 150), learning_rate_init=0.001, max_iter=1000;, score=0.933 total time=   2.5s\n",
      "[CV 3/5] END activation=tanh, early_stopping=True, hidden_layer_sizes=(150, 150), learning_rate_init=0.001, max_iter=1000;, score=0.929 total time=   2.5s\n",
      "[CV 4/5] END activation=tanh, early_stopping=True, hidden_layer_sizes=(150, 150), learning_rate_init=0.001, max_iter=1000;, score=0.933 total time=   4.9s\n",
      "[CV 5/5] END activation=tanh, early_stopping=True, hidden_layer_sizes=(150, 150), learning_rate_init=0.001, max_iter=1000;, score=0.923 total time=   4.1s\n",
      "[CV 1/5] END activation=tanh, early_stopping=True, hidden_layer_sizes=(150, 150), learning_rate_init=0.001, max_iter=5000;, score=0.929 total time=   2.8s\n",
      "[CV 2/5] END activation=tanh, early_stopping=True, hidden_layer_sizes=(150, 150), learning_rate_init=0.001, max_iter=5000;, score=0.932 total time=   2.8s\n",
      "[CV 3/5] END activation=tanh, early_stopping=True, hidden_layer_sizes=(150, 150), learning_rate_init=0.001, max_iter=5000;, score=0.927 total time=   2.5s\n",
      "[CV 4/5] END activation=tanh, early_stopping=True, hidden_layer_sizes=(150, 150), learning_rate_init=0.001, max_iter=5000;, score=0.928 total time=   2.5s\n",
      "[CV 5/5] END activation=tanh, early_stopping=True, hidden_layer_sizes=(150, 150), learning_rate_init=0.001, max_iter=5000;, score=0.923 total time=   3.8s\n",
      "[CV 1/5] END activation=tanh, early_stopping=True, hidden_layer_sizes=(150, 150), learning_rate_init=0.01, max_iter=1000;, score=0.922 total time=   4.5s\n",
      "[CV 2/5] END activation=tanh, early_stopping=True, hidden_layer_sizes=(150, 150), learning_rate_init=0.01, max_iter=1000;, score=0.929 total time=   2.5s\n",
      "[CV 3/5] END activation=tanh, early_stopping=True, hidden_layer_sizes=(150, 150), learning_rate_init=0.01, max_iter=1000;, score=0.928 total time=   2.8s\n",
      "[CV 4/5] END activation=tanh, early_stopping=True, hidden_layer_sizes=(150, 150), learning_rate_init=0.01, max_iter=1000;, score=0.928 total time=   3.4s\n",
      "[CV 5/5] END activation=tanh, early_stopping=True, hidden_layer_sizes=(150, 150), learning_rate_init=0.01, max_iter=1000;, score=0.924 total time=   3.5s\n",
      "[CV 1/5] END activation=tanh, early_stopping=True, hidden_layer_sizes=(150, 150), learning_rate_init=0.01, max_iter=5000;, score=0.927 total time=   4.4s\n",
      "[CV 2/5] END activation=tanh, early_stopping=True, hidden_layer_sizes=(150, 150), learning_rate_init=0.01, max_iter=5000;, score=0.930 total time=   2.6s\n",
      "[CV 3/5] END activation=tanh, early_stopping=True, hidden_layer_sizes=(150, 150), learning_rate_init=0.01, max_iter=5000;, score=0.927 total time=   2.8s\n",
      "[CV 4/5] END activation=tanh, early_stopping=True, hidden_layer_sizes=(150, 150), learning_rate_init=0.01, max_iter=5000;, score=0.928 total time=   3.5s\n",
      "[CV 5/5] END activation=tanh, early_stopping=True, hidden_layer_sizes=(150, 150), learning_rate_init=0.01, max_iter=5000;, score=0.925 total time=   3.6s\n"
     ]
    }
   ],
   "source": [
    "grid_results = gridsearch.fit(train, train_labels)\n",
    "best_params = grid_results.best_params_\n",
    "mlp = grid_results.best_estimator_"
   ]
  },
  {
   "cell_type": "code",
   "execution_count": 53,
   "metadata": {},
   "outputs": [
    {
     "data": {
      "text/plain": [
       "{'activation': 'relu',\n",
       " 'early_stopping': True,\n",
       " 'hidden_layer_sizes': (150, 150),\n",
       " 'learning_rate_init': 0.001,\n",
       " 'max_iter': 5000}"
      ]
     },
     "execution_count": 53,
     "metadata": {},
     "output_type": "execute_result"
    }
   ],
   "source": [
    "best_params"
   ]
  },
  {
   "cell_type": "code",
   "execution_count": 54,
   "metadata": {},
   "outputs": [],
   "source": [
    "mlp = mlp.fit(train, train_labels)\n",
    "save_model(mlp, \"mlp_better_pca.joblib\")"
   ]
  },
  {
   "cell_type": "code",
   "execution_count": 55,
   "metadata": {},
   "outputs": [],
   "source": [
    "train_preds = mlp.predict(train)\n",
    "dev_preds = mlp.predict(dev)\n",
    "test_preds = mlp.predict(test)"
   ]
  },
  {
   "cell_type": "code",
   "execution_count": 56,
   "metadata": {},
   "outputs": [
    {
     "name": "stdout",
     "output_type": "stream",
     "text": [
      "Accuracy Train:  0.9490378701344346\n",
      "Accuracy Dev:  0.9257826239887443\n",
      "Accuracy Test:  0.9339423752635277\n",
      "Weighted F1 Train:  0.9436679120401092\n",
      "Weighted F1 Dev:  0.9177799181950227\n",
      "Weighted F1 Test:  0.9262171518850802\n",
      "Macro F1 Train:  0.5402953484446836\n",
      "Macro F1 Dev:  0.49598573727522294\n",
      "Macro F1 Test:  0.501792427646479\n",
      "Micro F1 Train:  0.9490378701344346\n",
      "Micro F1 Dev:  0.9257826239887443\n",
      "Micro F1 Test:  0.9339423752635277\n",
      "Weighted Recall Train:  0.9490378701344346\n",
      "Weighted Recall Dev:  0.9257826239887443\n",
      "Weighted Recall Test:  0.9339423752635277\n",
      "Macro Recall Train:  0.5079432501776707\n",
      "Macro Recall Dev:  0.4697090689136691\n",
      "Macro Recall Test:  0.47301041264944077\n",
      "Micro Recall Train:  0.9490378701344346\n",
      "Micro Recall Dev:  0.9257826239887443\n",
      "Micro Recall Test:  0.9339423752635277\n",
      "Confusion Matrix Train: \n",
      "[[ 1049   913     0]\n",
      " [  225 20553     0]\n",
      " [    0    22     0]]\n",
      "Confusion Matrix Dev: \n",
      "[[ 117  155    0]\n",
      " [  54 2515    0]\n",
      " [   0    2    0]]\n",
      "Confusion Matrix Test: \n",
      "[[ 109  141    0]\n",
      " [  44 2549    0]\n",
      " [   0    3    0]]\n"
     ]
    }
   ],
   "source": [
    "computeAllScores(train_preds, dev_preds, test_preds)"
   ]
  },
  {
   "cell_type": "markdown",
   "metadata": {},
   "source": [
    "## Only 2 Class Augmented Data Sentence Transformer Better"
   ]
  },
  {
   "cell_type": "code",
   "execution_count": 8,
   "metadata": {},
   "outputs": [],
   "source": [
    "train, dev, test, train_labels, dev_labels, test_labels = load_only_2_class(\"sent_trans_augmented_no_pca\", True)"
   ]
  },
  {
   "cell_type": "code",
   "execution_count": 9,
   "metadata": {},
   "outputs": [],
   "source": [
    "train_labels = [label_replacement[label] for label in train_labels]\n",
    "dev_labels = [label_replacement[label] for label in dev_labels]\n",
    "test_labels = [label_replacement[label] for label in test_labels]"
   ]
  },
  {
   "cell_type": "code",
   "execution_count": 10,
   "metadata": {},
   "outputs": [
    {
     "name": "stdout",
     "output_type": "stream",
     "text": [
      "Fitting 5 folds for each of 18 candidates, totalling 90 fits\n"
     ]
    }
   ],
   "source": [
    "grid_results = gridsearch.fit(train, train_labels)\n",
    "best_params = grid_results.best_params_\n",
    "mlp = grid_results.best_estimator_"
   ]
  },
  {
   "cell_type": "code",
   "execution_count": 11,
   "metadata": {},
   "outputs": [
    {
     "data": {
      "text/plain": [
       "{'activation': 'relu',\n",
       " 'early_stopping': True,\n",
       " 'hidden_layer_sizes': (150, 150),\n",
       " 'learning_rate_init': 0.01,\n",
       " 'max_iter': 5000}"
      ]
     },
     "execution_count": 11,
     "metadata": {},
     "output_type": "execute_result"
    }
   ],
   "source": [
    "best_params"
   ]
  },
  {
   "cell_type": "code",
   "execution_count": 12,
   "metadata": {},
   "outputs": [],
   "source": [
    "# mlp = load_model(\"mlp_sent_trans_augmented_no_pca.joblib\")"
   ]
  },
  {
   "cell_type": "code",
   "execution_count": 13,
   "metadata": {},
   "outputs": [],
   "source": [
    "mlp = mlp.fit(train, train_labels)\n",
    "save_model(mlp, \"mlp_sent_trans_augmented_no_pca.joblib\")"
   ]
  },
  {
   "cell_type": "code",
   "execution_count": 14,
   "metadata": {},
   "outputs": [],
   "source": [
    "train_preds = mlp.predict(train)\n",
    "dev_preds = mlp.predict(dev)\n",
    "test_preds = mlp.predict(test)"
   ]
  },
  {
   "cell_type": "code",
   "execution_count": 15,
   "metadata": {},
   "outputs": [
    {
     "name": "stdout",
     "output_type": "stream",
     "text": [
      "Accuracy Train:  0.988462082959747\n",
      "Accuracy Dev:  0.88287020752726\n",
      "Accuracy Test:  0.8815881939564301\n",
      "Weighted F1 Train:  0.9884556779423381\n",
      "Weighted F1 Dev:  0.8894235093111817\n",
      "Weighted F1 Test:  0.8914335547796407\n",
      "Macro F1 Train:  0.8971561134127634\n",
      "Macro F1 Dev:  0.4692975048709034\n",
      "Macro F1 Test:  0.46663078228169574\n",
      "Micro F1 Train:  0.988462082959747\n",
      "Micro F1 Dev:  0.8828702075272599\n",
      "Micro F1 Test:  0.8815881939564301\n",
      "Weighted Recall Train:  0.988462082959747\n",
      "Weighted Recall Dev:  0.88287020752726\n",
      "Weighted Recall Test:  0.8815881939564301\n",
      "Macro Recall Train:  0.8863514851018394\n",
      "Macro Recall Dev:  0.48894292049244764\n",
      "Macro Recall Test:  0.4984332176372284\n",
      "Micro Recall Train:  0.988462082959747\n",
      "Micro Recall Dev:  0.88287020752726\n",
      "Micro Recall Test:  0.8815881939564301\n",
      "Confusion Matrix Train: \n",
      "[[21340   242     0]\n",
      " [  235 20538     5]\n",
      " [    0     7    15]]\n",
      "Confusion Matrix Dev: \n",
      "[[ 149  123    0]\n",
      " [ 208 2361    0]\n",
      " [   0    2    0]]\n",
      "Confusion Matrix Test: \n",
      "[[ 146  104    0]\n",
      " [ 230 2363    0]\n",
      " [   0    3    0]]\n"
     ]
    }
   ],
   "source": [
    "computeAllScores(train_preds, dev_preds, test_preds, aug=True)"
   ]
  },
  {
   "cell_type": "markdown",
   "metadata": {},
   "source": [
    "### MLP Loss Curve"
   ]
  },
  {
   "cell_type": "code",
   "execution_count": 15,
   "metadata": {},
   "outputs": [],
   "source": [
    "train, dev, test, train_labels, dev_labels, test_labels = load_only_2_class(\"sent_trans_augmented_no_pca\", True)"
   ]
  },
  {
   "cell_type": "code",
   "execution_count": 16,
   "metadata": {},
   "outputs": [],
   "source": [
    "train_labels = [label_replacement[label] for label in train_labels]\n",
    "dev_labels = [label_replacement[label] for label in dev_labels]\n",
    "test_labels = [label_replacement[label] for label in test_labels]"
   ]
  },
  {
   "cell_type": "code",
   "execution_count": 27,
   "metadata": {},
   "outputs": [],
   "source": [
    "mlp = MLPClassifier(activation = 'relu', hidden_layer_sizes = (150, 150), learning_rate_init = 0.01, max_iter = 5000)"
   ]
  },
  {
   "cell_type": "code",
   "execution_count": 31,
   "metadata": {},
   "outputs": [],
   "source": [
    "def train_model(model, epochs, n_iter_no_change = 10, early_stopping = True, tol = 1e-4):\n",
    "    train_loss = []\n",
    "    validation_loss = []\n",
    "    train_accuracy = []\n",
    "    validation_accuracy = []\n",
    "    for epoch in range(epochs):\n",
    "        model.partial_fit(train, train_labels, classes=np.unique(train_labels))\n",
    "        train_loss.append(model.loss_)\n",
    "        validation_loss.append(log_loss(dev_labels, model.predict_proba(dev)))\n",
    "        train_accuracy.append(accuracy_score(mlp.predict(train), train_labels))\n",
    "        validation_accuracy.append(accuracy_score(mlp.predict(dev), dev_labels))\n",
    "        # Early stopping\n",
    "        if early_stopping:\n",
    "            if epoch > n_iter_no_change:\n",
    "                if np.mean(validation_loss[-n_iter_no_change:]) - validation_loss[-1] < tol:\n",
    "                    break\n",
    "    return model, train_loss, validation_loss, train_accuracy, validation_accuracy"
   ]
  },
  {
   "cell_type": "code",
   "execution_count": 32,
   "metadata": {},
   "outputs": [],
   "source": [
    "mlp, train_loss, validation_loss, train_acc, validation_acc = train_model(mlp, 5000)"
   ]
  },
  {
   "cell_type": "code",
   "execution_count": 35,
   "metadata": {},
   "outputs": [],
   "source": [
    "def plot_history(train_loss, validation_loss, train_acc, validation_acc):\n",
    "    plt.figure(figsize=(10, 5))\n",
    "    plt.subplot(1, 2, 1)\n",
    "    plt.plot(train_loss, label='loss')\n",
    "    plt.plot(validation_loss, label='val_loss')\n",
    "    plt.legend()\n",
    "    plt.subplot(1, 2, 2)\n",
    "    plt.plot(train_acc, label='accuracy')\n",
    "    plt.plot(validation_acc, label='val_accuracy')\n",
    "    plt.legend()\n",
    "    plt.show()"
   ]
  },
  {
   "cell_type": "code",
   "execution_count": 36,
   "metadata": {},
   "outputs": [
    {
     "data": {
      "image/png": "[encoded data removed]",
      "text/plain": [
       "<Figure size 1000x500 with 2 Axes>"
      ]
     },
     "metadata": {},
     "output_type": "display_data"
    }
   ],
   "source": [
    "plot_history(train_loss, validation_loss, train_acc, validation_acc)"
   ]
  },
  {
   "cell_type": "code",
   "execution_count": null,
   "metadata": {},
   "outputs": [],
   "source": []
  }
 ],
 "metadata": {
  "kernelspec": {
   "display_name": "Python 3.10.2 ('venv': venv)",
   "language": "python",
   "name": "python3"
  },
  "language_info": {
   "codemirror_mode": {
    "name": "ipython",
    "version": 3
   },
   "file_extension": ".py",
   "mimetype": "text/x-python",
   "name": "python",
   "nbconvert_exporter": "python",
   "pygments_lexer": "ipython3",
   "version": "3.10.2"
  },
  "orig_nbformat": 4,
  "vscode": {
   "interpreter": {
    "hash": "05f02a134849fd5c5f66d44739b03caad7c6758a3d768c4bdabdf36d26611ac2"
   }
  }
 },
 "nbformat": 4,
 "nbformat_minor": 2
}
