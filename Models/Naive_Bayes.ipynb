{
 "cells": [
  {
   "cell_type": "code",
   "execution_count": 1,
   "metadata": {},
   "outputs": [
    {
     "name": "stdout",
     "output_type": "stream",
     "text": [
      "--ip=127.0.0.1\n"
     ]
    }
   ],
   "source": [
    "from embeddings_loader import *\n",
    "from sklearn.naive_bayes import GaussianNB\n",
    "from sklearn.model_selection import GridSearchCV\n",
    "from sklearn.metrics import f1_score\n",
    "from sklearn.metrics import accuracy_score\n",
    "from sklearn.metrics import confusion_matrix\n",
    "from sklearn.metrics import classification_report\n",
    "from sklearn.metrics import recall_score\n",
    "from sklearn.metrics import precision_score\n",
    "from sklearn.metrics import roc_auc_score\n",
    "from utils import *"
   ]
  },
  {
   "cell_type": "code",
   "execution_count": 6,
   "metadata": {},
   "outputs": [],
   "source": [
    "train_labels, dev_labels, test_labels = load_labels()\n",
    "train_augmented_labels, dev_augmented_labels, test_augmented_labels = load_augmented_labels()"
   ]
  },
  {
   "cell_type": "code",
   "execution_count": 7,
   "metadata": {},
   "outputs": [],
   "source": [
    "label_replacement = {\n",
    "    'Hope_speech': 0,\n",
    "    'Non_hope_speech': 1,\n",
    "    'not-English': 2,\n",
    "}"
   ]
  },
  {
   "cell_type": "code",
   "execution_count": 8,
   "metadata": {},
   "outputs": [],
   "source": [
    "# Replace labels with numbers\n",
    "train_labels = [label_replacement[label] for label in train_labels]\n",
    "dev_labels = [label_replacement[label] for label in dev_labels]\n",
    "test_labels = [label_replacement[label] for label in test_labels]\n",
    "train_augmented_labels = [label_replacement[label] for label in train_augmented_labels]"
   ]
  },
  {
   "cell_type": "code",
   "execution_count": 9,
   "metadata": {},
   "outputs": [],
   "source": [
    "gaussian_nb = GaussianNB()\n",
    "gridsearch = GridSearchCV(gaussian_nb, param_grid = {'var_smoothing': np.logspace(0,-9, num=100)}, scoring = \"f1_micro\")"
   ]
  },
  {
   "cell_type": "markdown",
   "metadata": {},
   "source": [
    "### Glove Twitter 25"
   ]
  },
  {
   "cell_type": "code",
   "execution_count": 23,
   "metadata": {},
   "outputs": [],
   "source": [
    "gt25_train, gt25_dev, gt25_test = load_glove_twitter_25()"
   ]
  },
  {
   "cell_type": "code",
   "execution_count": 24,
   "metadata": {},
   "outputs": [],
   "source": [
    "# Set all NaN values to 0\n",
    "gt25_train = np.nan_to_num(gt25_train)\n",
    "gt25_dev = np.nan_to_num(gt25_dev)\n",
    "gt25_test = np.nan_to_num(gt25_test)"
   ]
  },
  {
   "cell_type": "code",
   "execution_count": 25,
   "metadata": {},
   "outputs": [],
   "source": [
    "grid_results = gridsearch.fit(gt25_train, train_labels)\n",
    "best_params = grid_results.best_params_\n",
    "gaussian_nb = grid_results.best_estimator_"
   ]
  },
  {
   "cell_type": "code",
   "execution_count": 26,
   "metadata": {},
   "outputs": [
    {
     "name": "stdout",
     "output_type": "stream",
     "text": [
      "{'var_smoothing': 1.0}\n"
     ]
    }
   ],
   "source": [
    "print(best_params)"
   ]
  },
  {
   "cell_type": "code",
   "execution_count": 27,
   "metadata": {},
   "outputs": [],
   "source": [
    "\n",
    "gaussian_nb = gaussian_nb.fit(gt25_train, train_labels)\n",
    "save_model(gaussian_nb, \"gaussian_nb_gt25.joblib\")"
   ]
  },
  {
   "cell_type": "code",
   "execution_count": 28,
   "metadata": {},
   "outputs": [],
   "source": [
    "train_preds = gaussian_nb.predict(gt25_train)\n",
    "dev_preds = gaussian_nb.predict(gt25_dev)\n",
    "test_preds = gaussian_nb.predict(gt25_test)"
   ]
  },
  {
   "cell_type": "code",
   "execution_count": 29,
   "metadata": {},
   "outputs": [
    {
     "name": "stdout",
     "output_type": "stream",
     "text": [
      "Accuracy Train:  0.9121342588524735\n",
      "Accuracy Dev:  0.9032711924023918\n",
      "Accuracy Test:  0.910049191848208\n",
      "Weighted F1 Train:  0.8710825211224449\n",
      "Weighted F1 Dev:  0.8578571879045266\n",
      "Weighted F1 Test:  0.8681963040700529\n",
      "Macro F1 Train:  0.38745703809246573\n",
      "Macro F1 Dev:  0.3164510166358595\n",
      "Macro F1 Test:  0.31763551631101306\n",
      "Micro F1 Train:  0.9121342588524736\n",
      "Micro F1 Dev:  0.9032711924023918\n",
      "Micro F1 Test:  0.910049191848208\n",
      "Weighted Recall Train:  0.9121342588524735\n",
      "Weighted Recall Dev:  0.9032711924023918\n",
      "Weighted Recall Test:  0.910049191848208\n",
      "Macro Recall Train:  0.40875401429833996\n",
      "Macro Recall Dev:  0.33320358115998444\n",
      "Macro Recall Test:  0.33294767965034067\n",
      "Micro Recall Train:  0.9121342588524735\n",
      "Micro Recall Dev:  0.9032711924023918\n",
      "Micro Recall Test:  0.910049191848208\n",
      "Confusion Matrix Train: \n",
      "[[    0  1962     0]\n",
      " [    0 20757    21]\n",
      " [    0    17     5]]\n",
      "Confusion Matrix Dev: \n",
      "[[   0  271    1]\n",
      " [   0 2568    1]\n",
      " [   0    2    0]]\n",
      "Confusion Matrix Test: \n",
      "[[   0  250    0]\n",
      " [   0 2590    3]\n",
      " [   0    3    0]]\n"
     ]
    }
   ],
   "source": [
    "computeAllScores(train_preds, dev_preds, test_preds)"
   ]
  },
  {
   "cell_type": "markdown",
   "metadata": {},
   "source": [
    "### FastText 300"
   ]
  },
  {
   "cell_type": "code",
   "execution_count": 30,
   "metadata": {},
   "outputs": [],
   "source": [
    "ft300_train, ft300_dev, ft300_test = load_fasttext_300()"
   ]
  },
  {
   "cell_type": "code",
   "execution_count": 31,
   "metadata": {},
   "outputs": [],
   "source": [
    "# Set all NaN values to 0\n",
    "ft300_train = np.nan_to_num(ft300_train)\n",
    "ft300_dev = np.nan_to_num(ft300_dev)\n",
    "ft300_test = np.nan_to_num(ft300_test)"
   ]
  },
  {
   "cell_type": "code",
   "execution_count": 32,
   "metadata": {},
   "outputs": [],
   "source": [
    "grid_results = gridsearch.fit(ft300_train, train_labels)\n",
    "best_params = grid_results.best_params_\n",
    "gaussian_nb = grid_results.best_estimator_"
   ]
  },
  {
   "cell_type": "code",
   "execution_count": 33,
   "metadata": {},
   "outputs": [
    {
     "name": "stdout",
     "output_type": "stream",
     "text": [
      "{'var_smoothing': 1.0}\n"
     ]
    }
   ],
   "source": [
    "print(best_params)"
   ]
  },
  {
   "cell_type": "code",
   "execution_count": 34,
   "metadata": {},
   "outputs": [],
   "source": [
    "gaussian_nb = gaussian_nb.fit(ft300_train, train_labels)\n",
    "save_model(gaussian_nb, \"gaussian_nb_ft300.joblib\")"
   ]
  },
  {
   "cell_type": "code",
   "execution_count": 35,
   "metadata": {},
   "outputs": [],
   "source": [
    "train_preds = gaussian_nb.predict(ft300_train)\n",
    "dev_preds = gaussian_nb.predict(ft300_dev)\n",
    "test_preds = gaussian_nb.predict(ft300_test)"
   ]
  },
  {
   "cell_type": "code",
   "execution_count": 36,
   "metadata": {},
   "outputs": [
    {
     "name": "stdout",
     "output_type": "stream",
     "text": [
      "Accuracy Train:  0.9130568491345225\n",
      "Accuracy Dev:  0.9036229335209286\n",
      "Accuracy Test:  0.9111033028812369\n",
      "Weighted F1 Train:  0.8717660081924135\n",
      "Weighted F1 Dev:  0.85787410059692\n",
      "Weighted F1 Test:  0.8687225094212346\n",
      "Macro F1 Train:  0.37475414135020296\n",
      "Macro F1 Dev:  0.31645725548164577\n",
      "Macro F1 Test:  0.31782803211374644\n",
      "Micro F1 Train:  0.9130568491345225\n",
      "Micro F1 Dev:  0.9036229335209286\n",
      "Micro F1 Test:  0.9111033028812369\n",
      "Weighted Recall Train:  0.9130568491345225\n",
      "Weighted Recall Dev:  0.9036229335209286\n",
      "Weighted Recall Test:  0.9111033028812369\n",
      "Macro Recall Train:  0.36414604763228614\n",
      "Macro Recall Dev:  0.3333333333333333\n",
      "Macro Recall Test:  0.3333333333333333\n",
      "Micro Recall Train:  0.9130568491345225\n",
      "Micro Recall Dev:  0.9036229335209286\n",
      "Micro Recall Test:  0.9111033028812369\n",
      "Confusion Matrix Train: \n",
      "[[    3  1959     0]\n",
      " [    0 20778     0]\n",
      " [    0    20     2]]\n",
      "Confusion Matrix Dev: \n",
      "[[   0  272    0]\n",
      " [   0 2569    0]\n",
      " [   0    2    0]]\n",
      "Confusion Matrix Test: \n",
      "[[   0  250    0]\n",
      " [   0 2593    0]\n",
      " [   0    3    0]]\n"
     ]
    }
   ],
   "source": [
    "computeAllScores(train_preds, dev_preds, test_preds)"
   ]
  },
  {
   "cell_type": "markdown",
   "metadata": {},
   "source": [
    "### Word2Vec 300"
   ]
  },
  {
   "cell_type": "code",
   "execution_count": 37,
   "metadata": {},
   "outputs": [],
   "source": [
    "w2v300_train, w2v300_dev, w2v300_test = load_word2vec_300()"
   ]
  },
  {
   "cell_type": "code",
   "execution_count": 38,
   "metadata": {},
   "outputs": [],
   "source": [
    "# Set all NaN values to 0\n",
    "w2v300_train = np.nan_to_num(w2v300_train)\n",
    "w2v300_dev = np.nan_to_num(w2v300_dev)\n",
    "w2v300_test = np.nan_to_num(w2v300_test)"
   ]
  },
  {
   "cell_type": "code",
   "execution_count": 39,
   "metadata": {},
   "outputs": [],
   "source": [
    "grid_results = gridsearch.fit(w2v300_train, train_labels)\n",
    "best_params = grid_results.best_params_\n",
    "gaussian_nb = grid_results.best_estimator_"
   ]
  },
  {
   "cell_type": "code",
   "execution_count": 40,
   "metadata": {},
   "outputs": [
    {
     "name": "stdout",
     "output_type": "stream",
     "text": [
      "{'var_smoothing': 2.848035868435799e-05}\n"
     ]
    }
   ],
   "source": [
    "print(best_params)"
   ]
  },
  {
   "cell_type": "code",
   "execution_count": 41,
   "metadata": {},
   "outputs": [],
   "source": [
    "gaussian_nb = gaussian_nb.fit(w2v300_train, train_labels)\n",
    "save_model(gaussian_nb, \"gaussian_nb_w2v300.joblib\")"
   ]
  },
  {
   "cell_type": "code",
   "execution_count": 42,
   "metadata": {},
   "outputs": [],
   "source": [
    "train_preds = gaussian_nb.predict(w2v300_train)\n",
    "dev_preds = gaussian_nb.predict(w2v300_dev)\n",
    "test_preds = gaussian_nb.predict(w2v300_test)"
   ]
  },
  {
   "cell_type": "code",
   "execution_count": 43,
   "metadata": {},
   "outputs": [
    {
     "name": "stdout",
     "output_type": "stream",
     "text": [
      "Accuracy Train:  0.4608558123187769\n",
      "Accuracy Dev:  0.46289131199437217\n",
      "Accuracy Test:  0.4631061138439916\n",
      "Weighted F1 Train:  0.5622747686382187\n",
      "Weighted F1 Dev:  0.558758675347762\n",
      "Weighted F1 Test:  0.5614503893269573\n",
      "Macro F1 Train:  0.2770942452599117\n",
      "Macro F1 Dev:  0.28169345948247493\n",
      "Macro F1 Test:  0.28309328315380894\n",
      "Micro F1 Train:  0.4608558123187769\n",
      "Micro F1 Dev:  0.46289131199437217\n",
      "Micro F1 Test:  0.4631061138439916\n",
      "Weighted Recall Train:  0.4608558123187769\n",
      "Weighted Recall Dev:  0.46289131199437217\n",
      "Weighted Recall Test:  0.4631061138439916\n",
      "Macro Recall Train:  0.5272260293202522\n",
      "Macro Recall Dev:  0.5652042833482166\n",
      "Macro Recall Test:  0.5358268843467455\n",
      "Micro Recall Train:  0.4608558123187769\n",
      "Micro Recall Dev:  0.46289131199437217\n",
      "Micro Recall Test:  0.4631061138439916\n",
      "Confusion Matrix Train: \n",
      "[[ 1546   347    69]\n",
      " [10010  8936  1832]\n",
      " [    6     8     8]]\n",
      "Confusion Matrix Dev: \n",
      "[[ 208   60    4]\n",
      " [1221 1107  241]\n",
      " [   0    1    1]]\n",
      "Confusion Matrix Test: \n",
      "[[ 212   33    5]\n",
      " [1237 1105  251]\n",
      " [   1    1    1]]\n"
     ]
    }
   ],
   "source": [
    "computeAllScores(train_preds, dev_preds, test_preds)"
   ]
  },
  {
   "cell_type": "markdown",
   "metadata": {},
   "source": [
    "### TF-IDF PCA (1000 Dims)"
   ]
  },
  {
   "cell_type": "code",
   "execution_count": 44,
   "metadata": {},
   "outputs": [],
   "source": [
    "tfidf_pca_train, tfidf_pca_dev, tfidf_pca_test = load_tfidf_pca()"
   ]
  },
  {
   "cell_type": "code",
   "execution_count": 45,
   "metadata": {},
   "outputs": [],
   "source": [
    "grid_results = gridsearch.fit(tfidf_pca_train, train_labels)\n",
    "best_params = grid_results.best_params_\n",
    "gaussian_nb = grid_results.best_estimator_"
   ]
  },
  {
   "cell_type": "code",
   "execution_count": 46,
   "metadata": {},
   "outputs": [
    {
     "name": "stdout",
     "output_type": "stream",
     "text": [
      "{'var_smoothing': 1.0}\n"
     ]
    }
   ],
   "source": [
    "print(best_params)"
   ]
  },
  {
   "cell_type": "code",
   "execution_count": 47,
   "metadata": {},
   "outputs": [],
   "source": [
    "\n",
    "gaussian_nb = gaussian_nb.fit(tfidf_pca_train, train_labels)\n",
    "save_model(gaussian_nb, \"gaussian_nb_tfidf_pca.joblib\")"
   ]
  },
  {
   "cell_type": "code",
   "execution_count": 48,
   "metadata": {},
   "outputs": [],
   "source": [
    "train_preds = gaussian_nb.predict(tfidf_pca_train)\n",
    "dev_preds = gaussian_nb.predict(tfidf_pca_dev)\n",
    "test_preds = gaussian_nb.predict(tfidf_pca_test)"
   ]
  },
  {
   "cell_type": "code",
   "execution_count": 49,
   "metadata": {},
   "outputs": [
    {
     "name": "stdout",
     "output_type": "stream",
     "text": [
      "Accuracy Train:  0.9001405851858361\n",
      "Accuracy Dev:  0.8906085121350686\n",
      "Accuracy Test:  0.8952916373858046\n",
      "Weighted F1 Train:  0.8670924046649676\n",
      "Weighted F1 Dev:  0.8565049384533437\n",
      "Weighted F1 Test:  0.8649236676142507\n",
      "Macro F1 Train:  0.36174683265238466\n",
      "Macro F1 Dev:  0.3304907643065604\n",
      "Macro F1 Test:  0.32997507762137473\n",
      "Micro F1 Train:  0.9001405851858361\n",
      "Micro F1 Dev:  0.8906085121350686\n",
      "Micro F1 Test:  0.8952916373858046\n",
      "Weighted Recall Train:  0.9001405851858361\n",
      "Weighted Recall Dev:  0.8906085121350686\n",
      "Weighted Recall Test:  0.8952916373858046\n",
      "Macro Recall Train:  0.6199634469350762\n",
      "Macro Recall Dev:  0.33620266907853064\n",
      "Macro Recall Test:  0.3347772207224579\n",
      "Micro Recall Train:  0.9001405851858361\n",
      "Micro Recall Dev:  0.8906085121350686\n",
      "Micro Recall Test:  0.8952916373858046\n",
      "Confusion Matrix Train: \n",
      "[[   24  1929     9]\n",
      " [   49 20446   283]\n",
      " [    0     3    19]]\n",
      "Confusion Matrix Dev: \n",
      "[[   7  261    4]\n",
      " [   8 2525   36]\n",
      " [   0    2    0]]\n",
      "Confusion Matrix Test: \n",
      "[[   6  242    2]\n",
      " [  11 2542   40]\n",
      " [   0    3    0]]\n"
     ]
    }
   ],
   "source": [
    "computeAllScores(train_preds, dev_preds, test_preds)"
   ]
  },
  {
   "cell_type": "markdown",
   "metadata": {},
   "source": [
    "### Seentence Transformer Faster No PCA"
   ]
  },
  {
   "cell_type": "code",
   "execution_count": 50,
   "metadata": {},
   "outputs": [],
   "source": [
    "train, dev, test = load_sent_trans_fast_no_pca()"
   ]
  },
  {
   "cell_type": "code",
   "execution_count": 51,
   "metadata": {},
   "outputs": [],
   "source": [
    "grid_results = gridsearch.fit(train, train_labels)\n",
    "best_params = grid_results.best_params_\n",
    "gaussian_nb = grid_results.best_estimator_"
   ]
  },
  {
   "cell_type": "code",
   "execution_count": 52,
   "metadata": {},
   "outputs": [
    {
     "name": "stdout",
     "output_type": "stream",
     "text": [
      "{'var_smoothing': 6.579332246575683e-05}\n"
     ]
    }
   ],
   "source": [
    "print(best_params)"
   ]
  },
  {
   "cell_type": "code",
   "execution_count": 53,
   "metadata": {},
   "outputs": [],
   "source": [
    "\n",
    "gaussian_nb = gaussian_nb.fit(train, train_labels)\n",
    "save_model(gaussian_nb, \"gaussian_nb_sent_trans_fast_no_pca.joblib\")"
   ]
  },
  {
   "cell_type": "code",
   "execution_count": 54,
   "metadata": {},
   "outputs": [],
   "source": [
    "train_preds = gaussian_nb.predict(train)\n",
    "dev_preds = gaussian_nb.predict(dev)\n",
    "test_preds = gaussian_nb.predict(test)"
   ]
  },
  {
   "cell_type": "code",
   "execution_count": 55,
   "metadata": {},
   "outputs": [
    {
     "name": "stdout",
     "output_type": "stream",
     "text": [
      "Accuracy Train:  0.8321325015376505\n",
      "Accuracy Dev:  0.8315160042208934\n",
      "Accuracy Test:  0.8271257905832747\n",
      "Weighted F1 Train:  0.8611642258440492\n",
      "Weighted F1 Dev:  0.8570703533077054\n",
      "Weighted F1 Test:  0.8571867967809591\n",
      "Macro F1 Train:  0.5451696314647192\n",
      "Macro F1 Dev:  0.45129085966270077\n",
      "Macro F1 Test:  0.48578249509654664\n",
      "Micro F1 Train:  0.8321325015376505\n",
      "Micro F1 Dev:  0.8315160042208934\n",
      "Micro F1 Test:  0.8271257905832747\n",
      "Weighted Recall Train:  0.8321325015376505\n",
      "Weighted Recall Dev:  0.8315160042208934\n",
      "Weighted Recall Test:  0.8271257905832747\n",
      "Macro Recall Train:  0.7884055804231608\n",
      "Macro Recall Dev:  0.5225945282745251\n",
      "Macro Recall Test:  0.6412959677764922\n",
      "Micro Recall Train:  0.8321325015376505\n",
      "Micro Recall Dev:  0.8315160042208934\n",
      "Micro Recall Test:  0.8271257905832747\n",
      "Confusion Matrix Train: \n",
      "[[ 1477   480     5]\n",
      " [ 3259 17447    72]\n",
      " [    1     4    17]]\n",
      "Confusion Matrix Dev: \n",
      "[[ 197   75    0]\n",
      " [ 400 2167    2]\n",
      " [   0    2    0]]\n",
      "Confusion Matrix Test: \n",
      "[[ 189   60    1]\n",
      " [ 417 2164   12]\n",
      " [   0    2    1]]\n"
     ]
    }
   ],
   "source": [
    "computeAllScores(train_preds, dev_preds, test_preds)"
   ]
  },
  {
   "cell_type": "markdown",
   "metadata": {},
   "source": [
    "### Sentence Transformer Faster PCA"
   ]
  },
  {
   "cell_type": "code",
   "execution_count": 56,
   "metadata": {},
   "outputs": [],
   "source": [
    "train, dev, test = load_sent_trans_fast_pca()"
   ]
  },
  {
   "cell_type": "code",
   "execution_count": 57,
   "metadata": {},
   "outputs": [],
   "source": [
    "grid_results = gridsearch.fit(train, train_labels)\n",
    "best_params = grid_results.best_params_\n",
    "gaussian_nb = grid_results.best_estimator_"
   ]
  },
  {
   "cell_type": "code",
   "execution_count": 58,
   "metadata": {},
   "outputs": [
    {
     "name": "stdout",
     "output_type": "stream",
     "text": [
      "{'var_smoothing': 0.533669923120631}\n"
     ]
    }
   ],
   "source": [
    "print(best_params)"
   ]
  },
  {
   "cell_type": "code",
   "execution_count": 59,
   "metadata": {},
   "outputs": [],
   "source": [
    "\n",
    "gaussian_nb = gaussian_nb.fit(train, train_labels)\n",
    "save_model(gaussian_nb, \"gaussian_nb_sent_trans_fast_pca.joblib\")"
   ]
  },
  {
   "cell_type": "code",
   "execution_count": 60,
   "metadata": {},
   "outputs": [],
   "source": [
    "train_preds = gaussian_nb.predict(train)\n",
    "dev_preds =gaussian_nb.predict(dev)\n",
    "test_preds = gaussian_nb.predict(test)"
   ]
  },
  {
   "cell_type": "code",
   "execution_count": 61,
   "metadata": {},
   "outputs": [
    {
     "name": "stdout",
     "output_type": "stream",
     "text": [
      "Accuracy Train:  0.9204815042614884\n",
      "Accuracy Dev:  0.9092507914175167\n",
      "Accuracy Test:  0.9216444132115249\n",
      "Weighted F1 Train:  0.8980950428133775\n",
      "Weighted F1 Dev:  0.8852250360925764\n",
      "Weighted F1 Test:  0.9021281749511217\n",
      "Macro F1 Train:  0.41076493057881597\n",
      "Macro F1 Dev:  0.4053389971680826\n",
      "Macro F1 Test:  0.4292238585508407\n",
      "Micro F1 Train:  0.9204815042614884\n",
      "Micro F1 Dev:  0.9092507914175166\n",
      "Micro F1 Test:  0.921644413211525\n",
      "Weighted Recall Train:  0.9204815042614884\n",
      "Weighted Recall Dev:  0.9092507914175167\n",
      "Weighted Recall Test:  0.9216444132115249\n",
      "Macro Recall Train:  0.3881267423033988\n",
      "Macro Recall Dev:  0.3858133171524741\n",
      "Macro Recall Test:  0.40224810386939197\n",
      "Micro Recall Train:  0.9204815042614884\n",
      "Micro Recall Dev:  0.9092507914175167\n",
      "Micro Recall Test:  0.9216444132115249\n",
      "Confusion Matrix Train: \n",
      "[[  338  1624     0]\n",
      " [  164 20614     0]\n",
      " [    0    22     0]]\n",
      "Confusion Matrix Dev: \n",
      "[[  46  226    0]\n",
      " [  30 2539    0]\n",
      " [   0    2    0]]\n",
      "Confusion Matrix Test: \n",
      "[[  54  196    0]\n",
      " [  24 2569    0]\n",
      " [   0    3    0]]\n"
     ]
    }
   ],
   "source": [
    "computeAllScores(train_preds, dev_preds, test_preds)"
   ]
  },
  {
   "cell_type": "markdown",
   "metadata": {},
   "source": [
    "### Sentence Transformer Better No PCA"
   ]
  },
  {
   "cell_type": "code",
   "execution_count": 62,
   "metadata": {},
   "outputs": [],
   "source": [
    "train, dev, test = load_sent_trans_better_no_pca()"
   ]
  },
  {
   "cell_type": "code",
   "execution_count": 63,
   "metadata": {},
   "outputs": [],
   "source": [
    "grid_results = gridsearch.fit(train, train_labels)\n",
    "best_params = grid_results.best_params_\n",
    "gaussian_nb = grid_results.best_estimator_"
   ]
  },
  {
   "cell_type": "code",
   "execution_count": 64,
   "metadata": {},
   "outputs": [
    {
     "name": "stdout",
     "output_type": "stream",
     "text": [
      "{'var_smoothing': 1e-09}\n"
     ]
    }
   ],
   "source": [
    "print(best_params)"
   ]
  },
  {
   "cell_type": "code",
   "execution_count": 66,
   "metadata": {},
   "outputs": [],
   "source": [
    "\n",
    "gaussian_nb = gaussian_nb.fit(train, train_labels)\n",
    "save_model(gaussian_nb, \"gaussian_nb_sent_trans_best_no_pca.joblib\")"
   ]
  },
  {
   "cell_type": "code",
   "execution_count": 67,
   "metadata": {},
   "outputs": [],
   "source": [
    "train_preds = gaussian_nb.predict(train)\n",
    "dev_preds =gaussian_nb.predict(dev)\n",
    "test_preds = gaussian_nb.predict(test)"
   ]
  },
  {
   "cell_type": "code",
   "execution_count": 68,
   "metadata": {},
   "outputs": [
    {
     "name": "stdout",
     "output_type": "stream",
     "text": [
      "Accuracy Train:  0.8271241542922415\n",
      "Accuracy Dev:  0.8244811818501583\n",
      "Accuracy Test:  0.8292340126493324\n",
      "Weighted F1 Train:  0.8597424051409676\n",
      "Weighted F1 Dev:  0.8557072631314984\n",
      "Weighted F1 Test:  0.8609914710911621\n",
      "Macro F1 Train:  0.48678019210796036\n",
      "Macro F1 Dev:  0.45967762821155755\n",
      "Macro F1 Test:  0.45720102585245287\n",
      "Micro F1 Train:  0.8271241542922416\n",
      "Micro F1 Dev:  0.8244811818501583\n",
      "Micro F1 Test:  0.8292340126493324\n",
      "Weighted Recall Train:  0.8271241542922415\n",
      "Weighted Recall Dev:  0.8244811818501583\n",
      "Weighted Recall Test:  0.8292340126493324\n",
      "Macro Recall Train:  0.8266941996552797\n",
      "Macro Recall Dev:  0.540818507239408\n",
      "Macro Recall Test:  0.5431325363157219\n",
      "Micro Recall Train:  0.8271241542922415\n",
      "Micro Recall Dev:  0.8244811818501583\n",
      "Micro Recall Test:  0.8292340126493324\n",
      "Confusion Matrix Train: \n",
      "[[ 1541   393    28]\n",
      " [ 3211 17267   300]\n",
      " [    1     2    19]]\n",
      "Confusion Matrix Dev: \n",
      "[[ 216   53    3]\n",
      " [ 405 2128   36]\n",
      " [   1    1    0]]\n",
      "Confusion Matrix Test: \n",
      "[[ 199   48    3]\n",
      " [ 394 2161   38]\n",
      " [   0    3    0]]\n"
     ]
    }
   ],
   "source": [
    "computeAllScores(train_preds, dev_preds, test_preds)"
   ]
  },
  {
   "cell_type": "markdown",
   "metadata": {},
   "source": [
    "### Sentence Transformer Better PCA"
   ]
  },
  {
   "cell_type": "code",
   "execution_count": 69,
   "metadata": {},
   "outputs": [],
   "source": [
    "train, dev, test = load_sent_trans_better_pca()"
   ]
  },
  {
   "cell_type": "code",
   "execution_count": 70,
   "metadata": {},
   "outputs": [],
   "source": [
    "grid_results = gridsearch.fit(train, train_labels)\n",
    "best_params = grid_results.best_params_\n",
    "gaussian_nb = grid_results.best_estimator_"
   ]
  },
  {
   "cell_type": "code",
   "execution_count": 71,
   "metadata": {},
   "outputs": [
    {
     "name": "stdout",
     "output_type": "stream",
     "text": [
      "{'var_smoothing': 0.533669923120631}\n"
     ]
    }
   ],
   "source": [
    "print(best_params)"
   ]
  },
  {
   "cell_type": "code",
   "execution_count": 72,
   "metadata": {},
   "outputs": [],
   "source": [
    "\n",
    "gaussian_nb = gaussian_nb.fit(train, train_labels)\n",
    "save_model(gaussian_nb, \"gaussian_nb_sent_trans_best_pca.joblib\")"
   ]
  },
  {
   "cell_type": "code",
   "execution_count": 73,
   "metadata": {},
   "outputs": [],
   "source": [
    "train_preds = gaussian_nb.predict(train)\n",
    "dev_preds =gaussian_nb.predict(dev)\n",
    "test_preds = gaussian_nb.predict(test)"
   ]
  },
  {
   "cell_type": "code",
   "execution_count": 74,
   "metadata": {},
   "outputs": [
    {
     "name": "stdout",
     "output_type": "stream",
     "text": [
      "Accuracy Train:  0.9236886038133731\n",
      "Accuracy Dev:  0.9113612381287373\n",
      "Accuracy Test:  0.9251581166549543\n",
      "Weighted F1 Train:  0.9020793698020264\n",
      "Weighted F1 Dev:  0.8875093483404506\n",
      "Weighted F1 Test:  0.9068331479453273\n",
      "Macro F1 Train:  0.4207356744122493\n",
      "Macro F1 Dev:  0.41008265166822966\n",
      "Macro F1 Test:  0.44129671410880594\n",
      "Micro F1 Train:  0.9236886038133731\n",
      "Micro F1 Dev:  0.9113612381287373\n",
      "Micro F1 Test:  0.9251581166549543\n",
      "Weighted Recall Train:  0.9236886038133731\n",
      "Weighted Recall Dev:  0.9113612381287373\n",
      "Weighted Recall Test:  0.9251581166549543\n",
      "Macro Recall Train:  0.3945288226814824\n",
      "Macro Recall Dev:  0.38878330623802654\n",
      "Macro Recall Test:  0.4107623087800489\n",
      "Micro Recall Train:  0.9236886038133731\n",
      "Micro Recall Dev:  0.9113612381287373\n",
      "Micro Recall Test:  0.9251581166549543\n",
      "Confusion Matrix Train: \n",
      "[[  372  1590     0]\n",
      " [  125 20653     0]\n",
      " [    0    22     0]]\n",
      "Confusion Matrix Dev: \n",
      "[[  48  224    0]\n",
      " [  26 2543    0]\n",
      " [   0    2    0]]\n",
      "Confusion Matrix Test: \n",
      "[[  60  190    0]\n",
      " [  20 2573    0]\n",
      " [   0    3    0]]\n"
     ]
    }
   ],
   "source": [
    "computeAllScores(train_preds, dev_preds, test_preds)"
   ]
  },
  {
   "cell_type": "markdown",
   "metadata": {},
   "source": [
    "### Augmented Data Sentence Transformer Better"
   ]
  },
  {
   "cell_type": "code",
   "execution_count": 10,
   "metadata": {},
   "outputs": [],
   "source": [
    "train_aug, dev, test = load_sent_trans_augmented_no_pca()"
   ]
  },
  {
   "cell_type": "code",
   "execution_count": 11,
   "metadata": {},
   "outputs": [],
   "source": [
    "grid_results = gridsearch.fit(train_aug, train_augmented_labels)\n",
    "best_params = grid_results.best_params_\n",
    "gaussian_nb = grid_results.best_estimator_"
   ]
  },
  {
   "cell_type": "code",
   "execution_count": 12,
   "metadata": {},
   "outputs": [
    {
     "name": "stdout",
     "output_type": "stream",
     "text": [
      "{'var_smoothing': 0.0006579332246575676}\n"
     ]
    }
   ],
   "source": [
    "print(best_params)"
   ]
  },
  {
   "cell_type": "code",
   "execution_count": 13,
   "metadata": {},
   "outputs": [],
   "source": [
    "gaussian_nb = gaussian_nb.fit(train_aug, train_augmented_labels)\n",
    "save_model(gaussian_nb, \"gaussian_nb_sent_trans_augmented_no_pca.joblib\")"
   ]
  },
  {
   "cell_type": "code",
   "execution_count": 14,
   "metadata": {},
   "outputs": [],
   "source": [
    "train_preds = gaussian_nb.predict(train_aug)\n",
    "dev_preds = gaussian_nb.predict(dev)\n",
    "test_preds = gaussian_nb.predict(test)"
   ]
  },
  {
   "cell_type": "code",
   "execution_count": 15,
   "metadata": {},
   "outputs": [
    {
     "name": "stdout",
     "output_type": "stream",
     "text": [
      "Accuracy Train:  0.7885894955405597\n",
      "Accuracy Dev:  0.8121702427013718\n",
      "Accuracy Test:  0.7969079409697821\n",
      "Weighted F1 Train:  0.7943162086909704\n",
      "Weighted F1 Dev:  0.8452544573003199\n",
      "Weighted F1 Test:  0.8351981229701504\n",
      "Macro F1 Train:  0.5467917411549181\n",
      "Macro F1 Dev:  0.4436665799677379\n",
      "Macro F1 Test:  0.4214869589727905\n",
      "Micro F1 Train:  0.7885894955405597\n",
      "Micro F1 Dev:  0.8121702427013717\n",
      "Micro F1 Test:  0.7969079409697821\n",
      "Weighted Recall Train:  0.7885894955405597\n",
      "Weighted Recall Dev:  0.8121702427013718\n",
      "Weighted Recall Test:  0.7969079409697821\n",
      "Macro Recall Train:  0.7987953708692211\n",
      "Macro Recall Dev:  0.5143624207176059\n",
      "Macro Recall Test:  0.4939575780948708\n",
      "Micro Recall Train:  0.7885894955405597\n",
      "Micro Recall Dev:  0.8121702427013718\n",
      "Micro Recall Test:  0.7969079409697821\n",
      "Confusion Matrix Train: \n",
      "[[16430  4786   366]\n",
      " [ 3502 16974   302]\n",
      " [    1     3    18]]\n",
      "Confusion Matrix Dev: \n",
      "[[ 196   72    4]\n",
      " [ 418 2113   38]\n",
      " [   0    2    0]]\n",
      "Confusion Matrix Test: \n",
      "[[ 168   79    3]\n",
      " [ 455 2100   38]\n",
      " [   0    3    0]]\n"
     ]
    }
   ],
   "source": [
    "computeAllScores(train_preds, dev_preds, test_preds, aug=True)"
   ]
  },
  {
   "cell_type": "markdown",
   "metadata": {},
   "source": [
    "### Only 2 Class Augmented Data Sentence Transformer Better"
   ]
  },
  {
   "cell_type": "code",
   "execution_count": 16,
   "metadata": {},
   "outputs": [],
   "source": [
    "train, dev, test, train_labels, dev_labels, test_labels = load_only_2_class(\"sent_trans_augmented_no_pca\", True)"
   ]
  },
  {
   "cell_type": "code",
   "execution_count": 17,
   "metadata": {},
   "outputs": [],
   "source": [
    "train_labels = [label_replacement[label] for label in train_labels]\n",
    "dev_labels = [label_replacement[label] for label in dev_labels]\n",
    "test_labels = [label_replacement[label] for label in test_labels]"
   ]
  },
  {
   "cell_type": "code",
   "execution_count": 18,
   "metadata": {},
   "outputs": [],
   "source": [
    "grid_results = gridsearch.fit(train, train_labels)\n",
    "best_params = grid_results.best_params_\n",
    "gaussian_nb = grid_results.best_estimator_"
   ]
  },
  {
   "cell_type": "code",
   "execution_count": 19,
   "metadata": {},
   "outputs": [
    {
     "name": "stdout",
     "output_type": "stream",
     "text": [
      "{'var_smoothing': 0.0006579332246575676}\n"
     ]
    }
   ],
   "source": [
    "print(best_params)"
   ]
  },
  {
   "cell_type": "code",
   "execution_count": 20,
   "metadata": {},
   "outputs": [],
   "source": [
    "gaussian_nb = gaussian_nb.fit(train_aug, train_labels)\n",
    "save_model(gaussian_nb, \"gaussian_nb_sent_trans_augmented_no_pca_2_class.joblib\")"
   ]
  },
  {
   "cell_type": "code",
   "execution_count": 21,
   "metadata": {},
   "outputs": [],
   "source": [
    "train_preds = gaussian_nb.predict(train)\n",
    "dev_preds = gaussian_nb.predict(dev)\n",
    "test_preds = gaussian_nb.predict(test)"
   ]
  },
  {
   "cell_type": "code",
   "execution_count": 22,
   "metadata": {},
   "outputs": [
    {
     "name": "stdout",
     "output_type": "stream",
     "text": [
      "Accuracy Train:  0.7885894955405597\n",
      "Accuracy Dev:  0.8121702427013718\n",
      "Accuracy Test:  0.7969079409697821\n",
      "Weighted F1 Train:  0.7943162086909704\n",
      "Weighted F1 Dev:  0.8452544573003199\n",
      "Weighted F1 Test:  0.8351981229701504\n",
      "Macro F1 Train:  0.5467917411549181\n",
      "Macro F1 Dev:  0.4436665799677379\n",
      "Macro F1 Test:  0.4214869589727905\n",
      "Micro F1 Train:  0.7885894955405597\n",
      "Micro F1 Dev:  0.8121702427013717\n",
      "Micro F1 Test:  0.7969079409697821\n",
      "Weighted Recall Train:  0.7885894955405597\n",
      "Weighted Recall Dev:  0.8121702427013718\n",
      "Weighted Recall Test:  0.7969079409697821\n",
      "Macro Recall Train:  0.7987953708692211\n",
      "Macro Recall Dev:  0.5143624207176059\n",
      "Macro Recall Test:  0.4939575780948708\n",
      "Micro Recall Train:  0.7885894955405597\n",
      "Micro Recall Dev:  0.8121702427013718\n",
      "Micro Recall Test:  0.7969079409697821\n",
      "Confusion Matrix Train: \n",
      "[[16430  4786   366]\n",
      " [ 3502 16974   302]\n",
      " [    1     3    18]]\n",
      "Confusion Matrix Dev: \n",
      "[[ 196   72    4]\n",
      " [ 418 2113   38]\n",
      " [   0    2    0]]\n",
      "Confusion Matrix Test: \n",
      "[[ 168   79    3]\n",
      " [ 455 2100   38]\n",
      " [   0    3    0]]\n"
     ]
    }
   ],
   "source": [
    "computeAllScores(train_preds, dev_preds, test_preds, aug=True)"
   ]
  }
 ],
 "metadata": {
  "kernelspec": {
   "display_name": "Python 3.9.1 64-bit",
   "language": "python",
   "name": "python3"
  },
  "language_info": {
   "codemirror_mode": {
    "name": "ipython",
    "version": 3
   },
   "file_extension": ".py",
   "mimetype": "text/x-python",
   "name": "python",
   "nbconvert_exporter": "python",
   "pygments_lexer": "ipython3",
   "version": "3.9.1"
  },
  "orig_nbformat": 4,
  "vscode": {
   "interpreter": {
    "hash": "b8036f07cd5417c7187a91a95878ecc701a901071f70b01b87b4bc5de8f9f940"
   }
  }
 },
 "nbformat": 4,
 "nbformat_minor": 2
}
